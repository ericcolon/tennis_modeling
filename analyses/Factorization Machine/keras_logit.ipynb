{
 "cells": [
  {
   "cell_type": "code",
   "execution_count": 1,
   "metadata": {},
   "outputs": [
    {
     "name": "stderr",
     "output_type": "stream",
     "text": [
      "/Users/siddhantjagadish/Documents/DataProjects/tennis_modeling/tennis_modeling/lib/python2.7/site-packages/IPython/core/interactiveshell.py:2818: DtypeWarning: Columns (14) have mixed types. Specify dtype option on import or set low_memory=False.\n",
      "  if self.run_code(code, result):\n"
     ]
    }
   ],
   "source": [
    "from fetch.match_results import read_joined\n",
    "\n",
    "df, player_mapping, inverse_player_mapping = read_joined()"
   ]
  },
  {
   "cell_type": "code",
   "execution_count": 18,
   "metadata": {},
   "outputs": [
    {
     "data": {
      "text/plain": [
       "['__surface__',\n",
       " 'atp',\n",
       " 'avgl',\n",
       " 'avgw',\n",
       " 'b&wl',\n",
       " 'b&ww',\n",
       " 'b365l',\n",
       " 'b365w',\n",
       " 'best of',\n",
       " 'best_of_5',\n",
       " 'cbl',\n",
       " 'cbw',\n",
       " 'comeback_diff',\n",
       " 'comment',\n",
       " 'court',\n",
       " 'date',\n",
       " 'exl',\n",
       " 'exw',\n",
       " 'fatigue_diff',\n",
       " 'fatigue_diff*best_of_5',\n",
       " 'fatigue_games_diff',\n",
       " 'fatigue_games_diff*best_of_5',\n",
       " 'gbl',\n",
       " 'gbw',\n",
       " 'iwl',\n",
       " 'iww',\n",
       " 'l1',\n",
       " 'l2',\n",
       " 'l3',\n",
       " 'l4',\n",
       " 'l5',\n",
       " 'lbl',\n",
       " 'lbw',\n",
       " 'lgames',\n",
       " 'location',\n",
       " 'loser',\n",
       " 'lpts',\n",
       " 'lrank',\n",
       " 'lsets',\n",
       " 'match_id',\n",
       " 'maxl',\n",
       " 'maxw',\n",
       " 'p1',\n",
       " 'p1_b365',\n",
       " 'p1_fatigue_games',\n",
       " 'p1_fatigue_matches',\n",
       " 'p1_games',\n",
       " 'p1_idx',\n",
       " 'p1_last_retired',\n",
       " 'p1_name',\n",
       " 'p1_odds',\n",
       " 'p1_rank',\n",
       " 'p1_time_since_last_match',\n",
       " 'p2',\n",
       " 'p2_b365',\n",
       " 'p2_fatigue_games',\n",
       " 'p2_fatigue_matches',\n",
       " 'p2_games',\n",
       " 'p2_idx',\n",
       " 'p2_last_retired',\n",
       " 'p2_name',\n",
       " 'p2_odds',\n",
       " 'p2_rank',\n",
       " 'p2_time_since_last_match',\n",
       " 'player_x',\n",
       " 'player_y',\n",
       " 'psl',\n",
       " 'psw',\n",
       " 'retire_diff',\n",
       " 'round',\n",
       " 'sbl',\n",
       " 'sbw',\n",
       " 'series',\n",
       " 'sjl',\n",
       " 'sjw',\n",
       " 'surface',\n",
       " 'time_diff',\n",
       " 'total_games',\n",
       " 'tournament',\n",
       " 'ubl',\n",
       " 'ubw',\n",
       " 'unnamed: 0',\n",
       " 'unnamed: 1',\n",
       " 'unnamed: 2',\n",
       " 'unnamed: 3',\n",
       " 'unnamed: 4',\n",
       " 'w1',\n",
       " 'w2',\n",
       " 'w3',\n",
       " 'w4',\n",
       " 'w5',\n",
       " 'wgames',\n",
       " 'winner',\n",
       " 'wpts',\n",
       " 'wrank',\n",
       " 'wsets',\n",
       " 'y']"
      ]
     },
     "execution_count": 18,
     "metadata": {},
     "output_type": "execute_result"
    }
   ],
   "source": [
    "sorted(df.columns)"
   ]
  },
  {
   "cell_type": "code",
   "execution_count": 23,
   "metadata": {},
   "outputs": [
    {
     "data": {
      "text/html": [
       "<div>\n",
       "<table border=\"1\" class=\"dataframe\">\n",
       "  <thead>\n",
       "    <tr style=\"text-align: right;\">\n",
       "      <th></th>\n",
       "      <th>lrank</th>\n",
       "      <th>lpts</th>\n",
       "      <th>wrank</th>\n",
       "      <th>wpts</th>\n",
       "    </tr>\n",
       "  </thead>\n",
       "  <tbody>\n",
       "    <tr>\n",
       "      <th>46522</th>\n",
       "      <td>95.0</td>\n",
       "      <td>639.0</td>\n",
       "      <td>8.0</td>\n",
       "      <td>3345.0</td>\n",
       "    </tr>\n",
       "    <tr>\n",
       "      <th>46523</th>\n",
       "      <td>22.0</td>\n",
       "      <td>1757.0</td>\n",
       "      <td>43.0</td>\n",
       "      <td>1128.0</td>\n",
       "    </tr>\n",
       "    <tr>\n",
       "      <th>46524</th>\n",
       "      <td>9.0</td>\n",
       "      <td>3125.0</td>\n",
       "      <td>3.0</td>\n",
       "      <td>5195.0</td>\n",
       "    </tr>\n",
       "    <tr>\n",
       "      <th>46525</th>\n",
       "      <td>43.0</td>\n",
       "      <td>1128.0</td>\n",
       "      <td>3.0</td>\n",
       "      <td>5195.0</td>\n",
       "    </tr>\n",
       "    <tr>\n",
       "      <th>46526</th>\n",
       "      <td>7.0</td>\n",
       "      <td>3545.0</td>\n",
       "      <td>3.0</td>\n",
       "      <td>5195.0</td>\n",
       "    </tr>\n",
       "  </tbody>\n",
       "</table>\n",
       "</div>"
      ],
      "text/plain": [
       "       lrank    lpts  wrank    wpts\n",
       "46522   95.0   639.0    8.0  3345.0\n",
       "46523   22.0  1757.0   43.0  1128.0\n",
       "46524    9.0  3125.0    3.0  5195.0\n",
       "46525   43.0  1128.0    3.0  5195.0\n",
       "46526    7.0  3545.0    3.0  5195.0"
      ]
     },
     "execution_count": 23,
     "metadata": {},
     "output_type": "execute_result"
    }
   ],
   "source": [
    "df[['lrank', 'lpts', 'wrank', 'wpts']].tail()"
   ]
  },
  {
   "cell_type": "code",
   "execution_count": 2,
   "metadata": {},
   "outputs": [
    {
     "name": "stdout",
     "output_type": "stream",
     "text": [
      "Removing walkovers...\n",
      "Filtering dates and splitting...\n"
     ]
    }
   ],
   "source": [
    "from fetch.helpers import get_train_test_split\n",
    "\n",
    "train, test = get_train_test_split(\n",
    "    df,\n",
    "    '2015-01-01',\n",
    "    min_train_date=None,\n",
    "    max_test_date='2017-01-01',\n",
    "    test_surface='Hard'\n",
    ")"
   ]
  },
  {
   "cell_type": "code",
   "execution_count": 3,
   "metadata": {},
   "outputs": [],
   "source": [
    "from models.logit.base import get_X_y\n",
    "\n",
    "train_X, train_y = get_X_y(train, player_mapping)\n",
    "test_X, test_y = get_X_y(test, player_mapping)"
   ]
  },
  {
   "cell_type": "code",
   "execution_count": 4,
   "metadata": {},
   "outputs": [],
   "source": [
    "dense_train_X = train_X.todense()"
   ]
  },
  {
   "cell_type": "code",
   "execution_count": 5,
   "metadata": {},
   "outputs": [],
   "source": [
    "dense_test_X = test_X.todense()"
   ]
  },
  {
   "cell_type": "code",
   "execution_count": 6,
   "metadata": {},
   "outputs": [
    {
     "data": {
      "text/plain": [
       "387.2566223144531"
      ]
     },
     "execution_count": 6,
     "metadata": {},
     "output_type": "execute_result"
    }
   ],
   "source": [
    "dense_train_X.nbytes / (1024. * 1024.)"
   ]
  },
  {
   "cell_type": "markdown",
   "metadata": {},
   "source": [
    "387 MB, so that's fine..."
   ]
  },
  {
   "cell_type": "markdown",
   "metadata": {},
   "source": [
    "#### First, Fit Logit Through SKLearn\n",
    "Tune L2 regularization penalty..."
   ]
  },
  {
   "cell_type": "code",
   "execution_count": 12,
   "metadata": {
    "scrolled": true
   },
   "outputs": [
    {
     "name": "stdout",
     "output_type": "stream",
     "text": [
      "(1e-05, 0.7038314525138424)\n",
      "(1.2618568830660211e-05, 0.7038381155232573)\n",
      "(1.5922827933410938e-05, 0.7038381155232573)\n",
      "(2.0092330025650458e-05, 0.7038381155232573)\n",
      "(2.5353644939701114e-05, 0.7038381155232573)\n",
      "(3.199267137797385e-05, 0.7038414470279647)\n",
      "(4.037017258596558e-05, 0.703843668031103)\n",
      "(5.0941380148163754e-05, 0.7038514415420869)\n",
      "(6.428073117284319e-05, 0.7038669885640548)\n",
      "(8.111308307896872e-05, 0.7038903090970068)\n",
      "(0.00010235310218990269, 0.7039252898964348)\n",
      "(0.0001291549665014884, 0.7039486104293865)\n",
      "(0.00016297508346206434, 0.7040219035329497)\n",
      "(0.00020565123083486514, 0.7041051911506351)\n",
      "(0.00025950242113997375, 0.704191810273028)\n",
      "(0.00032745491628777284, 0.7044316786119618)\n",
      "(0.00041320124001153346, 0.7046648839414811)\n",
      "(0.0005214008287999684, 0.7049413988321965)\n",
      "(0.0006579332246575682, 0.7053145273594272)\n",
      "(0.0008302175681319744, 0.7056554513411527)\n",
      "(0.001047615752789665, 0.7059719442883572)\n",
      "(0.0013219411484660286, 0.7065238635682192)\n",
      "(0.0016681005372000592, 0.7071102083967244)\n",
      "(0.00210490414451202, 0.7078686809684462)\n",
      "(0.0026560877829466868, 0.7086593580856729)\n",
      "(0.003351602650938841, 0.7095499803441222)\n",
      "(0.0042292428743894986, 0.7106693659258141)\n",
      "(0.005336699231206307, 0.7119986363040731)\n",
      "(0.006734150657750821, 0.7134023102874644)\n",
      "(0.008497534359086439, 0.7148215312928237)\n",
      "(0.010722672220103232, 0.7164506370947503)\n",
      "(0.013530477745798061, 0.7182107820818351)\n",
      "(0.017073526474706904, 0.7199742585736273)\n",
      "(0.021544346900318846, 0.72155672330965)\n",
      "(0.027185882427329403, 0.723101430992322)\n",
      "(0.03430469286314919, 0.7245195414961121)\n",
      "(0.04328761281083057, 0.7259287679873492)\n",
      "(0.05462277217684343, 0.7272891324095441)\n",
      "(0.06892612104349695, 0.7284429435398792)\n",
      "(0.08697490026177834, 0.7294768205007474)\n",
      "(0.10974987654930568, 0.7304951504396475)\n",
      "(0.13848863713938717, 0.7316678400966581)\n",
      "(0.1747528400007683, 0.7327006065559571)\n",
      "(0.22051307399030456, 0.7335812343002841)\n",
      "(0.2782559402207126, 0.734045423956184)\n",
      "(0.3511191734215127, 0.7344629725461803)\n",
      "(0.44306214575838776, 0.7351459310112005)\n",
      "(0.5590810182512223, 0.7353646998203208)\n",
      "(0.7054802310718645, 0.7352614231743908)\n",
      "(0.8902150854450392, 0.7349582562460161)\n",
      "(1.1233240329780265, 0.7346884043647153)\n",
      "(1.4174741629268048, 0.7343197178437614)\n",
      "(1.7886495290574351, 0.7338422021690317)\n",
      "(2.2570197196339215, 0.7331736802244102)\n",
      "(2.848035868435799, 0.7324163181542576)\n",
      "(3.593813663804626, 0.7316656190935198)\n",
      "(4.534878508128582, 0.7307005932299382)\n",
      "(5.72236765935022, 0.7297644404071543)\n",
      "(7.220809018385457, 0.7288238455780938)\n",
      "(9.111627561154886, 0.7278210626611615)\n",
      "(11.497569953977356, 0.72695931344351)\n",
      "(14.508287784959402, 0.7261697468278523)\n",
      "(18.30738280295366, 0.7253712961996415)\n",
      "(23.10129700083158, 0.7247149897722804)\n",
      "(29.150530628251758, 0.72413530795319)\n",
      "(36.783797718286344, 0.7235056535634885)\n",
      "(46.41588833612782, 0.7229870493307007)\n",
      "(58.57020818056661, 0.7224684450979129)\n",
      "(73.90722033525775, 0.7220464545016402)\n",
      "(93.26033468832199, 0.7215878173535859)\n",
      "(117.68119524349991, 0.7212335673530308)\n",
      "(148.49682622544634, 0.720851554813247)\n",
      "(187.3817422860383, 0.7205039678221066)\n",
      "(236.4489412645407, 0.7202296739345292)\n",
      "(298.364724028334, 0.7199864740908879)\n",
      "(376.49358067924635, 0.7197799207990282)\n",
      "(475.0810162102793, 0.7195056269114508)\n",
      "(599.4842503189409, 0.7191935759705228)\n",
      "(756.463327554629, 0.7189714756566951)\n",
      "(954.5484566618328, 0.7188060109228934)\n",
      "(1204.5035402587837, 0.7186416566906609)\n",
      "(1519.9110829529332, 0.718498401988242)\n",
      "(1917.910261672485, 0.7183984568470195)\n",
      "(2420.1282647943835, 0.7182985117057972)\n",
      "(3053.8555088334124, 0.7182163345896809)\n",
      "(3853.5285937105355, 0.7181363784767028)\n",
      "(4862.601580065353, 0.7180664168778471)\n",
      "(6135.907273413163, 0.7180242178182198)\n",
      "(7742.636826811277, 0.7179942342758531)\n",
      "(9770.099572992247, 0.7179709137429011)\n",
      "(12328.467394420633, 0.7179342671911195)\n",
      "(15556.761439304722, 0.7179164991660134)\n",
      "(19630.406500402685, 0.7178909576299232)\n",
      "(24770.76355991714, 0.7178887366267849)\n",
      "(31257.15849688235, 0.7175566966576123)\n",
      "(39442.06059437648, 0.7175355971277987)\n",
      "(49770.23564332114, 0.7175278236168149)\n",
      "(62802.914418342465, 0.7175178291026926)\n",
      "(79248.28983539186, 0.7175089450901394)\n",
      "(100000.0, 0.7174967295728788)\n"
     ]
    }
   ],
   "source": [
    "import numpy as np\n",
    "from sklearn.metrics import roc_auc_score\n",
    "from sklearn.linear_model import LogisticRegression\n",
    "\n",
    "out = []\n",
    "for exp in np.linspace(-5, 5, 100):\n",
    "    C = 10 ** exp\n",
    "    logit = LogisticRegression(C=C, fit_intercept=False)\n",
    "    logit.fit(train_X, train_y)\n",
    "    test_preds = zip(*logit.predict_proba(test_X))[1]\n",
    "    auc = roc_auc_score(test_y, test_preds)\n",
    "    print (C, auc)\n",
    "    out.append((C, auc))"
   ]
  },
  {
   "cell_type": "code",
   "execution_count": 14,
   "metadata": {},
   "outputs": [
    {
     "data": {
      "text/plain": [
       "Text(0,0.5,'AUC')"
      ]
     },
     "execution_count": 14,
     "metadata": {},
     "output_type": "execute_result"
    },
    {
     "data": {
      "image/png": "[encoded data removed]",
      "text/plain": [
       "<Figure size 432x288 with 1 Axes>"
      ]
     },
     "metadata": {},
     "output_type": "display_data"
    }
   ],
   "source": [
    "%matplotlib inline\n",
    "from matplotlib import pyplot as plt\n",
    "import pandas as pd\n",
    "\n",
    "tuning_df = pd.DataFrame(out, columns=['C', 'auc'])\n",
    "plt.plot(np.log(tuning_df['C']) / np.log(10), tuning_df['auc'])\n",
    "plt.xlabel(\"C\")\n",
    "plt.ylabel(\"AUC\")"
   ]
  },
  {
   "cell_type": "code",
   "execution_count": 15,
   "metadata": {},
   "outputs": [
    {
     "name": "stderr",
     "output_type": "stream",
     "text": [
      "/Users/siddhantjagadish/Documents/DataProjects/tennis_modeling/tennis_modeling/lib/python2.7/site-packages/ipykernel_launcher.py:1: FutureWarning: sort(columns=....) is deprecated, use sort_values(by=.....)\n",
      "  \"\"\"Entry point for launching an IPython kernel.\n"
     ]
    },
    {
     "data": {
      "text/html": [
       "<div>\n",
       "<table border=\"1\" class=\"dataframe\">\n",
       "  <thead>\n",
       "    <tr style=\"text-align: right;\">\n",
       "      <th></th>\n",
       "      <th>C</th>\n",
       "      <th>auc</th>\n",
       "    </tr>\n",
       "  </thead>\n",
       "  <tbody>\n",
       "    <tr>\n",
       "      <th>47</th>\n",
       "      <td>0.559081</td>\n",
       "      <td>0.735365</td>\n",
       "    </tr>\n",
       "    <tr>\n",
       "      <th>48</th>\n",
       "      <td>0.705480</td>\n",
       "      <td>0.735261</td>\n",
       "    </tr>\n",
       "    <tr>\n",
       "      <th>46</th>\n",
       "      <td>0.443062</td>\n",
       "      <td>0.735146</td>\n",
       "    </tr>\n",
       "    <tr>\n",
       "      <th>49</th>\n",
       "      <td>0.890215</td>\n",
       "      <td>0.734958</td>\n",
       "    </tr>\n",
       "    <tr>\n",
       "      <th>50</th>\n",
       "      <td>1.123324</td>\n",
       "      <td>0.734688</td>\n",
       "    </tr>\n",
       "  </tbody>\n",
       "</table>\n",
       "</div>"
      ],
      "text/plain": [
       "           C       auc\n",
       "47  0.559081  0.735365\n",
       "48  0.705480  0.735261\n",
       "46  0.443062  0.735146\n",
       "49  0.890215  0.734958\n",
       "50  1.123324  0.734688"
      ]
     },
     "execution_count": 15,
     "metadata": {},
     "output_type": "execute_result"
    }
   ],
   "source": [
    "tuning_df.sort('auc', ascending=False).head()"
   ]
  },
  {
   "cell_type": "markdown",
   "metadata": {},
   "source": [
    "#### Now, Replicate Logit through Keras"
   ]
  },
  {
   "cell_type": "code",
   "execution_count": null,
   "metadata": {},
   "outputs": [],
   "source": [
    "from keras.metrics import binary_accuracy\n",
    "from keras.models import Model\n",
    "from keras import layers\n",
    "\n",
    "\n",
    "N_PLAYERS = len(player_mapping)\n",
    "\n",
    "input_layer = layers.Input(shape=(N_PLAYERS,))\n",
    "hidden_layer = layers.Dense(1, activation='linear', use_bias=False)(input_layer)\n",
    "output = layers.Dense(1, activation='sigmoid', use_bias=False)(hidden_layer)\n",
    "\n",
    "model = Model(inputs=input_layer, outputs=output)\n",
    "model.compile(\n",
    "    optimizer='sgd',\n",
    "    loss='binary_crossentropy',\n",
    "    metrics=[binary_accuracy]\n",
    ")"
   ]
  },
  {
   "cell_type": "code",
   "execution_count": null,
   "metadata": {},
   "outputs": [],
   "source": [
    "from keras.callbacks import EarlyStopping\n",
    "\n",
    "model.fit(\n",
    "    x=dense_train_X,\n",
    "    y=train_y,\n",
    "    batch_size=1000,\n",
    "    epochs=1000,\n",
    "    verbose=1,\n",
    "    validation_data=(dense_test_X, test_y),\n",
    "    callbacks=[EarlyStopping(monitor='loss', min_delta=0.000000001)],\n",
    "    shuffle=True\n",
    ")"
   ]
  },
  {
   "cell_type": "code",
   "execution_count": null,
   "metadata": {},
   "outputs": [],
   "source": [
    "from sklearn.metrics import roc_auc_score\n",
    "\n",
    "preds = model.predict(test_X)\n",
    "roc_auc_score(test_y, preds)"
   ]
  },
  {
   "cell_type": "code",
   "execution_count": null,
   "metadata": {},
   "outputs": [],
   "source": [
    "# Accuracy from just using rank\n",
    "(test['y'] == (test['p1_rank'] < test['p2_rank']).astype(int)).mean()"
   ]
  },
  {
   "cell_type": "markdown",
   "metadata": {},
   "source": [
    "Accuracy from ranks is pretty good -- is this an unfair comparison with our model though?  The ranks update over time..."
   ]
  },
  {
   "cell_type": "markdown",
   "metadata": {},
   "source": [
    "#### Now, Include Interaction Terms...\n",
    "Now, we see if we can improve the performance of our model by including player-loading-derived interaction terms..."
   ]
  }
 ],
 "metadata": {
  "kernelspec": {
   "display_name": "Python 2",
   "language": "python",
   "name": "python2"
  },
  "language_info": {
   "codemirror_mode": {
    "name": "ipython",
    "version": 2
   },
   "file_extension": ".py",
   "mimetype": "text/x-python",
   "name": "python",
   "nbconvert_exporter": "python",
   "pygments_lexer": "ipython2",
   "version": "2.7.10"
  }
 },
 "nbformat": 4,
 "nbformat_minor": 2
}
