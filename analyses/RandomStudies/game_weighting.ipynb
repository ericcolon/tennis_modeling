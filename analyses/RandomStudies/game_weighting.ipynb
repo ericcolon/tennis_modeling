{
 "cells": [
  {
   "cell_type": "code",
   "execution_count": 1,
   "metadata": {},
   "outputs": [
    {
     "name": "stderr",
     "output_type": "stream",
     "text": [
      "/Users/siddhantjagadish/Documents/DataProjects/tennis_modeling/tennis_modeling/lib/python2.7/site-packages/IPython/core/interactiveshell.py:2818: DtypeWarning: Columns (14) have mixed types. Specify dtype option on import or set low_memory=False.\n",
      "  if self.run_code(code, result):\n"
     ]
    }
   ],
   "source": [
    "from fetch.match_results import read_joined\n",
    "\n",
    "df, player_mapping, inverse_player_mapping = read_joined()"
   ]
  },
  {
   "cell_type": "code",
   "execution_count": 2,
   "metadata": {},
   "outputs": [],
   "source": [
    "MIN_TRAIN_DATE = '2004-01-01'\n",
    "MIN_TEST_DATE = '2016-01-01'\n",
    "MAX_TEST_DATE = '2017-01-01'\n",
    "\n",
    "train_df = df[\n",
    "    (df['date'] >= MIN_TRAIN_DATE) &\n",
    "    (df['date'] < MIN_TEST_DATE)\n",
    "].copy()\n",
    "test_df = df[\n",
    "    (df['date'] >= MIN_TEST_DATE) &\n",
    "    (df['date'] < MAX_TEST_DATE) &\n",
    "    (df['__surface__'] == 'Hard') &\n",
    "    (~df['comment'].isin(['Retired', 'Walkover']))\n",
    "].copy()"
   ]
  },
  {
   "cell_type": "code",
   "execution_count": 3,
   "metadata": {},
   "outputs": [],
   "source": [
    "from models.logit.base import get_X_y\n",
    "\n",
    "train_X, train_y = get_X_y(train_df, player_mapping)\n",
    "test_X, test_y = get_X_y(test_df, player_mapping)"
   ]
  },
  {
   "cell_type": "code",
   "execution_count": 4,
   "metadata": {},
   "outputs": [],
   "source": [
    "from models.logit.base import sipko_weights\n",
    "\n",
    "DISCOUNT = 0.8\n",
    "FLAT_TIME = 1.0\n",
    "PRIOR = 0.\n",
    "LMBDA = 1.\n",
    "\n",
    "time_weights = sipko_weights(\n",
    "    train_df['date'].max(),\n",
    "    train_df,\n",
    "    DISCOUNT,\n",
    "    flat_time=FLAT_TIME\n",
    ")\n",
    "surface_weights = train_df['__surface__'].map(\n",
    "    lambda x: {\n",
    "        'Hard': 1.0,\n",
    "        'Clay': 0.8,\n",
    "        'Grass': 1.0,\n",
    "        'Indoor': 1.0 \n",
    "    }[x]\n",
    ")\n",
    "sample_weights = time_weights * surface_weights"
   ]
  },
  {
   "cell_type": "code",
   "execution_count": 5,
   "metadata": {},
   "outputs": [],
   "source": [
    "def get_game_weights(df, alpha=1.):\n",
    "    game_percentage = df['wgames'] / df['total_games']\n",
    "    return (alpha * game_percentage + (1 - alpha) * game_percentage.mean())\n",
    "    # return df['wgames'] / df['total_games']"
   ]
  },
  {
   "cell_type": "code",
   "execution_count": 6,
   "metadata": {},
   "outputs": [
    {
     "data": {
      "text/plain": [
       "<matplotlib.axes._subplots.AxesSubplot at 0x109671f50>"
      ]
     },
     "execution_count": 6,
     "metadata": {},
     "output_type": "execute_result"
    },
    {
     "data": {
      "image/png": "[encoded data removed]",
      "text/plain": [
       "<Figure size 432x288 with 1 Axes>"
      ]
     },
     "metadata": {},
     "output_type": "display_data"
    }
   ],
   "source": [
    "%matplotlib inline\n",
    "get_game_weights(train_df, alpha=1.).hist(bins=100)"
   ]
  },
  {
   "cell_type": "code",
   "execution_count": 7,
   "metadata": {},
   "outputs": [
    {
     "name": "stdout",
     "output_type": "stream",
     "text": [
      "0.0\n",
      "0.05\n",
      "0.1\n",
      "0.15\n",
      "0.2\n",
      "0.25\n",
      "0.3\n",
      "0.35\n",
      "0.4\n",
      "0.45\n",
      "0.5\n",
      "0.55\n",
      "0.6\n",
      "0.65\n",
      "0.7\n",
      "0.75\n",
      "0.8\n",
      "0.85\n",
      "0.9\n",
      "0.95\n",
      "1.0\n"
     ]
    }
   ],
   "source": [
    "import numpy as np\n",
    "from sklearn.linear_model import LogisticRegression\n",
    "from sklearn.metrics import roc_auc_score\n",
    "\n",
    "out = []\n",
    "for alpha in np.linspace(0, 1, 21):\n",
    "    print alpha\n",
    "    game_weights = get_game_weights(train_df, alpha=alpha)\n",
    "    my_weights = sample_weights * game_weights\n",
    "    logit = LogisticRegression(C=0.4)\n",
    "    logit.fit(train_X, train_y, sample_weight=my_weights)\n",
    "    logit.coef_\n",
    "    preds = logit.predict_proba(test_X)[:, 1]\n",
    "    auc = roc_auc_score(test_y, preds)\n",
    "    out.append((alpha, auc))"
   ]
  },
  {
   "cell_type": "code",
   "execution_count": 8,
   "metadata": {},
   "outputs": [
    {
     "data": {
      "text/plain": [
       "[<matplotlib.lines.Line2D at 0x1080d3350>]"
      ]
     },
     "execution_count": 8,
     "metadata": {},
     "output_type": "execute_result"
    },
    {
     "data": {
      "image/png": "[encoded data removed]",
      "text/plain": [
       "<Figure size 432x288 with 1 Axes>"
      ]
     },
     "metadata": {},
     "output_type": "display_data"
    }
   ],
   "source": [
    "from matplotlib import pyplot as plt\n",
    "\n",
    "\n",
    "plt.plot(zip(*out)[0], zip(*out)[1])"
   ]
  },
  {
   "cell_type": "markdown",
   "metadata": {},
   "source": [
    "#### Player Weights "
   ]
  },
  {
   "cell_type": "code",
   "execution_count": null,
   "metadata": {},
   "outputs": [],
   "source": [
    "from collections import Counter\n",
    "\n",
    "win_counts = Counter(dict(train_df['winner'].value_counts()))\n",
    "lose_counts = Counter(dict(train_df['loser'].value_counts()))\n",
    "player_counts = win_counts + lose_counts\n",
    "train_df['p1_count'] = train_df['p1'].map(lambda x: player_counts[x])\n",
    "train_df['p2_count'] = train_df['p2'].map(lambda x: player_counts[x])\n",
    "\n",
    "def get_player_weights(df, alpha):\n",
    "    return (df['p1_count'] ** alpha) * (df['p2_count'] ** alpha)"
   ]
  },
  {
   "cell_type": "code",
   "execution_count": null,
   "metadata": {
    "scrolled": true
   },
   "outputs": [],
   "source": [
    "out = []\n",
    "for alpha in np.linspace(-2, 2, 51):\n",
    "    print alpha\n",
    "    player_weights = get_player_weights(train_df, alpha) \n",
    "    my_weights = sample_weights * game_weights\n",
    "    logit = LogisticRegression(C=0.4)\n",
    "    logit.fit(train_X, train_y, sample_weight=player_weights)\n",
    "    logit.coef_\n",
    "    preds = logit.predict_proba(test_X)[:, 1]\n",
    "    auc = roc_auc_score(test_y, preds)\n",
    "    out.append((alpha, auc))"
   ]
  },
  {
   "cell_type": "code",
   "execution_count": null,
   "metadata": {},
   "outputs": [],
   "source": [
    "out"
   ]
  },
  {
   "cell_type": "code",
   "execution_count": null,
   "metadata": {},
   "outputs": [],
   "source": [
    "from matplotlib import pyplot as plt\n",
    "\n",
    "plt.plot(zip(*out)[0], zip(*out)[1])"
   ]
  },
  {
   "cell_type": "markdown",
   "metadata": {},
   "source": [
    "#### Try sets instead of games"
   ]
  },
  {
   "cell_type": "code",
   "execution_count": 12,
   "metadata": {},
   "outputs": [],
   "source": [
    "def get_set_weights(df, alpha=1.):    \n",
    "    set_percentage = df['wsets'] / (df['wsets'] + df['lsets'])\n",
    "    # ret_weights = (alpha * set_percentage + (1 - alpha) * set_percentage.mean())\n",
    "    set_percentage[\n",
    "        (df['wsets'] == 0) |\n",
    "        (df['comment'].isin(('Retired', 'Walkover')))\n",
    "    ] = set_percentage.mean()\n",
    "    ret_weights = np.power(set_percentage, alpha)\n",
    "    return ret_weights"
   ]
  },
  {
   "cell_type": "code",
   "execution_count": 14,
   "metadata": {},
   "outputs": [],
   "source": [
    "set_weights = get_set_weights(train_df)"
   ]
  },
  {
   "cell_type": "code",
   "execution_count": 15,
   "metadata": {},
   "outputs": [
    {
     "data": {
      "text/plain": [
       "<matplotlib.axes._subplots.AxesSubplot at 0x10828da50>"
      ]
     },
     "execution_count": 15,
     "metadata": {},
     "output_type": "execute_result"
    },
    {
     "data": {
      "image/png": "[encoded data removed]",
      "text/plain": [
       "<Figure size 432x288 with 1 Axes>"
      ]
     },
     "metadata": {},
     "output_type": "display_data"
    }
   ],
   "source": [
    "set_weights.hist(bins=100)"
   ]
  },
  {
   "cell_type": "code",
   "execution_count": 16,
   "metadata": {},
   "outputs": [
    {
     "name": "stdout",
     "output_type": "stream",
     "text": [
      "-1.0\n",
      "-0.95\n",
      "-0.9\n",
      "-0.85\n",
      "-0.8\n",
      "-0.75\n",
      "-0.7\n",
      "-0.65\n",
      "-0.6\n",
      "-0.55\n",
      "-0.5\n",
      "-0.45\n",
      "-0.4\n",
      "-0.35\n",
      "-0.3\n",
      "-0.25\n",
      "-0.2\n",
      "-0.15\n",
      "-0.1\n",
      "-0.05\n",
      "0.0\n",
      "0.05\n",
      "0.1\n",
      "0.15\n",
      "0.2\n",
      "0.25\n",
      "0.3\n",
      "0.35\n",
      "0.4\n",
      "0.45\n",
      "0.5\n",
      "0.55\n",
      "0.6\n",
      "0.65\n",
      "0.7\n",
      "0.75\n",
      "0.8\n",
      "0.85\n",
      "0.9\n",
      "0.95\n",
      "1.0\n"
     ]
    }
   ],
   "source": [
    "out = []\n",
    "for alpha in np.linspace(-1, 1, 41):\n",
    "    print alpha\n",
    "    set_weights = get_set_weights(train_df, alpha)\n",
    "    logit = LogisticRegression(C=0.4)\n",
    "    logit.fit(train_X, train_y, sample_weight=set_weights)\n",
    "    logit.coef_\n",
    "    preds = logit.predict_proba(test_X)[:, 1]\n",
    "    auc = roc_auc_score(test_y, preds)\n",
    "    out.append((alpha, auc))"
   ]
  },
  {
   "cell_type": "code",
   "execution_count": 17,
   "metadata": {},
   "outputs": [
    {
     "data": {
      "text/plain": [
       "[<matplotlib.lines.Line2D at 0x10bfad450>]"
      ]
     },
     "execution_count": 17,
     "metadata": {},
     "output_type": "execute_result"
    },
    {
     "data": {
      "image/png": "[encoded data removed]",
      "text/plain": [
       "<Figure size 432x288 with 1 Axes>"
      ]
     },
     "metadata": {},
     "output_type": "display_data"
    }
   ],
   "source": [
    "from matplotlib import pyplot as plt\n",
    "\n",
    "\n",
    "plt.plot(zip(*out)[0], zip(*out)[1])"
   ]
  },
  {
   "cell_type": "code",
   "execution_count": 18,
   "metadata": {},
   "outputs": [
    {
     "data": {
      "text/plain": [
       "[(-1.0, 0.73578780918425069),\n",
       " (-0.94999999999999996, 0.73589922693224086),\n",
       " (-0.90000000000000002, 0.73595922110423562),\n",
       " (-0.84999999999999998, 0.73596779170023474),\n",
       " (-0.80000000000000004, 0.73604492706422808),\n",
       " (-0.75, 0.7360963506402235),\n",
       " (-0.69999999999999996, 0.73611777713022164),\n",
       " (-0.64999999999999991, 0.73612206242822142),\n",
       " (-0.59999999999999998, 0.73610920653422229),\n",
       " (-0.55000000000000004, 0.73611777713022164),\n",
       " (-0.5, 0.73619491249421487),\n",
       " (-0.44999999999999996, 0.73617348600421673),\n",
       " (-0.39999999999999991, 0.73626347726220875),\n",
       " (-0.34999999999999998, 0.73632775673220319),\n",
       " (-0.29999999999999993, 0.73632775673220308),\n",
       " (-0.25, 0.73626347726220875),\n",
       " (-0.19999999999999996, 0.73640060679819674),\n",
       " (-0.14999999999999991, 0.73628918905020657),\n",
       " (-0.099999999999999978, 0.73625490666620963),\n",
       " (-0.049999999999999933, 0.7362720478582081),\n",
       " (0.0, 0.73620776838821378),\n",
       " (0.050000000000000044, 0.73617348600421673),\n",
       " (0.10000000000000009, 0.7361777713022164),\n",
       " (0.15000000000000013, 0.73608778004422426),\n",
       " (0.20000000000000018, 0.73607920944822491),\n",
       " (0.25, 0.73601492997823059),\n",
       " (0.30000000000000004, 0.73594207991223703),\n",
       " (0.35000000000000009, 0.73589065633624151),\n",
       " (0.40000000000000013, 0.73584351805824577),\n",
       " (0.45000000000000018, 0.73585637395224468),\n",
       " (0.5, 0.73583066216424675),\n",
       " (0.55000000000000004, 0.7357449562042544),\n",
       " (0.60000000000000009, 0.73565496494626237),\n",
       " (0.65000000000000013, 0.73562496786026499),\n",
       " (0.70000000000000018, 0.73553497660227296),\n",
       " (0.75, 0.73548783832427711),\n",
       " (0.80000000000000004, 0.73544070004628126),\n",
       " (0.85000000000000009, 0.73517072627230484),\n",
       " (0.90000000000000013, 0.73519643806030266),\n",
       " (0.95000000000000018, 0.73514072918630757),\n",
       " (1.0, 0.73512787329230878)]"
      ]
     },
     "execution_count": 18,
     "metadata": {},
     "output_type": "execute_result"
    }
   ],
   "source": [
    "out"
   ]
  }
 ],
 "metadata": {
  "kernelspec": {
   "display_name": "Python 2",
   "language": "python",
   "name": "python2"
  },
  "language_info": {
   "codemirror_mode": {
    "name": "ipython",
    "version": 2
   },
   "file_extension": ".py",
   "mimetype": "text/x-python",
   "name": "python",
   "nbconvert_exporter": "python",
   "pygments_lexer": "ipython2",
   "version": "2.7.10"
  }
 },
 "nbformat": 4,
 "nbformat_minor": 2
}
