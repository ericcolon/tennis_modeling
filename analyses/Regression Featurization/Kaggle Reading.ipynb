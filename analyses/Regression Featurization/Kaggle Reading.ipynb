{
 "cells": [
  {
   "cell_type": "markdown",
   "metadata": {},
   "source": [
    "In this noteboook, I read in the Kaggle dataset.  Our goal is to have regressions to create scores for our players at each of the following features:\n",
    "\n",
    "* Ace percentage (server and returner)\n",
    "* 1st serve percentage (server and returner(?))\n",
    "    * Not clear that returner's quality affects the pct of 1st serves in\n",
    "* 1st serve point quality (server and returner)\n",
    "* 2nd serve percentage (server and returner(?))\n",
    "    * Not clear that returner's quality affects pct of 1st serves in\n",
    "* 2nd serve point quality (server and returner)\n",
    "\n",
    "\n",
    "#### TODO:\n",
    "* Make this logistic regression instead of linear regression\n",
    "* Tune weight\n",
    "* Tune surface weights"
   ]
  },
  {
   "cell_type": "code",
   "execution_count": 1,
   "metadata": {},
   "outputs": [
    {
     "name": "stderr",
     "output_type": "stream",
     "text": [
      "/Users/siddhantjagadish/Documents/DataProjects/tennis_modeling/tennis_modeling/lib/python2.7/site-packages/IPython/core/interactiveshell.py:2818: DtypeWarning: Columns (9,19) have mixed types. Specify dtype option on import or set low_memory=False.\n",
      "  if self.run_code(code, result):\n"
     ]
    }
   ],
   "source": [
    "from fetch.kaggle import parse_atp_data\n",
    "\n",
    "df = parse_atp_data()"
   ]
  },
  {
   "cell_type": "code",
   "execution_count": 2,
   "metadata": {},
   "outputs": [],
   "source": [
    "MIN_TEST_DATE = '2015-01-01'\n",
    "MAX_TEST_DATE = '2017-01-01'\n",
    "\n",
    "train_df = df[\n",
    "    (df['tourney_date'] < MIN_TEST_DATE) &\n",
    "    (df['surface'] == 'Hard')  # TODO: Surface weights\n",
    "].copy()\n",
    "test_df = df[\n",
    "    (df['tourney_date'] > MIN_TEST_DATE) &\n",
    "    (df['tourney_date'] < MAX_TEST_DATE) &\n",
    "    (df['surface'] == 'Hard')  # TODO: Surface Weights\n",
    "].copy()"
   ]
  },
  {
   "cell_type": "code",
   "execution_count": 3,
   "metadata": {},
   "outputs": [],
   "source": [
    "import pandas as pd\n",
    "\n",
    "# Get player map\n",
    "part1 = df[['winner_id', 'winner_name']].drop_duplicates('winner_id')\n",
    "part2 = df[['loser_id', 'loser_name']].drop_duplicates('loser_id')\n",
    "part1.rename(columns={'winner_id': 'player_id', 'winner_name': 'player_name'}, inplace=True)\n",
    "part2.rename(columns={'loser_id': 'player_id', 'loser_name': 'player_name'}, inplace=True)\n",
    "player_map_df = pd.concat([part1, part2])\n",
    "player_map_df.drop_duplicates('player_id', inplace=True)"
   ]
  },
  {
   "cell_type": "code",
   "execution_count": 4,
   "metadata": {},
   "outputs": [],
   "source": [
    "def sipko_weights(cur_date, train_df, disc, date_col='date', flat_time=1.):\n",
    "    # Needs to be sorted prior to using\n",
    "    # These are the time decay weights used in the paper.\n",
    "    # min(disc ^ (# years elapsed), disc ^ (flat_time))\n",
    "    max_weight = disc ** flat_time\n",
    "    days_ago = (pd.to_datetime(cur_date) - train_df[date_col]).map(lambda x: x.days)\n",
    "    years_ago = days_ago / 365.\n",
    "    weights = disc ** years_ago\n",
    "    return weights.clip(upper=max_weight)\n",
    "\n",
    "\n",
    "_s_weights = sipko_weights(\n",
    "    train_df['tourney_date'].max(),\n",
    "    train_df,\n",
    "    0.8,\n",
    "    date_col='tourney_date',\n",
    "    flat_time=1.\n",
    ")"
   ]
  },
  {
   "cell_type": "code",
   "execution_count": 5,
   "metadata": {},
   "outputs": [],
   "source": [
    "def characterize_solution(coef, inverse_player_mapping):\n",
    "    coef_df = pd.DataFrame(\n",
    "        list(enumerate(coef)),\n",
    "        columns=['_mapped_id', 'coef']\n",
    "    )\n",
    "    coef_df['player_id'] = coef_df['_mapped_id'].map(lambda x: inverse_player_mapping[x])\n",
    "    coef_df['side'] = coef_df['player_id'].map(lambda x: 'server' if x > 0 else 'returner')\n",
    "    coef_df['player_id'] = coef_df['player_id'].abs()\n",
    "    coef_df = pd.merge(\n",
    "        coef_df,\n",
    "        player_map_df,\n",
    "        on='player_id'\n",
    "    )\n",
    "    return coef_df"
   ]
  },
  {
   "cell_type": "code",
   "execution_count": 6,
   "metadata": {},
   "outputs": [
    {
     "name": "stdout",
     "output_type": "stream",
     "text": [
      "      _mapped_id      coef  player_id    side         player_name\n",
      "483         3794  0.061409     105683  server        Milos Raonic\n",
      "2595        2646  0.057951     103333  server        Ivo Karlovic\n",
      "3962        2975  0.055793     103819  server       Roger Federer\n",
      "1275        3365  0.047243     104607  server       Tomas Berdych\n",
      "1323        3339  0.042998     104542  server  Jo Wilfried Tsonga\n",
      "957         3536  0.042078     105023  server         Sam Querrey\n",
      "4010        3115  0.041829     104053  server        Andy Roddick\n",
      "1321        3340  0.040103     104545  server          John Isner\n",
      "1029        3494  0.029972     104925  server      Novak Djokovic\n",
      "801         3623  0.029737     105227  server         Marin Cilic\n",
      "      _mapped_id      coef  player_id      side         player_name\n",
      "1028         524 -0.054730     104925  returner      Novak Djokovic\n",
      "1032         526 -0.047067     104918  returner         Andy Murray\n",
      "3963        3955 -0.040880     103819  returner       Roger Federer\n",
      "1162         592 -0.034987     104745  returner        Rafael Nadal\n",
      "1814         937 -0.033013     103970  returner        David Ferrer\n",
      "3955        4025 -0.025579     103786  returner   Nikolay Davydenko\n",
      "1128         574 -0.022525     104792  returner        Gael Monfils\n",
      "1328         678 -0.020332     104527  returner  Stanislas Wawrinka\n",
      "1274         648 -0.019744     104607  returner       Tomas Berdych\n",
      "1470         749 -0.018749     104338  returner         Juan Monaco\n"
     ]
    }
   ],
   "source": [
    "from fetch.regression_features import get_X_y\n",
    "from sklearn.linear_model import Ridge \n",
    "from fetch.regression_features import get_player_mapping\n",
    "\n",
    "def do_model_for_feat(feat, train_df, alpha=100., two_sided=True):\n",
    "    if two_sided:\n",
    "        pm_df = df[\n",
    "            df['p1_%s' % feat].notnull() &\n",
    "            df['p2_%s' % feat].notnull()\n",
    "        ]\n",
    "    else:\n",
    "        pm_df = df[\n",
    "            df[feat].notnull()\n",
    "        ]\n",
    "    pm, ipm = get_player_mapping(pm_df, two_sided=two_sided)\n",
    "\n",
    "    train_X, train_y, pm, ipm, weights = get_X_y(\n",
    "        train_df,\n",
    "        feat,\n",
    "        player_mapping=pm,\n",
    "        inv_player_mapping=ipm,\n",
    "        weights=_s_weights,\n",
    "        two_sided=two_sided\n",
    "    )\n",
    "    lin = Ridge(fit_intercept=True, alpha=alpha)\n",
    "    lin.fit(train_X, train_y, sample_weight=weights)\n",
    "    out = characterize_solution(lin.coef_, ipm)\n",
    "    if two_sided:\n",
    "        print out[out['side'] == 'server'].sort_values(by='coef', ascending=False).head(10)\n",
    "        print out[out['side'] == 'returner'].sort_values(by='coef', ascending=True).head(10)\n",
    "    else:\n",
    "        print out.sort_values(by='coef', ascending=False).head(10)\n",
    "    return out\n",
    "\n",
    "first_won = do_model_for_feat('1stWon_pct', train_df)"
   ]
  },
  {
   "cell_type": "code",
   "execution_count": 7,
   "metadata": {},
   "outputs": [
    {
     "name": "stdout",
     "output_type": "stream",
     "text": [
      "      _mapped_id      coef  player_id    side            player_name\n",
      "3962        2975  0.047597     103819  server          Roger Federer\n",
      "1029        3494  0.047449     104925  server         Novak Djokovic\n",
      "1163        3428  0.044120     104745  server           Rafael Nadal\n",
      "1321        3340  0.031479     104545  server             John Isner\n",
      "4010        3115  0.029734     104053  server           Andy Roddick\n",
      "483         3794  0.028676     105683  server           Milos Raonic\n",
      "1521        3231  0.027431     104269  server      Fernando Verdasco\n",
      "1159        3430  0.025463     104755  server        Richard Gasquet\n",
      "805         3621  0.024455     105223  server  Juan Martin Del Potro\n",
      "1815        3065  0.023632     103970  server           David Ferrer\n",
      "      _mapped_id      coef  player_id      side            player_name\n",
      "1028         524 -0.066945     104925  returner         Novak Djokovic\n",
      "1032         526 -0.057036     104918  returner            Andy Murray\n",
      "1814         937 -0.048807     103970  returner           David Ferrer\n",
      "1162         592 -0.047775     104745  returner           Rafael Nadal\n",
      "1274         648 -0.038326     104607  returner          Tomas Berdych\n",
      "3955        4025 -0.036250     103786  returner      Nikolay Davydenko\n",
      "3963        3955 -0.034337     103819  returner          Roger Federer\n",
      "658          333 -0.032585     105453  returner          Kei Nishikori\n",
      "804          408 -0.031836     105223  returner  Juan Martin Del Potro\n",
      "1394         711 -0.026325     104468  returner           Gilles Simon\n"
     ]
    }
   ],
   "source": [
    "second_won = do_model_for_feat('2ndWon_pct', train_df)"
   ]
  },
  {
   "cell_type": "markdown",
   "metadata": {},
   "source": [
    "#### Investigate some of these features... "
   ]
  },
  {
   "cell_type": "code",
   "execution_count": 8,
   "metadata": {},
   "outputs": [],
   "source": [
    "MIN_TEST_DATE = '2015-01-01'\n",
    "MAX_TEST_DATE = '2017-01-01'\n",
    "\n",
    "train_df = df[\n",
    "    (df['tourney_date'] < MIN_TEST_DATE) &\n",
    "    (df['surface'] == 'Hard')  # TODO: Surface weights\n",
    "].copy()\n",
    "test_df = df[\n",
    "    (df['tourney_date'] > MIN_TEST_DATE) &\n",
    "    (df['tourney_date'] < MAX_TEST_DATE) &\n",
    "    (df['surface'] == 'Hard')  # TODO: Surface Weights\n",
    "].copy()"
   ]
  },
  {
   "cell_type": "code",
   "execution_count": 9,
   "metadata": {},
   "outputs": [
    {
     "data": {
      "text/plain": [
       "['Albert Ramos',\n",
       " 'Alexander Zverev',\n",
       " 'Andy Murray',\n",
       " 'Bernard Tomic',\n",
       " 'David Ferrer',\n",
       " 'David Goffin',\n",
       " 'Dominic Thiem',\n",
       " 'Gael Monfils',\n",
       " 'Gilles Simon',\n",
       " 'Grigor Dimitrov',\n",
       " 'Ivo Karlovic',\n",
       " 'Jack Sock',\n",
       " 'Jo Wilfried Tsonga',\n",
       " 'John Isner',\n",
       " 'Kei Nishikori',\n",
       " 'Lucas Pouille',\n",
       " 'Marin Cilic',\n",
       " 'Milos Raonic',\n",
       " 'Nick Kyrgios',\n",
       " 'Novak Djokovic',\n",
       " 'Pablo Cuevas',\n",
       " 'Rafael Nadal',\n",
       " 'Richard Gasquet',\n",
       " 'Roberto Bautista Agut',\n",
       " 'Roger Federer',\n",
       " 'Stanislas Wawrinka',\n",
       " 'Tomas Berdych',\n",
       " 'Viktor Troicki']"
      ]
     },
     "execution_count": 9,
     "metadata": {},
     "output_type": "execute_result"
    }
   ],
   "source": [
    "rel_players = test_df.sort_values(\n",
    "    by='tourney_date', ascending=True\n",
    ").drop_duplicates('winner_id', keep='last')\n",
    "rel_players = rel_players[\n",
    "    (rel_players['winner_rank'] < 30) &\n",
    "    (rel_players['tourney_date'] > '2015-01-01')\n",
    "]\n",
    "rel_players = sorted(rel_players['winner_name'].unique())\n",
    "rel_players"
   ]
  },
  {
   "cell_type": "code",
   "execution_count": 10,
   "metadata": {},
   "outputs": [],
   "source": [
    "%matplotlib inline\n",
    "from matplotlib import pyplot as plt\n",
    "\n",
    "def compare_two(f1, f2, side='server'):\n",
    "    f1_df = do_model_for_feat(f1, train_df)\n",
    "    f2_df = do_model_for_feat(f2, train_df)\n",
    "    f1_df.rename(columns={'coef': '%s_coef' % f1}, inplace=True)\n",
    "    together = pd.merge(\n",
    "        f1_df,\n",
    "        f2_df[['player_id', 'side', 'coef']],\n",
    "        on=['player_id', 'side']\n",
    "    )\n",
    "    together.rename(columns={'coef': '%s_coef' % f2}, inplace=True)\n",
    "\n",
    "    rel = together[together['side'] == side]\n",
    "    plot_rel = rel[rel['player_name'].isin(rel_players)]\n",
    "    fig, ax = plt.subplots()\n",
    "    ax.scatter(plot_rel['%s_coef' % f1], plot_rel['%s_coef' % f2])\n",
    "    for i, txt in enumerate(plot_rel['player_name'].tolist()):\n",
    "        ax.annotate(\n",
    "            txt,\n",
    "            (plot_rel['%s_coef' % f1].iloc[i], plot_rel['%s_coef' % f2].iloc[i])\n",
    "        )\n",
    "    ax.set_xlabel('Normalized %s' % f1)\n",
    "    ax.set_ylabel('Normalized %s' % f2)"
   ]
  },
  {
   "cell_type": "code",
   "execution_count": 11,
   "metadata": {},
   "outputs": [
    {
     "name": "stdout",
     "output_type": "stream",
     "text": [
      "      _mapped_id      coef  player_id    side        player_name\n",
      "1321        3340  0.047984     104545  server         John Isner\n",
      "1163        3428  0.044690     104745  server       Rafael Nadal\n",
      "3954        2956  0.039574     103786  server  Nikolay Davydenko\n",
      "170           85  0.034357     103813  server    Jarkko Nieminen\n",
      "1029        3494  0.034035     104925  server     Novak Djokovic\n",
      "4010        3115  0.033856     104053  server       Andy Roddick\n",
      "1967        2972  0.033238     103812  server     Victor Hanescu\n",
      "1631        3171  0.032806     104166  server  Alex Bogomolov Jr\n",
      "1521        3231  0.032297     104269  server  Fernando Verdasco\n",
      "2595        2646  0.032286     103333  server       Ivo Karlovic\n",
      "      _mapped_id      coef  player_id      side        player_name\n",
      "156           78 -0.012913     103720  returner     Lleyton Hewitt\n",
      "658          333 -0.012378     105453  returner      Kei Nishikori\n",
      "1358         693 -0.009500     104500  returner   Somdev Devvarman\n",
      "1286         654 -0.008631     104594  returner  Marinko Matosevic\n",
      "490          248 -0.007890     105676  returner       David Goffin\n",
      "1872         970 -0.007088     103900  returner   David Nalbandian\n",
      "3963        3955 -0.007050     103819  returner      Roger Federer\n",
      "1814         937 -0.006655     103970  returner       David Ferrer\n",
      "922          470 -0.006596     105053  returner   Santiago Giraldo\n",
      "1220         621 -0.006343     104665  returner      Pablo Andujar\n",
      "      _mapped_id      coef  player_id    side         player_name\n",
      "483         3794  0.061412     105683  server        Milos Raonic\n",
      "2595        2646  0.057952     103333  server        Ivo Karlovic\n",
      "3962        2975  0.055794     103819  server       Roger Federer\n",
      "1275        3365  0.047245     104607  server       Tomas Berdych\n",
      "1323        3339  0.042995     104542  server  Jo Wilfried Tsonga\n",
      "957         3536  0.042079     105023  server         Sam Querrey\n",
      "4010        3115  0.041828     104053  server        Andy Roddick\n",
      "1321        3340  0.040106     104545  server          John Isner\n",
      "1029        3494  0.029972     104925  server      Novak Djokovic\n",
      "801         3623  0.029738     105227  server         Marin Cilic\n",
      "      _mapped_id      coef  player_id      side         player_name\n",
      "1028         524 -0.054727     104925  returner      Novak Djokovic\n",
      "1032         526 -0.047073     104918  returner         Andy Murray\n",
      "3963        3955 -0.040881     103819  returner       Roger Federer\n",
      "1162         592 -0.034986     104745  returner        Rafael Nadal\n",
      "1814         937 -0.033015     103970  returner        David Ferrer\n",
      "3955        4025 -0.025578     103786  returner   Nikolay Davydenko\n",
      "1128         574 -0.022526     104792  returner        Gael Monfils\n",
      "1328         678 -0.020327     104527  returner  Stanislas Wawrinka\n",
      "1274         648 -0.019744     104607  returner       Tomas Berdych\n",
      "1470         749 -0.018747     104338  returner         Juan Monaco\n"
     ]
    },
    {
     "data": {
      "image/png": "[encoded data removed]",
      "text/plain": [
       "<Figure size 432x288 with 1 Axes>"
      ]
     },
     "metadata": {},
     "output_type": "display_data"
    }
   ],
   "source": [
    "compare_two('1stIn_pct', '1stWon_pct')"
   ]
  },
  {
   "cell_type": "code",
   "execution_count": 12,
   "metadata": {},
   "outputs": [
    {
     "name": "stdout",
     "output_type": "stream",
     "text": [
      "      _mapped_id      coef  player_id    side        player_name\n",
      "1321        3340  0.047982     104545  server         John Isner\n",
      "1163        3428  0.044693     104745  server       Rafael Nadal\n",
      "3954        2956  0.039574     103786  server  Nikolay Davydenko\n",
      "170           85  0.034358     103813  server    Jarkko Nieminen\n",
      "1029        3494  0.034037     104925  server     Novak Djokovic\n",
      "4010        3115  0.033857     104053  server       Andy Roddick\n",
      "1967        2972  0.033238     103812  server     Victor Hanescu\n",
      "1631        3171  0.032809     104166  server  Alex Bogomolov Jr\n",
      "1521        3231  0.032297     104269  server  Fernando Verdasco\n",
      "2595        2646  0.032287     103333  server       Ivo Karlovic\n",
      "      _mapped_id      coef  player_id      side        player_name\n",
      "156           78 -0.012912     103720  returner     Lleyton Hewitt\n",
      "658          333 -0.012378     105453  returner      Kei Nishikori\n",
      "1358         693 -0.009498     104500  returner   Somdev Devvarman\n",
      "1286         654 -0.008628     104594  returner  Marinko Matosevic\n",
      "490          248 -0.007891     105676  returner       David Goffin\n",
      "1872         970 -0.007089     103900  returner   David Nalbandian\n",
      "3963        3955 -0.007066     103819  returner      Roger Federer\n",
      "1814         937 -0.006653     103970  returner       David Ferrer\n",
      "922          470 -0.006597     105053  returner   Santiago Giraldo\n",
      "1220         621 -0.006344     104665  returner      Pablo Andujar\n",
      "      _mapped_id      coef  player_id    side            player_name\n",
      "3962        2975  0.026697     103819  server          Roger Federer\n",
      "1395        3304  0.018662     104468  server           Gilles Simon\n",
      "1163        3428  0.017061     104745  server           Rafael Nadal\n",
      "1539        3220  0.016055     104252  server          Florian Mayer\n",
      "4010        3115  0.015423     104053  server           Andy Roddick\n",
      "923         3553  0.015333     105053  server       Santiago Giraldo\n",
      "1533        3224  0.015292     104259  server  Philipp Kohlschreiber\n",
      "265         3921  0.014472     106071  server          Bernard Tomic\n",
      "1127        3446  0.014409     104797  server          Denis Istomin\n",
      "1275        3365  0.014063     104607  server          Tomas Berdych\n",
      "      _mapped_id      coef  player_id      side        player_name\n",
      "1286         654 -0.008731     104594  returner  Marinko Matosevic\n",
      "1126         573 -0.006722     104797  returner      Denis Istomin\n",
      "704          356 -0.006326     105385  returner       Donald Young\n",
      "926          472 -0.005588     105051  returner      Matthew Ebden\n",
      "276          138 -0.005588     106058  returner          Jack Sock\n",
      "442          224 -0.005294     105777  returner    Grigor Dimitrov\n",
      "3950        2909 -0.004772     104229  returner        Yen Hsun Lu\n",
      "516          261 -0.004588     105643  returner  Federico Delbonis\n",
      "1400         714 -0.004369     104460  returner       Dustin Brown\n",
      "984          502 -0.004118     104978  returner      Daniel Brands\n"
     ]
    },
    {
     "data": {
      "image/png": "[encoded data removed]",
      "text/plain": [
       "<Figure size 432x288 with 1 Axes>"
      ]
     },
     "metadata": {},
     "output_type": "display_data"
    }
   ],
   "source": [
    "compare_two('1stIn_pct', '2ndIn_pct')"
   ]
  },
  {
   "cell_type": "code",
   "execution_count": 13,
   "metadata": {},
   "outputs": [
    {
     "name": "stdout",
     "output_type": "stream",
     "text": [
      "      _mapped_id      coef  player_id    side         player_name\n",
      "483         3794  0.061411     105683  server        Milos Raonic\n",
      "2595        2646  0.057952     103333  server        Ivo Karlovic\n",
      "3962        2975  0.055797     103819  server       Roger Federer\n",
      "1275        3365  0.047243     104607  server       Tomas Berdych\n",
      "1323        3339  0.042997     104542  server  Jo Wilfried Tsonga\n",
      "957         3536  0.042078     105023  server         Sam Querrey\n",
      "4010        3115  0.041828     104053  server        Andy Roddick\n",
      "1321        3340  0.040109     104545  server          John Isner\n",
      "1029        3494  0.029975     104925  server      Novak Djokovic\n",
      "801         3623  0.029740     105227  server         Marin Cilic\n",
      "      _mapped_id      coef  player_id      side         player_name\n",
      "1028         524 -0.054729     104925  returner      Novak Djokovic\n",
      "1032         526 -0.047070     104918  returner         Andy Murray\n",
      "3963        3955 -0.040878     103819  returner       Roger Federer\n",
      "1162         592 -0.034986     104745  returner        Rafael Nadal\n",
      "1814         937 -0.033014     103970  returner        David Ferrer\n",
      "3955        4025 -0.025581     103786  returner   Nikolay Davydenko\n",
      "1128         574 -0.022525     104792  returner        Gael Monfils\n",
      "1328         678 -0.020331     104527  returner  Stanislas Wawrinka\n",
      "1274         648 -0.019744     104607  returner       Tomas Berdych\n",
      "1470         749 -0.018747     104338  returner         Juan Monaco\n",
      "      _mapped_id      coef  player_id    side            player_name\n",
      "3962        2975  0.047595     103819  server          Roger Federer\n",
      "1029        3494  0.047449     104925  server         Novak Djokovic\n",
      "1163        3428  0.044111     104745  server           Rafael Nadal\n",
      "1321        3340  0.031479     104545  server             John Isner\n",
      "4010        3115  0.029732     104053  server           Andy Roddick\n",
      "483         3794  0.028677     105683  server           Milos Raonic\n",
      "1521        3231  0.027430     104269  server      Fernando Verdasco\n",
      "1159        3430  0.025461     104755  server        Richard Gasquet\n",
      "805         3621  0.024455     105223  server  Juan Martin Del Potro\n",
      "1815        3065  0.023631     103970  server           David Ferrer\n",
      "      _mapped_id      coef  player_id      side            player_name\n",
      "1028         524 -0.066945     104925  returner         Novak Djokovic\n",
      "1032         526 -0.057041     104918  returner            Andy Murray\n",
      "1814         937 -0.048805     103970  returner           David Ferrer\n",
      "1162         592 -0.047777     104745  returner           Rafael Nadal\n",
      "1274         648 -0.038327     104607  returner          Tomas Berdych\n",
      "3955        4025 -0.036260     103786  returner      Nikolay Davydenko\n",
      "3963        3955 -0.034339     103819  returner          Roger Federer\n",
      "658          333 -0.032584     105453  returner          Kei Nishikori\n",
      "804          408 -0.031830     105223  returner  Juan Martin Del Potro\n",
      "1394         711 -0.026328     104468  returner           Gilles Simon\n"
     ]
    },
    {
     "data": {
      "image/png": "[encoded data removed]",
      "text/plain": [
       "<Figure size 432x288 with 1 Axes>"
      ]
     },
     "metadata": {},
     "output_type": "display_data"
    }
   ],
   "source": [
    "compare_two('1stWon_pct', '2ndWon_pct')"
   ]
  },
  {
   "cell_type": "code",
   "execution_count": 14,
   "metadata": {},
   "outputs": [
    {
     "name": "stdout",
     "output_type": "stream",
     "text": [
      "      _mapped_id      coef  player_id    side         player_name\n",
      "483         3794  0.061411     105683  server        Milos Raonic\n",
      "2595        2646  0.057951     103333  server        Ivo Karlovic\n",
      "3962        2975  0.055795     103819  server       Roger Federer\n",
      "1275        3365  0.047243     104607  server       Tomas Berdych\n",
      "1323        3339  0.042999     104542  server  Jo Wilfried Tsonga\n",
      "957         3536  0.042078     105023  server         Sam Querrey\n",
      "4010        3115  0.041827     104053  server        Andy Roddick\n",
      "1321        3340  0.040108     104545  server          John Isner\n",
      "1029        3494  0.029976     104925  server      Novak Djokovic\n",
      "801         3623  0.029740     105227  server         Marin Cilic\n",
      "      _mapped_id      coef  player_id      side         player_name\n",
      "1028         524 -0.054726     104925  returner      Novak Djokovic\n",
      "1032         526 -0.047069     104918  returner         Andy Murray\n",
      "3963        3955 -0.040878     103819  returner       Roger Federer\n",
      "1162         592 -0.034985     104745  returner        Rafael Nadal\n",
      "1814         937 -0.033015     103970  returner        David Ferrer\n",
      "3955        4025 -0.025579     103786  returner   Nikolay Davydenko\n",
      "1128         574 -0.022525     104792  returner        Gael Monfils\n",
      "1328         678 -0.020330     104527  returner  Stanislas Wawrinka\n",
      "1274         648 -0.019743     104607  returner       Tomas Berdych\n",
      "1470         749 -0.018745     104338  returner         Juan Monaco\n",
      "      _mapped_id      coef  player_id    side            player_name\n",
      "3962        2975  0.047596     103819  server          Roger Federer\n",
      "1029        3494  0.047451     104925  server         Novak Djokovic\n",
      "1163        3428  0.044111     104745  server           Rafael Nadal\n",
      "1321        3340  0.031478     104545  server             John Isner\n",
      "4010        3115  0.029734     104053  server           Andy Roddick\n",
      "483         3794  0.028678     105683  server           Milos Raonic\n",
      "1521        3231  0.027433     104269  server      Fernando Verdasco\n",
      "1159        3430  0.025460     104755  server        Richard Gasquet\n",
      "805         3621  0.024455     105223  server  Juan Martin Del Potro\n",
      "1815        3065  0.023628     103970  server           David Ferrer\n",
      "      _mapped_id      coef  player_id      side            player_name\n",
      "1028         524 -0.066948     104925  returner         Novak Djokovic\n",
      "1032         526 -0.057036     104918  returner            Andy Murray\n",
      "1814         937 -0.048807     103970  returner           David Ferrer\n",
      "1162         592 -0.047774     104745  returner           Rafael Nadal\n",
      "1274         648 -0.038320     104607  returner          Tomas Berdych\n",
      "3955        4025 -0.036258     103786  returner      Nikolay Davydenko\n",
      "3963        3955 -0.034338     103819  returner          Roger Federer\n",
      "658          333 -0.032583     105453  returner          Kei Nishikori\n",
      "804          408 -0.031836     105223  returner  Juan Martin Del Potro\n",
      "1394         711 -0.026328     104468  returner           Gilles Simon\n"
     ]
    },
    {
     "data": {
      "image/png": "[encoded data removed]",
      "text/plain": [
       "<Figure size 432x288 with 1 Axes>"
      ]
     },
     "metadata": {},
     "output_type": "display_data"
    }
   ],
   "source": [
    "# Should expect these to be very highly correlated\n",
    "compare_two('1stWon_pct', '2ndWon_pct', side='returner')"
   ]
  },
  {
   "cell_type": "markdown",
   "metadata": {},
   "source": [
    "#### Try \"One-Sided Feature\" like Winning...\n",
    "\n",
    "Using an \"ELO\" model as a feature here might produce a much better model! "
   ]
  },
  {
   "cell_type": "code",
   "execution_count": 15,
   "metadata": {},
   "outputs": [
    {
     "name": "stdout",
     "output_type": "stream",
     "text": [
      "      _mapped_id      coef  player_id    side            player_name\n",
      "2774        2774  0.307087     104925  server         Novak Djokovic\n",
      "2307        2307  0.287729     103819  server          Roger Federer\n",
      "2770        2770  0.234150     104918  server            Andy Murray\n",
      "2707        2707  0.233093     104745  server           Rafael Nadal\n",
      "2893        2893  0.182436     105223  server  Juan Martin Del Potro\n",
      "2645        2645  0.160953     104607  server          Tomas Berdych\n",
      "2418        2418  0.155768     104053  server           Andy Roddick\n",
      "2616        2616  0.153651     104542  server     Jo Wilfried Tsonga\n",
      "2374        2374  0.151377     103970  server           David Ferrer\n",
      "3039        3039  0.144818     105683  server           Milos Raonic\n"
     ]
    }
   ],
   "source": [
    "elo_rankings = do_model_for_feat(\n",
    "    'y',\n",
    "    train_df,\n",
    "    two_sided=False\n",
    ")"
   ]
  },
  {
   "cell_type": "markdown",
   "metadata": {},
   "source": [
    "Looks reasonable...What if we use a logistic regression?  How good would that model be on its own?"
   ]
  },
  {
   "cell_type": "code",
   "execution_count": 16,
   "metadata": {},
   "outputs": [
    {
     "data": {
      "text/html": [
       "<div>\n",
       "<table border=\"1\" class=\"dataframe\">\n",
       "  <thead>\n",
       "    <tr style=\"text-align: right;\">\n",
       "      <th></th>\n",
       "      <th>_mapped_id</th>\n",
       "      <th>coef</th>\n",
       "      <th>player_id</th>\n",
       "      <th>side</th>\n",
       "      <th>player_name</th>\n",
       "    </tr>\n",
       "  </thead>\n",
       "  <tbody>\n",
       "    <tr>\n",
       "      <th>2774</th>\n",
       "      <td>2774</td>\n",
       "      <td>2.795374</td>\n",
       "      <td>104925</td>\n",
       "      <td>server</td>\n",
       "      <td>Novak Djokovic</td>\n",
       "    </tr>\n",
       "    <tr>\n",
       "      <th>2307</th>\n",
       "      <td>2307</td>\n",
       "      <td>2.617673</td>\n",
       "      <td>103819</td>\n",
       "      <td>server</td>\n",
       "      <td>Roger Federer</td>\n",
       "    </tr>\n",
       "    <tr>\n",
       "      <th>2707</th>\n",
       "      <td>2707</td>\n",
       "      <td>2.305388</td>\n",
       "      <td>104745</td>\n",
       "      <td>server</td>\n",
       "      <td>Rafael Nadal</td>\n",
       "    </tr>\n",
       "    <tr>\n",
       "      <th>2770</th>\n",
       "      <td>2770</td>\n",
       "      <td>2.198837</td>\n",
       "      <td>104918</td>\n",
       "      <td>server</td>\n",
       "      <td>Andy Murray</td>\n",
       "    </tr>\n",
       "    <tr>\n",
       "      <th>2893</th>\n",
       "      <td>2893</td>\n",
       "      <td>1.876230</td>\n",
       "      <td>105223</td>\n",
       "      <td>server</td>\n",
       "      <td>Juan Martin Del Potro</td>\n",
       "    </tr>\n",
       "    <tr>\n",
       "      <th>2418</th>\n",
       "      <td>2418</td>\n",
       "      <td>1.663851</td>\n",
       "      <td>104053</td>\n",
       "      <td>server</td>\n",
       "      <td>Andy Roddick</td>\n",
       "    </tr>\n",
       "    <tr>\n",
       "      <th>2616</th>\n",
       "      <td>2616</td>\n",
       "      <td>1.586897</td>\n",
       "      <td>104542</td>\n",
       "      <td>server</td>\n",
       "      <td>Jo Wilfried Tsonga</td>\n",
       "    </tr>\n",
       "    <tr>\n",
       "      <th>2645</th>\n",
       "      <td>2645</td>\n",
       "      <td>1.545384</td>\n",
       "      <td>104607</td>\n",
       "      <td>server</td>\n",
       "      <td>Tomas Berdych</td>\n",
       "    </tr>\n",
       "    <tr>\n",
       "      <th>2374</th>\n",
       "      <td>2374</td>\n",
       "      <td>1.530548</td>\n",
       "      <td>103970</td>\n",
       "      <td>server</td>\n",
       "      <td>David Ferrer</td>\n",
       "    </tr>\n",
       "    <tr>\n",
       "      <th>3039</th>\n",
       "      <td>3039</td>\n",
       "      <td>1.524851</td>\n",
       "      <td>105683</td>\n",
       "      <td>server</td>\n",
       "      <td>Milos Raonic</td>\n",
       "    </tr>\n",
       "  </tbody>\n",
       "</table>\n",
       "</div>"
      ],
      "text/plain": [
       "      _mapped_id      coef  player_id    side            player_name\n",
       "2774        2774  2.795374     104925  server         Novak Djokovic\n",
       "2307        2307  2.617673     103819  server          Roger Federer\n",
       "2707        2707  2.305388     104745  server           Rafael Nadal\n",
       "2770        2770  2.198837     104918  server            Andy Murray\n",
       "2893        2893  1.876230     105223  server  Juan Martin Del Potro\n",
       "2418        2418  1.663851     104053  server           Andy Roddick\n",
       "2616        2616  1.586897     104542  server     Jo Wilfried Tsonga\n",
       "2645        2645  1.545384     104607  server          Tomas Berdych\n",
       "2374        2374  1.530548     103970  server           David Ferrer\n",
       "3039        3039  1.524851     105683  server           Milos Raonic"
      ]
     },
     "execution_count": 16,
     "metadata": {},
     "output_type": "execute_result"
    }
   ],
   "source": [
    "from sklearn.linear_model import LogisticRegression\n",
    "\n",
    "pm_df = df[\n",
    "    df['y'].notnull()\n",
    "]\n",
    "pm, ipm = get_player_mapping(pm_df, two_sided=False)\n",
    "\n",
    "train_X, train_y, pm, ipm, weights = get_X_y(\n",
    "    train_df,\n",
    "    'y',\n",
    "    player_mapping=pm,\n",
    "    inv_player_mapping=ipm,\n",
    "    weights=_s_weights,\n",
    "    two_sided=False\n",
    ")\n",
    "test_X, test_y, _, _, _ = get_X_y(\n",
    "    test_df,\n",
    "    'y',\n",
    "    player_mapping=pm,\n",
    "    inv_player_mapping = ipm,\n",
    "    weights=None,\n",
    "    two_sided=False\n",
    ")\n",
    "\n",
    "lr = LogisticRegression(C=0.4, fit_intercept=False)\n",
    "lr.fit(train_X, train_y.astype(int), sample_weight=weights)\n",
    "out = characterize_solution(lr.coef_[0], ipm)\n",
    "out.sort_values(by='coef', ascending=False).head(10)"
   ]
  },
  {
   "cell_type": "code",
   "execution_count": 17,
   "metadata": {},
   "outputs": [
    {
     "data": {
      "text/plain": [
       "0.7243485910624412"
      ]
     },
     "execution_count": 17,
     "metadata": {},
     "output_type": "execute_result"
    }
   ],
   "source": [
    "from sklearn.metrics import roc_auc_score\n",
    "\n",
    "preds = lr.predict_proba(test_X)[:, 1]\n",
    "roc_auc_score(test_y.astype(int), preds)"
   ]
  },
  {
   "cell_type": "markdown",
   "metadata": {},
   "source": [
    "AUC of 0.725 without any updates!"
   ]
  },
  {
   "cell_type": "markdown",
   "metadata": {},
   "source": [
    "#### Tune models / weighting\n",
    "\n",
    "TODO:\n",
    "* Should regularization differ with sample size?\n",
    "* Should we train on all surfaces?\n",
    "* Tune regularization parameter for these models? * Change to binary outcome (weight by # of each outcome)?"
   ]
  },
  {
   "cell_type": "markdown",
   "metadata": {},
   "source": [
    "#### Backfill over time\n",
    "Let's backfill these features over time..."
   ]
  },
  {
   "cell_type": "code",
   "execution_count": 18,
   "metadata": {},
   "outputs": [],
   "source": [
    "MIN_TRAIN_DATE = '1990-01-01'\n",
    "MIN_TEST_DATE = '2000-01-01'\n",
    "MAX_TEST_DATE = '2017-01-01'\n",
    "\n",
    "train_df = df[\n",
    "    (df['tourney_date'] < MIN_TEST_DATE) &\n",
    "    (df['surface'] == 'Hard')  # TODO: Surface weights\n",
    "].copy()\n",
    "test_df = df[\n",
    "    (df['tourney_date'] > MIN_TEST_DATE) &\n",
    "    (df['tourney_date'] < MAX_TEST_DATE) &\n",
    "    (df['surface'] == 'Hard')  # TODO: Surface Weights\n",
    "].copy()"
   ]
  },
  {
   "cell_type": "code",
   "execution_count": 26,
   "metadata": {},
   "outputs": [],
   "source": [
    "import itertools\n",
    "from fetch.regression_features import get_X_y\n",
    "from sklearn.linear_model import Ridge \n",
    "from fetch.regression_features import get_player_mapping\n",
    "\n",
    "FEATS = [\n",
    "    'svWon_pct',\n",
    "    '1stIn_pct',\n",
    "    '1stWon_pct',\n",
    "    '2ndIn_pct',\n",
    "    '2ndWon_pct',\n",
    "    'ace_pct',\n",
    "    'y'\n",
    "]\n",
    "\n",
    "\n",
    "def update_for_feat(feat, train_df, test_df, two_sided=True):\n",
    "    # TODO: Add test_df here too...\n",
    "    if two_sided:\n",
    "        pm_df = df[\n",
    "            df['p1_%s' % feat].notnull() &\n",
    "            df['p2_%s' % feat].notnull()\n",
    "        ]\n",
    "    else:\n",
    "        pm_df = df[df[feat].notnull()]\n",
    "    pm, ipm = get_player_mapping(pm_df, two_sided=two_sided)\n",
    "\n",
    "    _s_weights = sipko_weights(\n",
    "        train_df['tourney_date'].max(),\n",
    "        train_df,\n",
    "        0.8,\n",
    "        date_col='tourney_date',\n",
    "        flat_time=1.\n",
    "    )\n",
    "\n",
    "    train_X, train_y, pm, ipm, weights = get_X_y(\n",
    "        train_df,\n",
    "        feat,\n",
    "        player_mapping=pm,\n",
    "        inv_player_mapping=ipm,\n",
    "        weights=_s_weights,\n",
    "        two_sided=two_sided\n",
    "    )\n",
    "\n",
    "    if two_sided:\n",
    "        lin = Ridge(fit_intercept=True, alpha=100.)\n",
    "        lin.fit(train_X, train_y, sample_weight=weights)\n",
    "    else:\n",
    "        lin = LogisticRegression(fit_intercept=False, C=0.4)\n",
    "        lin.fit(train_X, train_y, sample_weight=weights)\n",
    "        \n",
    "    coef_df = pd.DataFrame(\n",
    "        [(ipm[k], v) for k, v in list(enumerate(lin.coef_.reshape(-1)))],\n",
    "        columns=['player_id', '%s_coef' % feat]\n",
    "    )    \n",
    "\n",
    "    test_df = pd.merge(\n",
    "        test_df,\n",
    "        coef_df,\n",
    "        left_on='p1_id',\n",
    "        right_on='player_id'\n",
    "    )\n",
    "    test_df.rename(\n",
    "        columns={'%s_coef' % feat: 'p1_%s_server' % feat},\n",
    "        inplace=True\n",
    "    )\n",
    "    test_df.drop('player_id', axis=1, inplace=True)\n",
    "    test_df = pd.merge(\n",
    "        test_df,\n",
    "        coef_df,\n",
    "        left_on='p2_id',\n",
    "        right_on='player_id'\n",
    "    )\n",
    "    test_df.rename(\n",
    "        columns={'%s_coef' % feat: 'p2_%s_server' % feat},\n",
    "        inplace=True\n",
    "    )\n",
    "    test_df.drop('player_id', axis=1, inplace=True)\n",
    "\n",
    "    if two_sided:\n",
    "        coef_df['player_id'] = -coef_df['player_id']\n",
    "        test_df = pd.merge(\n",
    "            test_df,\n",
    "            coef_df,\n",
    "            left_on='p1_id',\n",
    "            right_on='player_id'\n",
    "        )\n",
    "        test_df.rename(\n",
    "            columns={'%s_coef' % feat: 'p1_%s_returner' % feat},\n",
    "            inplace=True\n",
    "        )\n",
    "        test_df.drop('player_id', axis=1, inplace=True)\n",
    "\n",
    "        test_df = pd.merge(\n",
    "            test_df,\n",
    "            coef_df,\n",
    "            left_on='p2_id',\n",
    "            right_on='player_id'\n",
    "        )\n",
    "        test_df.rename(\n",
    "            columns={'%s_coef' % feat: 'p2_%s_returner' % feat},\n",
    "            inplace=True\n",
    "        )\n",
    "        test_df.drop('player_id', axis=1, inplace=True)\n",
    "    return test_df \n",
    "    \n",
    "def backfill(update_period=50):\n",
    "    # Should backfill features\n",
    "    out = []\n",
    "    cur_date = test_df['tourney_date'].min()\n",
    "    while(cur_date < pd.to_datetime(MAX_TEST_DATE)):\n",
    "        print cur_date\n",
    "        cur_train_df = df[\n",
    "            (df['tourney_date'] >= MIN_TRAIN_DATE) &\n",
    "            (df['tourney_date'] < cur_date)\n",
    "        ].copy()\n",
    "        cur_test_df = df[\n",
    "            (df['tourney_date'] >= cur_date) &\n",
    "            (df['tourney_date'] < cur_date + pd.Timedelta(days=update_period)) &\n",
    "            (df['tourney_date'] < MAX_TEST_DATE) &\n",
    "            (df['surface'] == 'Hard')\n",
    "        ].copy()\n",
    "        if cur_test_df.shape[0] > 0:\n",
    "            for feat in FEATS:\n",
    "                cur_test_df = update_for_feat(feat, cur_train_df, cur_test_df, two_sided=(feat!='y'))\n",
    "            out_feats = list(itertools.chain(*[[\n",
    "                'p1_%s_server' % feat,\n",
    "                'p1_%s_returner' % feat,\n",
    "                'p2_%s_server' % feat,\n",
    "                'p2_%s_returner' % feat\n",
    "            ] for feat in FEATS if feat != 'y']))\n",
    "            out_feats.extend([\n",
    "                'p1_y_server',\n",
    "                'p2_y_server'\n",
    "            ])\n",
    "            out.append(cur_test_df[\n",
    "                out_feats + ['tourney_date', 'match_id', 'y', 'surface']\n",
    "            ])\n",
    "        cur_date = cur_date + pd.Timedelta(days=update_period)\n",
    "    return pd.concat(out)"
   ]
  },
  {
   "cell_type": "code",
   "execution_count": 27,
   "metadata": {},
   "outputs": [],
   "source": [
    "w = update_for_feat('y', train_df, test_df, two_sided=False)"
   ]
  },
  {
   "cell_type": "code",
   "execution_count": 28,
   "metadata": {},
   "outputs": [
    {
     "name": "stdout",
     "output_type": "stream",
     "text": [
      "2000-01-03 00:00:00\n",
      "2000-02-22 00:00:00\n",
      "2000-04-12 00:00:00\n",
      "2000-06-01 00:00:00\n",
      "2000-07-21 00:00:00\n",
      "2000-09-09 00:00:00\n",
      "2000-10-29 00:00:00\n",
      "2000-12-18 00:00:00\n",
      "2001-02-06 00:00:00\n",
      "2001-03-28 00:00:00\n",
      "2001-05-17 00:00:00\n",
      "2001-07-06 00:00:00\n",
      "2001-08-25 00:00:00\n",
      "2001-10-14 00:00:00\n",
      "2001-12-03 00:00:00\n",
      "2002-01-22 00:00:00\n",
      "2002-03-13 00:00:00\n",
      "2002-05-02 00:00:00\n",
      "2002-06-21 00:00:00\n",
      "2002-08-10 00:00:00\n",
      "2002-09-29 00:00:00\n",
      "2002-11-18 00:00:00\n",
      "2003-01-07 00:00:00\n",
      "2003-02-26 00:00:00\n",
      "2003-04-17 00:00:00\n",
      "2003-06-06 00:00:00\n",
      "2003-07-26 00:00:00\n",
      "2003-09-14 00:00:00\n",
      "2003-11-03 00:00:00\n",
      "2003-12-23 00:00:00\n",
      "2004-02-11 00:00:00\n",
      "2004-04-01 00:00:00\n",
      "2004-05-21 00:00:00\n",
      "2004-07-10 00:00:00\n",
      "2004-08-29 00:00:00\n",
      "2004-10-18 00:00:00\n",
      "2004-12-07 00:00:00\n",
      "2005-01-26 00:00:00\n",
      "2005-03-17 00:00:00\n",
      "2005-05-06 00:00:00\n",
      "2005-06-25 00:00:00\n",
      "2005-08-14 00:00:00\n",
      "2005-10-03 00:00:00\n",
      "2005-11-22 00:00:00\n",
      "2006-01-11 00:00:00\n",
      "2006-03-02 00:00:00\n",
      "2006-04-21 00:00:00\n",
      "2006-06-10 00:00:00\n",
      "2006-07-30 00:00:00\n",
      "2006-09-18 00:00:00\n",
      "2006-11-07 00:00:00\n",
      "2006-12-27 00:00:00\n",
      "2007-02-15 00:00:00\n",
      "2007-04-06 00:00:00\n",
      "2007-05-26 00:00:00\n",
      "2007-07-15 00:00:00\n",
      "2007-09-03 00:00:00\n",
      "2007-10-23 00:00:00\n",
      "2007-12-12 00:00:00\n",
      "2008-01-31 00:00:00\n",
      "2008-03-21 00:00:00\n",
      "2008-05-10 00:00:00\n",
      "2008-06-29 00:00:00\n",
      "2008-08-18 00:00:00\n",
      "2008-10-07 00:00:00\n",
      "2008-11-26 00:00:00\n",
      "2009-01-15 00:00:00\n",
      "2009-03-06 00:00:00\n",
      "2009-04-25 00:00:00\n",
      "2009-06-14 00:00:00\n",
      "2009-08-03 00:00:00\n",
      "2009-09-22 00:00:00\n",
      "2009-11-11 00:00:00\n",
      "2009-12-31 00:00:00\n",
      "2010-02-19 00:00:00\n",
      "2010-04-10 00:00:00\n",
      "2010-05-30 00:00:00\n",
      "2010-07-19 00:00:00\n",
      "2010-09-07 00:00:00\n",
      "2010-10-27 00:00:00\n",
      "2010-12-16 00:00:00\n",
      "2011-02-04 00:00:00\n",
      "2011-03-26 00:00:00\n",
      "2011-05-15 00:00:00\n",
      "2011-07-04 00:00:00\n",
      "2011-08-23 00:00:00\n",
      "2011-10-12 00:00:00\n",
      "2011-12-01 00:00:00\n",
      "2012-01-20 00:00:00\n",
      "2012-03-10 00:00:00\n",
      "2012-04-29 00:00:00\n",
      "2012-06-18 00:00:00\n",
      "2012-08-07 00:00:00\n",
      "2012-09-26 00:00:00\n",
      "2012-11-15 00:00:00\n",
      "2013-01-04 00:00:00\n",
      "2013-02-23 00:00:00\n",
      "2013-04-14 00:00:00\n",
      "2013-06-03 00:00:00\n",
      "2013-07-23 00:00:00\n",
      "2013-09-11 00:00:00\n",
      "2013-10-31 00:00:00\n",
      "2013-12-20 00:00:00\n",
      "2014-02-08 00:00:00\n",
      "2014-03-30 00:00:00\n",
      "2014-05-19 00:00:00\n",
      "2014-07-08 00:00:00\n",
      "2014-08-27 00:00:00\n",
      "2014-10-16 00:00:00\n",
      "2014-12-05 00:00:00\n",
      "2015-01-24 00:00:00\n",
      "2015-03-15 00:00:00\n",
      "2015-05-04 00:00:00\n",
      "2015-06-23 00:00:00\n",
      "2015-08-12 00:00:00\n",
      "2015-10-01 00:00:00\n",
      "2015-11-20 00:00:00\n",
      "2016-01-09 00:00:00\n",
      "2016-02-28 00:00:00\n",
      "2016-04-18 00:00:00\n",
      "2016-06-07 00:00:00\n",
      "2016-07-27 00:00:00\n",
      "2016-09-15 00:00:00\n",
      "2016-11-04 00:00:00\n",
      "2016-12-24 00:00:00\n"
     ]
    }
   ],
   "source": [
    "backfilled_feats = backfill()"
   ]
  },
  {
   "cell_type": "markdown",
   "metadata": {},
   "source": [
    "##### Train model on backfilled features\n",
    "First, without ELO as a feature"
   ]
  },
  {
   "cell_type": "code",
   "execution_count": 70,
   "metadata": {},
   "outputs": [],
   "source": [
    "MIN_TRAIN_DATE = '1990-01-01'\n",
    "MIN_TEST_DATE = '2015-01-01'\n",
    "MAX_TEST_DATE = '2017-01-01'\n",
    "\n",
    "train_df = backfilled_feats[\n",
    "    (backfilled_feats['tourney_date'] < MIN_TEST_DATE) &\n",
    "    (backfilled_feats['surface'] == 'Hard')  # TODO: Surface weights\n",
    "].copy()\n",
    "test_df = backfilled_feats[\n",
    "    (backfilled_feats['tourney_date'] > MIN_TEST_DATE) &\n",
    "    (backfilled_feats['tourney_date'] < MAX_TEST_DATE) &\n",
    "    (backfilled_feats['surface'] == 'Hard')  # TODO: Surface Weights\n",
    "].copy()"
   ]
  },
  {
   "cell_type": "code",
   "execution_count": 71,
   "metadata": {},
   "outputs": [],
   "source": [
    "TRAIN_FEATS = list(itertools.chain(*[[\n",
    "    'p1_%s_server' % feat,\n",
    "    'p1_%s_returner' % feat,\n",
    "    'p2_%s_server' % feat,\n",
    "    'p2_%s_returner' % feat\n",
    "] for feat in FEATS if feat != 'y']))"
   ]
  },
  {
   "cell_type": "code",
   "execution_count": 72,
   "metadata": {},
   "outputs": [
    {
     "data": {
      "text/plain": [
       "0.74298233641973088"
      ]
     },
     "execution_count": 72,
     "metadata": {},
     "output_type": "execute_result"
    }
   ],
   "source": [
    "from sklearn.ensemble import RandomForestClassifier\n",
    "from sklearn.metrics import roc_auc_score\n",
    "\n",
    "rf = RandomForestClassifier(n_estimators=500, min_samples_leaf=10)\n",
    "rf.fit(train_df[TRAIN_FEATS], train_df['y'])\n",
    "preds = rf.predict_proba(test_df[TRAIN_FEATS])[:, 1]\n",
    "roc_auc_score(test_df['y'], preds)"
   ]
  },
  {
   "cell_type": "markdown",
   "metadata": {},
   "source": [
    "Pretty good performance!  Would be even better if we added features for player overall quality and fatigue and such!"
   ]
  },
  {
   "cell_type": "markdown",
   "metadata": {},
   "source": [
    "#### Now with ELO"
   ]
  },
  {
   "cell_type": "code",
   "execution_count": 35,
   "metadata": {},
   "outputs": [
    {
     "data": {
      "text/plain": [
       "0.74725708087606757"
      ]
     },
     "execution_count": 35,
     "metadata": {},
     "output_type": "execute_result"
    }
   ],
   "source": [
    "# Compare to just ELO\n",
    "import numpy as np\n",
    "\n",
    "def sigmoid(x):\n",
    "    return 1. / (1. + np.exp(-x))\n",
    "\n",
    "elo_preds = sigmoid(test_df['p1_y_server'] - test_df['p2_y_server'])\n",
    "roc_auc_score(test_df['y'], elo_preds)"
   ]
  },
  {
   "cell_type": "markdown",
   "metadata": {},
   "source": [
    "Just ELO preds do almost as well!  Let's see if I can make a better model through the features..."
   ]
  },
  {
   "cell_type": "code",
   "execution_count": 45,
   "metadata": {},
   "outputs": [
    {
     "data": {
      "text/plain": [
       "0.75242488129700535"
      ]
     },
     "execution_count": 45,
     "metadata": {},
     "output_type": "execute_result"
    }
   ],
   "source": [
    "TWO_WAY_FEATS = list(itertools.chain(*[[\n",
    "    'p1_%s_server' % feat,\n",
    "    'p1_%s_returner' % feat,\n",
    "    'p2_%s_server' % feat,\n",
    "    'p2_%s_returner' % feat\n",
    "] for feat in FEATS if feat != 'y']))\n",
    "\n",
    "train_df['elo_pred'] = sigmoid(train_df['p1_y_server'] - train_df['p2_y_server'])\n",
    "test_df['elo_pred'] = sigmoid(test_df['p1_y_server'] - test_df['p2_y_server'])\n",
    "\n",
    "train_feats = TWO_WAY_FEATS + ['elo_pred']\n",
    "\n",
    "rf = RandomForestClassifier(n_estimators=500, min_samples_leaf=10)\n",
    "rf.fit(train_df[train_feats], train_df['y'])\n",
    "preds = rf.predict_proba(test_df[train_feats])[:, 1]\n",
    "roc_auc_score(test_df['y'], preds)"
   ]
  },
  {
   "cell_type": "markdown",
   "metadata": {},
   "source": [
    "Got half a point from including other features!"
   ]
  },
  {
   "cell_type": "code",
   "execution_count": 68,
   "metadata": {},
   "outputs": [
    {
     "name": "stdout",
     "output_type": "stream",
     "text": [
      "510 5\n",
      "0.745378484768\n",
      "221 18\n",
      "0.753827767522\n",
      "591 10\n",
      "0.748611659831\n",
      "10 1\n",
      "0.75127071466\n",
      "34 11\n",
      "0.754362918693\n",
      "15 11\n",
      "0.75258183503\n",
      "21 12\n",
      "0.754370820254\n",
      "65 4\n",
      "0.752517904219\n",
      "33 10\n",
      "0.755220956376\n",
      "44 16\n",
      "0.755520317786\n",
      "615 10\n",
      "0.748137207014\n",
      "314 0\n"
     ]
    },
    {
     "ename": "ValueError",
     "evalue": "max_features must be in (0, n_features]",
     "output_type": "error",
     "traceback": [
      "\u001b[0;31m---------------------------------------------------------------------------\u001b[0m",
      "\u001b[0;31mValueError\u001b[0m                                Traceback (most recent call last)",
      "\u001b[0;32m<ipython-input-68-e7011caae315>\u001b[0m in \u001b[0;36m<module>\u001b[0;34m()\u001b[0m\n\u001b[1;32m      8\u001b[0m     \u001b[0;32mprint\u001b[0m \u001b[0mmsl\u001b[0m\u001b[0;34m,\u001b[0m \u001b[0mmf\u001b[0m\u001b[0;34m\u001b[0m\u001b[0m\n\u001b[1;32m      9\u001b[0m     \u001b[0mrf\u001b[0m \u001b[0;34m=\u001b[0m \u001b[0mRandomForestClassifier\u001b[0m\u001b[0;34m(\u001b[0m\u001b[0mn_estimators\u001b[0m\u001b[0;34m=\u001b[0m\u001b[0;36m500\u001b[0m\u001b[0;34m,\u001b[0m \u001b[0mmin_samples_leaf\u001b[0m\u001b[0;34m=\u001b[0m\u001b[0mmsl\u001b[0m\u001b[0;34m,\u001b[0m \u001b[0mmax_features\u001b[0m\u001b[0;34m=\u001b[0m\u001b[0mmf\u001b[0m\u001b[0;34m)\u001b[0m\u001b[0;34m\u001b[0m\u001b[0m\n\u001b[0;32m---> 10\u001b[0;31m     \u001b[0mrf\u001b[0m\u001b[0;34m.\u001b[0m\u001b[0mfit\u001b[0m\u001b[0;34m(\u001b[0m\u001b[0mtrain_df\u001b[0m\u001b[0;34m[\u001b[0m\u001b[0mtrain_feats\u001b[0m\u001b[0;34m]\u001b[0m\u001b[0;34m,\u001b[0m \u001b[0mtrain_df\u001b[0m\u001b[0;34m[\u001b[0m\u001b[0;34m'y'\u001b[0m\u001b[0;34m]\u001b[0m\u001b[0;34m)\u001b[0m\u001b[0;34m\u001b[0m\u001b[0m\n\u001b[0m\u001b[1;32m     11\u001b[0m     \u001b[0mpreds\u001b[0m \u001b[0;34m=\u001b[0m \u001b[0mrf\u001b[0m\u001b[0;34m.\u001b[0m\u001b[0mpredict_proba\u001b[0m\u001b[0;34m(\u001b[0m\u001b[0mtest_df\u001b[0m\u001b[0;34m[\u001b[0m\u001b[0mtrain_feats\u001b[0m\u001b[0;34m]\u001b[0m\u001b[0;34m)\u001b[0m\u001b[0;34m[\u001b[0m\u001b[0;34m:\u001b[0m\u001b[0;34m,\u001b[0m \u001b[0;36m1\u001b[0m\u001b[0;34m]\u001b[0m\u001b[0;34m\u001b[0m\u001b[0m\n\u001b[1;32m     12\u001b[0m     \u001b[0mauc\u001b[0m \u001b[0;34m=\u001b[0m \u001b[0mroc_auc_score\u001b[0m\u001b[0;34m(\u001b[0m\u001b[0mtest_df\u001b[0m\u001b[0;34m[\u001b[0m\u001b[0;34m'y'\u001b[0m\u001b[0;34m]\u001b[0m\u001b[0;34m,\u001b[0m \u001b[0mpreds\u001b[0m\u001b[0;34m)\u001b[0m\u001b[0;34m\u001b[0m\u001b[0m\n",
      "\u001b[0;32m/Users/siddhantjagadish/Documents/DataProjects/tennis_modeling/tennis_modeling/lib/python2.7/site-packages/sklearn/ensemble/forest.pyc\u001b[0m in \u001b[0;36mfit\u001b[0;34m(self, X, y, sample_weight)\u001b[0m\n\u001b[1;32m    325\u001b[0m                     \u001b[0mt\u001b[0m\u001b[0;34m,\u001b[0m \u001b[0mself\u001b[0m\u001b[0;34m,\u001b[0m \u001b[0mX\u001b[0m\u001b[0;34m,\u001b[0m \u001b[0my\u001b[0m\u001b[0;34m,\u001b[0m \u001b[0msample_weight\u001b[0m\u001b[0;34m,\u001b[0m \u001b[0mi\u001b[0m\u001b[0;34m,\u001b[0m \u001b[0mlen\u001b[0m\u001b[0;34m(\u001b[0m\u001b[0mtrees\u001b[0m\u001b[0;34m)\u001b[0m\u001b[0;34m,\u001b[0m\u001b[0;34m\u001b[0m\u001b[0m\n\u001b[1;32m    326\u001b[0m                     verbose=self.verbose, class_weight=self.class_weight)\n\u001b[0;32m--> 327\u001b[0;31m                 for i, t in enumerate(trees))\n\u001b[0m\u001b[1;32m    328\u001b[0m \u001b[0;34m\u001b[0m\u001b[0m\n\u001b[1;32m    329\u001b[0m             \u001b[0;31m# Collect newly grown trees\u001b[0m\u001b[0;34m\u001b[0m\u001b[0;34m\u001b[0m\u001b[0m\n",
      "\u001b[0;32m/Users/siddhantjagadish/Documents/DataProjects/tennis_modeling/tennis_modeling/lib/python2.7/site-packages/sklearn/externals/joblib/parallel.pyc\u001b[0m in \u001b[0;36m__call__\u001b[0;34m(self, iterable)\u001b[0m\n\u001b[1;32m    777\u001b[0m             \u001b[0;31m# was dispatched. In particular this covers the edge\u001b[0m\u001b[0;34m\u001b[0m\u001b[0;34m\u001b[0m\u001b[0m\n\u001b[1;32m    778\u001b[0m             \u001b[0;31m# case of Parallel used with an exhausted iterator.\u001b[0m\u001b[0;34m\u001b[0m\u001b[0;34m\u001b[0m\u001b[0m\n\u001b[0;32m--> 779\u001b[0;31m             \u001b[0;32mwhile\u001b[0m \u001b[0mself\u001b[0m\u001b[0;34m.\u001b[0m\u001b[0mdispatch_one_batch\u001b[0m\u001b[0;34m(\u001b[0m\u001b[0miterator\u001b[0m\u001b[0;34m)\u001b[0m\u001b[0;34m:\u001b[0m\u001b[0;34m\u001b[0m\u001b[0m\n\u001b[0m\u001b[1;32m    780\u001b[0m                 \u001b[0mself\u001b[0m\u001b[0;34m.\u001b[0m\u001b[0m_iterating\u001b[0m \u001b[0;34m=\u001b[0m \u001b[0mTrue\u001b[0m\u001b[0;34m\u001b[0m\u001b[0m\n\u001b[1;32m    781\u001b[0m             \u001b[0;32melse\u001b[0m\u001b[0;34m:\u001b[0m\u001b[0;34m\u001b[0m\u001b[0m\n",
      "\u001b[0;32m/Users/siddhantjagadish/Documents/DataProjects/tennis_modeling/tennis_modeling/lib/python2.7/site-packages/sklearn/externals/joblib/parallel.pyc\u001b[0m in \u001b[0;36mdispatch_one_batch\u001b[0;34m(self, iterator)\u001b[0m\n\u001b[1;32m    623\u001b[0m                 \u001b[0;32mreturn\u001b[0m \u001b[0mFalse\u001b[0m\u001b[0;34m\u001b[0m\u001b[0m\n\u001b[1;32m    624\u001b[0m             \u001b[0;32melse\u001b[0m\u001b[0;34m:\u001b[0m\u001b[0;34m\u001b[0m\u001b[0m\n\u001b[0;32m--> 625\u001b[0;31m                 \u001b[0mself\u001b[0m\u001b[0;34m.\u001b[0m\u001b[0m_dispatch\u001b[0m\u001b[0;34m(\u001b[0m\u001b[0mtasks\u001b[0m\u001b[0;34m)\u001b[0m\u001b[0;34m\u001b[0m\u001b[0m\n\u001b[0m\u001b[1;32m    626\u001b[0m                 \u001b[0;32mreturn\u001b[0m \u001b[0mTrue\u001b[0m\u001b[0;34m\u001b[0m\u001b[0m\n\u001b[1;32m    627\u001b[0m \u001b[0;34m\u001b[0m\u001b[0m\n",
      "\u001b[0;32m/Users/siddhantjagadish/Documents/DataProjects/tennis_modeling/tennis_modeling/lib/python2.7/site-packages/sklearn/externals/joblib/parallel.pyc\u001b[0m in \u001b[0;36m_dispatch\u001b[0;34m(self, batch)\u001b[0m\n\u001b[1;32m    586\u001b[0m         \u001b[0mdispatch_timestamp\u001b[0m \u001b[0;34m=\u001b[0m \u001b[0mtime\u001b[0m\u001b[0;34m.\u001b[0m\u001b[0mtime\u001b[0m\u001b[0;34m(\u001b[0m\u001b[0;34m)\u001b[0m\u001b[0;34m\u001b[0m\u001b[0m\n\u001b[1;32m    587\u001b[0m         \u001b[0mcb\u001b[0m \u001b[0;34m=\u001b[0m \u001b[0mBatchCompletionCallBack\u001b[0m\u001b[0;34m(\u001b[0m\u001b[0mdispatch_timestamp\u001b[0m\u001b[0;34m,\u001b[0m \u001b[0mlen\u001b[0m\u001b[0;34m(\u001b[0m\u001b[0mbatch\u001b[0m\u001b[0;34m)\u001b[0m\u001b[0;34m,\u001b[0m \u001b[0mself\u001b[0m\u001b[0;34m)\u001b[0m\u001b[0;34m\u001b[0m\u001b[0m\n\u001b[0;32m--> 588\u001b[0;31m         \u001b[0mjob\u001b[0m \u001b[0;34m=\u001b[0m \u001b[0mself\u001b[0m\u001b[0;34m.\u001b[0m\u001b[0m_backend\u001b[0m\u001b[0;34m.\u001b[0m\u001b[0mapply_async\u001b[0m\u001b[0;34m(\u001b[0m\u001b[0mbatch\u001b[0m\u001b[0;34m,\u001b[0m \u001b[0mcallback\u001b[0m\u001b[0;34m=\u001b[0m\u001b[0mcb\u001b[0m\u001b[0;34m)\u001b[0m\u001b[0;34m\u001b[0m\u001b[0m\n\u001b[0m\u001b[1;32m    589\u001b[0m         \u001b[0mself\u001b[0m\u001b[0;34m.\u001b[0m\u001b[0m_jobs\u001b[0m\u001b[0;34m.\u001b[0m\u001b[0mappend\u001b[0m\u001b[0;34m(\u001b[0m\u001b[0mjob\u001b[0m\u001b[0;34m)\u001b[0m\u001b[0;34m\u001b[0m\u001b[0m\n\u001b[1;32m    590\u001b[0m \u001b[0;34m\u001b[0m\u001b[0m\n",
      "\u001b[0;32m/Users/siddhantjagadish/Documents/DataProjects/tennis_modeling/tennis_modeling/lib/python2.7/site-packages/sklearn/externals/joblib/_parallel_backends.pyc\u001b[0m in \u001b[0;36mapply_async\u001b[0;34m(self, func, callback)\u001b[0m\n\u001b[1;32m    109\u001b[0m     \u001b[0;32mdef\u001b[0m \u001b[0mapply_async\u001b[0m\u001b[0;34m(\u001b[0m\u001b[0mself\u001b[0m\u001b[0;34m,\u001b[0m \u001b[0mfunc\u001b[0m\u001b[0;34m,\u001b[0m \u001b[0mcallback\u001b[0m\u001b[0;34m=\u001b[0m\u001b[0mNone\u001b[0m\u001b[0;34m)\u001b[0m\u001b[0;34m:\u001b[0m\u001b[0;34m\u001b[0m\u001b[0m\n\u001b[1;32m    110\u001b[0m         \u001b[0;34m\"\"\"Schedule a func to be run\"\"\"\u001b[0m\u001b[0;34m\u001b[0m\u001b[0m\n\u001b[0;32m--> 111\u001b[0;31m         \u001b[0mresult\u001b[0m \u001b[0;34m=\u001b[0m \u001b[0mImmediateResult\u001b[0m\u001b[0;34m(\u001b[0m\u001b[0mfunc\u001b[0m\u001b[0;34m)\u001b[0m\u001b[0;34m\u001b[0m\u001b[0m\n\u001b[0m\u001b[1;32m    112\u001b[0m         \u001b[0;32mif\u001b[0m \u001b[0mcallback\u001b[0m\u001b[0;34m:\u001b[0m\u001b[0;34m\u001b[0m\u001b[0m\n\u001b[1;32m    113\u001b[0m             \u001b[0mcallback\u001b[0m\u001b[0;34m(\u001b[0m\u001b[0mresult\u001b[0m\u001b[0;34m)\u001b[0m\u001b[0;34m\u001b[0m\u001b[0m\n",
      "\u001b[0;32m/Users/siddhantjagadish/Documents/DataProjects/tennis_modeling/tennis_modeling/lib/python2.7/site-packages/sklearn/externals/joblib/_parallel_backends.pyc\u001b[0m in \u001b[0;36m__init__\u001b[0;34m(self, batch)\u001b[0m\n\u001b[1;32m    330\u001b[0m         \u001b[0;31m# Don't delay the application, to avoid keeping the input\u001b[0m\u001b[0;34m\u001b[0m\u001b[0;34m\u001b[0m\u001b[0m\n\u001b[1;32m    331\u001b[0m         \u001b[0;31m# arguments in memory\u001b[0m\u001b[0;34m\u001b[0m\u001b[0;34m\u001b[0m\u001b[0m\n\u001b[0;32m--> 332\u001b[0;31m         \u001b[0mself\u001b[0m\u001b[0;34m.\u001b[0m\u001b[0mresults\u001b[0m \u001b[0;34m=\u001b[0m \u001b[0mbatch\u001b[0m\u001b[0;34m(\u001b[0m\u001b[0;34m)\u001b[0m\u001b[0;34m\u001b[0m\u001b[0m\n\u001b[0m\u001b[1;32m    333\u001b[0m \u001b[0;34m\u001b[0m\u001b[0m\n\u001b[1;32m    334\u001b[0m     \u001b[0;32mdef\u001b[0m \u001b[0mget\u001b[0m\u001b[0;34m(\u001b[0m\u001b[0mself\u001b[0m\u001b[0;34m)\u001b[0m\u001b[0;34m:\u001b[0m\u001b[0;34m\u001b[0m\u001b[0m\n",
      "\u001b[0;32m/Users/siddhantjagadish/Documents/DataProjects/tennis_modeling/tennis_modeling/lib/python2.7/site-packages/sklearn/externals/joblib/parallel.pyc\u001b[0m in \u001b[0;36m__call__\u001b[0;34m(self)\u001b[0m\n\u001b[1;32m    129\u001b[0m \u001b[0;34m\u001b[0m\u001b[0m\n\u001b[1;32m    130\u001b[0m     \u001b[0;32mdef\u001b[0m \u001b[0m__call__\u001b[0m\u001b[0;34m(\u001b[0m\u001b[0mself\u001b[0m\u001b[0;34m)\u001b[0m\u001b[0;34m:\u001b[0m\u001b[0;34m\u001b[0m\u001b[0m\n\u001b[0;32m--> 131\u001b[0;31m         \u001b[0;32mreturn\u001b[0m \u001b[0;34m[\u001b[0m\u001b[0mfunc\u001b[0m\u001b[0;34m(\u001b[0m\u001b[0;34m*\u001b[0m\u001b[0margs\u001b[0m\u001b[0;34m,\u001b[0m \u001b[0;34m**\u001b[0m\u001b[0mkwargs\u001b[0m\u001b[0;34m)\u001b[0m \u001b[0;32mfor\u001b[0m \u001b[0mfunc\u001b[0m\u001b[0;34m,\u001b[0m \u001b[0margs\u001b[0m\u001b[0;34m,\u001b[0m \u001b[0mkwargs\u001b[0m \u001b[0;32min\u001b[0m \u001b[0mself\u001b[0m\u001b[0;34m.\u001b[0m\u001b[0mitems\u001b[0m\u001b[0;34m]\u001b[0m\u001b[0;34m\u001b[0m\u001b[0m\n\u001b[0m\u001b[1;32m    132\u001b[0m \u001b[0;34m\u001b[0m\u001b[0m\n\u001b[1;32m    133\u001b[0m     \u001b[0;32mdef\u001b[0m \u001b[0m__len__\u001b[0m\u001b[0;34m(\u001b[0m\u001b[0mself\u001b[0m\u001b[0;34m)\u001b[0m\u001b[0;34m:\u001b[0m\u001b[0;34m\u001b[0m\u001b[0m\n",
      "\u001b[0;32m/Users/siddhantjagadish/Documents/DataProjects/tennis_modeling/tennis_modeling/lib/python2.7/site-packages/sklearn/ensemble/forest.pyc\u001b[0m in \u001b[0;36m_parallel_build_trees\u001b[0;34m(tree, forest, X, y, sample_weight, tree_idx, n_trees, verbose, class_weight)\u001b[0m\n\u001b[1;32m    118\u001b[0m             \u001b[0mcurr_sample_weight\u001b[0m \u001b[0;34m*=\u001b[0m \u001b[0mcompute_sample_weight\u001b[0m\u001b[0;34m(\u001b[0m\u001b[0;34m'balanced'\u001b[0m\u001b[0;34m,\u001b[0m \u001b[0my\u001b[0m\u001b[0;34m,\u001b[0m \u001b[0mindices\u001b[0m\u001b[0;34m)\u001b[0m\u001b[0;34m\u001b[0m\u001b[0m\n\u001b[1;32m    119\u001b[0m \u001b[0;34m\u001b[0m\u001b[0m\n\u001b[0;32m--> 120\u001b[0;31m         \u001b[0mtree\u001b[0m\u001b[0;34m.\u001b[0m\u001b[0mfit\u001b[0m\u001b[0;34m(\u001b[0m\u001b[0mX\u001b[0m\u001b[0;34m,\u001b[0m \u001b[0my\u001b[0m\u001b[0;34m,\u001b[0m \u001b[0msample_weight\u001b[0m\u001b[0;34m=\u001b[0m\u001b[0mcurr_sample_weight\u001b[0m\u001b[0;34m,\u001b[0m \u001b[0mcheck_input\u001b[0m\u001b[0;34m=\u001b[0m\u001b[0mFalse\u001b[0m\u001b[0;34m)\u001b[0m\u001b[0;34m\u001b[0m\u001b[0m\n\u001b[0m\u001b[1;32m    121\u001b[0m     \u001b[0;32melse\u001b[0m\u001b[0;34m:\u001b[0m\u001b[0;34m\u001b[0m\u001b[0m\n\u001b[1;32m    122\u001b[0m         \u001b[0mtree\u001b[0m\u001b[0;34m.\u001b[0m\u001b[0mfit\u001b[0m\u001b[0;34m(\u001b[0m\u001b[0mX\u001b[0m\u001b[0;34m,\u001b[0m \u001b[0my\u001b[0m\u001b[0;34m,\u001b[0m \u001b[0msample_weight\u001b[0m\u001b[0;34m=\u001b[0m\u001b[0msample_weight\u001b[0m\u001b[0;34m,\u001b[0m \u001b[0mcheck_input\u001b[0m\u001b[0;34m=\u001b[0m\u001b[0mFalse\u001b[0m\u001b[0;34m)\u001b[0m\u001b[0;34m\u001b[0m\u001b[0m\n",
      "\u001b[0;32m/Users/siddhantjagadish/Documents/DataProjects/tennis_modeling/tennis_modeling/lib/python2.7/site-packages/sklearn/tree/tree.pyc\u001b[0m in \u001b[0;36mfit\u001b[0;34m(self, X, y, sample_weight, check_input, X_idx_sorted)\u001b[0m\n\u001b[1;32m    788\u001b[0m             \u001b[0msample_weight\u001b[0m\u001b[0;34m=\u001b[0m\u001b[0msample_weight\u001b[0m\u001b[0;34m,\u001b[0m\u001b[0;34m\u001b[0m\u001b[0m\n\u001b[1;32m    789\u001b[0m             \u001b[0mcheck_input\u001b[0m\u001b[0;34m=\u001b[0m\u001b[0mcheck_input\u001b[0m\u001b[0;34m,\u001b[0m\u001b[0;34m\u001b[0m\u001b[0m\n\u001b[0;32m--> 790\u001b[0;31m             X_idx_sorted=X_idx_sorted)\n\u001b[0m\u001b[1;32m    791\u001b[0m         \u001b[0;32mreturn\u001b[0m \u001b[0mself\u001b[0m\u001b[0;34m\u001b[0m\u001b[0m\n\u001b[1;32m    792\u001b[0m \u001b[0;34m\u001b[0m\u001b[0m\n",
      "\u001b[0;32m/Users/siddhantjagadish/Documents/DataProjects/tennis_modeling/tennis_modeling/lib/python2.7/site-packages/sklearn/tree/tree.pyc\u001b[0m in \u001b[0;36mfit\u001b[0;34m(self, X, y, sample_weight, check_input, X_idx_sorted)\u001b[0m\n\u001b[1;32m    240\u001b[0m             \u001b[0;32mraise\u001b[0m \u001b[0mValueError\u001b[0m\u001b[0;34m(\u001b[0m\u001b[0;34m\"max_depth must be greater than zero. \"\u001b[0m\u001b[0;34m)\u001b[0m\u001b[0;34m\u001b[0m\u001b[0m\n\u001b[1;32m    241\u001b[0m         \u001b[0;32mif\u001b[0m \u001b[0;32mnot\u001b[0m \u001b[0;34m(\u001b[0m\u001b[0;36m0\u001b[0m \u001b[0;34m<\u001b[0m \u001b[0mmax_features\u001b[0m \u001b[0;34m<=\u001b[0m \u001b[0mself\u001b[0m\u001b[0;34m.\u001b[0m\u001b[0mn_features_\u001b[0m\u001b[0;34m)\u001b[0m\u001b[0;34m:\u001b[0m\u001b[0;34m\u001b[0m\u001b[0m\n\u001b[0;32m--> 242\u001b[0;31m             \u001b[0;32mraise\u001b[0m \u001b[0mValueError\u001b[0m\u001b[0;34m(\u001b[0m\u001b[0;34m\"max_features must be in (0, n_features]\"\u001b[0m\u001b[0;34m)\u001b[0m\u001b[0;34m\u001b[0m\u001b[0m\n\u001b[0m\u001b[1;32m    243\u001b[0m         \u001b[0;32mif\u001b[0m \u001b[0;32mnot\u001b[0m \u001b[0misinstance\u001b[0m\u001b[0;34m(\u001b[0m\u001b[0mmax_leaf_nodes\u001b[0m\u001b[0;34m,\u001b[0m \u001b[0;34m(\u001b[0m\u001b[0mnumbers\u001b[0m\u001b[0;34m.\u001b[0m\u001b[0mIntegral\u001b[0m\u001b[0;34m,\u001b[0m \u001b[0mnp\u001b[0m\u001b[0;34m.\u001b[0m\u001b[0minteger\u001b[0m\u001b[0;34m)\u001b[0m\u001b[0;34m)\u001b[0m\u001b[0;34m:\u001b[0m\u001b[0;34m\u001b[0m\u001b[0m\n\u001b[1;32m    244\u001b[0m             raise ValueError(\"max_leaf_nodes must be integral number but was \"\n",
      "\u001b[0;31mValueError\u001b[0m: max_features must be in (0, n_features]"
     ]
    }
   ],
   "source": [
    "N_ATTEMPTS = 30\n",
    "\n",
    "min_samples_leaf_tune = (10 ** np.random.uniform(low=1, high=3, size=N_ATTEMPTS)).astype(int)\n",
    "max_features_tune = (np.random.uniform(low=1. / len(train_feats), high=1, size=N_ATTEMPTS) * len(train_feats)).astype(int)\n",
    "\n",
    "out = []\n",
    "for msl, mf in zip(min_samples_leaf_tune, max_features_tune):\n",
    "    print msl, mf\n",
    "    rf = RandomForestClassifier(n_estimators=500, min_samples_leaf=msl, max_features=mf)\n",
    "    rf.fit(train_df[train_feats], train_df['y'])\n",
    "    preds = rf.predict_proba(test_df[train_feats])[:, 1]\n",
    "    auc = roc_auc_score(test_df['y'], preds)\n",
    "    print auc\n",
    "    out.append((msl, mf,auc))"
   ]
  },
  {
   "cell_type": "code",
   "execution_count": 69,
   "metadata": {},
   "outputs": [
    {
     "name": "stderr",
     "output_type": "stream",
     "text": [
      "/Users/siddhantjagadish/Documents/DataProjects/tennis_modeling/tennis_modeling/lib/python2.7/site-packages/ipykernel_launcher.py:5: FutureWarning: sort(columns=....) is deprecated, use sort_values(by=.....)\n",
      "  \"\"\"\n"
     ]
    },
    {
     "data": {
      "text/html": [
       "<div>\n",
       "<table border=\"1\" class=\"dataframe\">\n",
       "  <thead>\n",
       "    <tr style=\"text-align: right;\">\n",
       "      <th></th>\n",
       "      <th>msl</th>\n",
       "      <th>mf</th>\n",
       "      <th>auc</th>\n",
       "    </tr>\n",
       "  </thead>\n",
       "  <tbody>\n",
       "    <tr>\n",
       "      <th>9</th>\n",
       "      <td>44</td>\n",
       "      <td>16</td>\n",
       "      <td>0.755520</td>\n",
       "    </tr>\n",
       "    <tr>\n",
       "      <th>8</th>\n",
       "      <td>33</td>\n",
       "      <td>10</td>\n",
       "      <td>0.755221</td>\n",
       "    </tr>\n",
       "    <tr>\n",
       "      <th>6</th>\n",
       "      <td>21</td>\n",
       "      <td>12</td>\n",
       "      <td>0.754371</td>\n",
       "    </tr>\n",
       "    <tr>\n",
       "      <th>4</th>\n",
       "      <td>34</td>\n",
       "      <td>11</td>\n",
       "      <td>0.754363</td>\n",
       "    </tr>\n",
       "    <tr>\n",
       "      <th>1</th>\n",
       "      <td>221</td>\n",
       "      <td>18</td>\n",
       "      <td>0.753828</td>\n",
       "    </tr>\n",
       "    <tr>\n",
       "      <th>5</th>\n",
       "      <td>15</td>\n",
       "      <td>11</td>\n",
       "      <td>0.752582</td>\n",
       "    </tr>\n",
       "    <tr>\n",
       "      <th>7</th>\n",
       "      <td>65</td>\n",
       "      <td>4</td>\n",
       "      <td>0.752518</td>\n",
       "    </tr>\n",
       "    <tr>\n",
       "      <th>3</th>\n",
       "      <td>10</td>\n",
       "      <td>1</td>\n",
       "      <td>0.751271</td>\n",
       "    </tr>\n",
       "    <tr>\n",
       "      <th>2</th>\n",
       "      <td>591</td>\n",
       "      <td>10</td>\n",
       "      <td>0.748612</td>\n",
       "    </tr>\n",
       "    <tr>\n",
       "      <th>10</th>\n",
       "      <td>615</td>\n",
       "      <td>10</td>\n",
       "      <td>0.748137</td>\n",
       "    </tr>\n",
       "    <tr>\n",
       "      <th>0</th>\n",
       "      <td>510</td>\n",
       "      <td>5</td>\n",
       "      <td>0.745378</td>\n",
       "    </tr>\n",
       "  </tbody>\n",
       "</table>\n",
       "</div>"
      ],
      "text/plain": [
       "    msl  mf       auc\n",
       "9    44  16  0.755520\n",
       "8    33  10  0.755221\n",
       "6    21  12  0.754371\n",
       "4    34  11  0.754363\n",
       "1   221  18  0.753828\n",
       "5    15  11  0.752582\n",
       "7    65   4  0.752518\n",
       "3    10   1  0.751271\n",
       "2   591  10  0.748612\n",
       "10  615  10  0.748137\n",
       "0   510   5  0.745378"
      ]
     },
     "execution_count": 69,
     "metadata": {},
     "output_type": "execute_result"
    }
   ],
   "source": [
    "tune_df = pd.DataFrame(\n",
    "    out,\n",
    "    columns=['msl', 'mf', 'auc']\n",
    ")\n",
    "tune_df.sort('auc', ascending=False)"
   ]
  },
  {
   "cell_type": "markdown",
   "metadata": {},
   "source": [
    "##### Stack instead of model jointly?"
   ]
  },
  {
   "cell_type": "code",
   "execution_count": 74,
   "metadata": {},
   "outputs": [
    {
     "data": {
      "text/plain": [
       "0.74186857549223117"
      ]
     },
     "execution_count": 74,
     "metadata": {},
     "output_type": "execute_result"
    }
   ],
   "source": [
    "# Server / returner feats\n",
    "rf = RandomForestClassifier(n_estimators=500, min_samples_leaf=10)\n",
    "rf.fit(train_df[TWO_WAY_FEATS], train_df['y'])\n",
    "preds = rf.predict_proba(test_df[TWO_WAY_FEATS])[:, 1]\n",
    "roc_auc_score(test_df['y'], preds)"
   ]
  },
  {
   "cell_type": "code",
   "execution_count": 76,
   "metadata": {},
   "outputs": [
    {
     "data": {
      "text/plain": [
       "0.74725708087606757"
      ]
     },
     "execution_count": 76,
     "metadata": {},
     "output_type": "execute_result"
    }
   ],
   "source": [
    "# Just ELO\n",
    "test_df['elo_pred'] = sigmoid(test_df['p1_y_server'] - test_df['p2_y_server'])\n",
    "roc_auc_score(test_df['y'], test_df['elo_pred'])"
   ]
  },
  {
   "cell_type": "code",
   "execution_count": 86,
   "metadata": {},
   "outputs": [],
   "source": [
    "# 50% stack\n",
    "out = []\n",
    "for alpha in np.linspace(0, 1, 101):\n",
    "    new_preds = alpha * preds + (1. - alpha) * test_df['elo_pred']\n",
    "    auc = roc_auc_score(test_df['y'], new_preds)\n",
    "    out.append((alpha, auc))"
   ]
  },
  {
   "cell_type": "code",
   "execution_count": 87,
   "metadata": {},
   "outputs": [
    {
     "data": {
      "text/plain": [
       "[<matplotlib.lines.Line2D at 0x10fbb5990>]"
      ]
     },
     "execution_count": 87,
     "metadata": {},
     "output_type": "execute_result"
    },
    {
     "data": {
      "image/png": "[encoded data removed]",
      "text/plain": [
       "<Figure size 432x288 with 1 Axes>"
      ]
     },
     "metadata": {},
     "output_type": "display_data"
    }
   ],
   "source": [
    "plt.plot(zip(*out)[0], zip(*out)[1])"
   ]
  },
  {
   "cell_type": "code",
   "execution_count": 88,
   "metadata": {},
   "outputs": [
    {
     "name": "stderr",
     "output_type": "stream",
     "text": [
      "/Users/siddhantjagadish/Documents/DataProjects/tennis_modeling/tennis_modeling/lib/python2.7/site-packages/ipykernel_launcher.py:5: FutureWarning: sort(columns=....) is deprecated, use sort_values(by=.....)\n",
      "  \"\"\"\n"
     ]
    },
    {
     "data": {
      "text/html": [
       "<div>\n",
       "<table border=\"1\" class=\"dataframe\">\n",
       "  <thead>\n",
       "    <tr style=\"text-align: right;\">\n",
       "      <th></th>\n",
       "      <th>alpha</th>\n",
       "      <th>auc</th>\n",
       "    </tr>\n",
       "  </thead>\n",
       "  <tbody>\n",
       "    <tr>\n",
       "      <th>37</th>\n",
       "      <td>0.37</td>\n",
       "      <td>0.750810</td>\n",
       "    </tr>\n",
       "    <tr>\n",
       "      <th>34</th>\n",
       "      <td>0.34</td>\n",
       "      <td>0.750809</td>\n",
       "    </tr>\n",
       "    <tr>\n",
       "      <th>35</th>\n",
       "      <td>0.35</td>\n",
       "      <td>0.750804</td>\n",
       "    </tr>\n",
       "    <tr>\n",
       "      <th>36</th>\n",
       "      <td>0.36</td>\n",
       "      <td>0.750799</td>\n",
       "    </tr>\n",
       "    <tr>\n",
       "      <th>33</th>\n",
       "      <td>0.33</td>\n",
       "      <td>0.750798</td>\n",
       "    </tr>\n",
       "  </tbody>\n",
       "</table>\n",
       "</div>"
      ],
      "text/plain": [
       "    alpha       auc\n",
       "37   0.37  0.750810\n",
       "34   0.34  0.750809\n",
       "35   0.35  0.750804\n",
       "36   0.36  0.750799\n",
       "33   0.33  0.750798"
      ]
     },
     "execution_count": 88,
     "metadata": {},
     "output_type": "execute_result"
    }
   ],
   "source": [
    "stack_df = pd.DataFrame(\n",
    "    out,\n",
    "    columns=['alpha', 'auc']\n",
    ")\n",
    "stack_df.sort('auc', ascending=False).head()"
   ]
  },
  {
   "cell_type": "markdown",
   "metadata": {},
   "source": [
    "Still not as good as combined model"
   ]
  },
  {
   "cell_type": "markdown",
   "metadata": {},
   "source": [
    "##### More feature engineering to make symmetric\n",
    "\n",
    "Above, our features are not being used in a symmetric way...in other words, the prediction depends on who is p1 and who is p2!"
   ]
  },
  {
   "cell_type": "code",
   "execution_count": 48,
   "metadata": {},
   "outputs": [],
   "source": [
    "engineered_df = backfilled_feats.copy()"
   ]
  },
  {
   "cell_type": "code",
   "execution_count": 54,
   "metadata": {},
   "outputs": [],
   "source": [
    "p1_feats = [x for x in TWO_WAY_FEATS if 'p1' in x]\n",
    "new_feats = []\n",
    "# First, straight up advantages\n",
    "for feat in p1_feats:\n",
    "    p2_feat = feat.replace('p1', 'p2')\n",
    "    new_feat_name = feat.replace('_server', '_serve_diff')\n",
    "    new_feat_name = new_feat_name.replace('_returner', '_return_diff')\n",
    "    new_feat_name = new_feat_name.replace('p1_', '')\n",
    "    engineered_df[new_feat_name] = engineered_df[feat] - engineered_df[p2_feat]\n",
    "    new_feats.append(new_feat_name)\n",
    "    \n",
    "p1_serve_feats = [feat for feat in p1_feats if '_server' in feat]\n",
    "for p1_serve in p1_serve_feats:\n",
    "    p1_return = p1_serve.replace('_server', '_returner')\n",
    "    p2_serve = p1_serve.replace('p1', 'p2')\n",
    "    p2_return = p2_serve.replace('_server', '_returner')\n",
    "    \n",
    "    new_feat_name = p1_serve.replace('p1_', '').replace('_server', '_serve_advantage')\n",
    "    engineered_df[new_feat_name] = (\n",
    "        (engineered_df[p1_serve] + engineered_df[p2_return]) -\n",
    "        (engineered_df[p2_serve] + engineered_df[p1_return])\n",
    "    )\n",
    "    new_feats.append(new_feat_name)\n",
    "    \n",
    "engineered_df['elo_pred'] = sigmoid(engineered_df['p1_y_server'] - engineered_df['p2_y_server'])\n",
    "new_feats += ['elo_pred']"
   ]
  },
  {
   "cell_type": "code",
   "execution_count": 55,
   "metadata": {},
   "outputs": [
    {
     "data": {
      "text/html": [
       "<div>\n",
       "<table border=\"1\" class=\"dataframe\">\n",
       "  <thead>\n",
       "    <tr style=\"text-align: right;\">\n",
       "      <th></th>\n",
       "      <th>1stIn_pct_serve_diff</th>\n",
       "      <th>1stIn_pct_return_diff</th>\n",
       "      <th>1stIn_pct_serve_advantage</th>\n",
       "    </tr>\n",
       "  </thead>\n",
       "  <tbody>\n",
       "    <tr>\n",
       "      <th>0</th>\n",
       "      <td>-0.010884</td>\n",
       "      <td>-0.007371</td>\n",
       "      <td>-0.003513</td>\n",
       "    </tr>\n",
       "    <tr>\n",
       "      <th>1</th>\n",
       "      <td>0.030942</td>\n",
       "      <td>0.004643</td>\n",
       "      <td>0.026300</td>\n",
       "    </tr>\n",
       "    <tr>\n",
       "      <th>2</th>\n",
       "      <td>-0.015452</td>\n",
       "      <td>-0.010320</td>\n",
       "      <td>-0.005132</td>\n",
       "    </tr>\n",
       "    <tr>\n",
       "      <th>3</th>\n",
       "      <td>-0.017709</td>\n",
       "      <td>0.006981</td>\n",
       "      <td>-0.024690</td>\n",
       "    </tr>\n",
       "    <tr>\n",
       "      <th>4</th>\n",
       "      <td>-0.026412</td>\n",
       "      <td>-0.003355</td>\n",
       "      <td>-0.023057</td>\n",
       "    </tr>\n",
       "  </tbody>\n",
       "</table>\n",
       "</div>"
      ],
      "text/plain": [
       "   1stIn_pct_serve_diff  1stIn_pct_return_diff  1stIn_pct_serve_advantage\n",
       "0             -0.010884              -0.007371                  -0.003513\n",
       "1              0.030942               0.004643                   0.026300\n",
       "2             -0.015452              -0.010320                  -0.005132\n",
       "3             -0.017709               0.006981                  -0.024690\n",
       "4             -0.026412              -0.003355                  -0.023057"
      ]
     },
     "execution_count": 55,
     "metadata": {},
     "output_type": "execute_result"
    }
   ],
   "source": [
    "engineered_df[[\n",
    "    '1stIn_pct_serve_diff',\n",
    "    '1stIn_pct_return_diff',\n",
    "    '1stIn_pct_serve_advantage'\n",
    "]].head()"
   ]
  },
  {
   "cell_type": "code",
   "execution_count": 56,
   "metadata": {},
   "outputs": [],
   "source": [
    "MIN_TRAIN_DATE = '1990-01-01'\n",
    "MIN_TEST_DATE = '2015-01-01'\n",
    "MAX_TEST_DATE = '2017-01-01'\n",
    "\n",
    "train_df = engineered_df[\n",
    "    (engineered_df['tourney_date'] < MIN_TEST_DATE) &\n",
    "    (engineered_df['surface'] == 'Hard')  # TODO: Surface weights\n",
    "].copy()\n",
    "test_df = engineered_df[\n",
    "    (engineered_df['tourney_date'] > MIN_TEST_DATE) &\n",
    "    (engineered_df['tourney_date'] < MAX_TEST_DATE) &\n",
    "    (engineered_df['surface'] == 'Hard')  # TODO: Surface Weights\n",
    "].copy()"
   ]
  },
  {
   "cell_type": "code",
   "execution_count": 89,
   "metadata": {},
   "outputs": [
    {
     "data": {
      "text/plain": [
       "(3339, 31)"
      ]
     },
     "execution_count": 89,
     "metadata": {},
     "output_type": "execute_result"
    }
   ],
   "source": [
    "test_df.shape"
   ]
  },
  {
   "cell_type": "code",
   "execution_count": 57,
   "metadata": {},
   "outputs": [
    {
     "data": {
      "text/plain": [
       "0.74132354736985762"
      ]
     },
     "execution_count": 57,
     "metadata": {},
     "output_type": "execute_result"
    }
   ],
   "source": [
    "from sklearn.ensemble import RandomForestClassifier\n",
    "from sklearn.metrics import roc_auc_score\n",
    "\n",
    "rf = RandomForestClassifier(n_estimators=500, min_samples_leaf=10, max_features=10)\n",
    "rf.fit(train_df[new_feats], train_df['y'])\n",
    "preds = rf.predict_proba(test_df[new_feats])[:, 1]\n",
    "roc_auc_score(test_df['y'], preds)"
   ]
  },
  {
   "cell_type": "code",
   "execution_count": 58,
   "metadata": {},
   "outputs": [
    {
     "name": "stderr",
     "output_type": "stream",
     "text": [
      "/Users/siddhantjagadish/Documents/DataProjects/tennis_modeling/tennis_modeling/lib/python2.7/site-packages/ipykernel_launcher.py:5: FutureWarning: sort(columns=....) is deprecated, use sort_values(by=.....)\n",
      "  \"\"\"\n"
     ]
    },
    {
     "data": {
      "text/html": [
       "<div>\n",
       "<table border=\"1\" class=\"dataframe\">\n",
       "  <thead>\n",
       "    <tr style=\"text-align: right;\">\n",
       "      <th></th>\n",
       "      <th>feature</th>\n",
       "      <th>imp</th>\n",
       "    </tr>\n",
       "  </thead>\n",
       "  <tbody>\n",
       "    <tr>\n",
       "      <th>18</th>\n",
       "      <td>elo_pred</td>\n",
       "      <td>0.251185</td>\n",
       "    </tr>\n",
       "    <tr>\n",
       "      <th>12</th>\n",
       "      <td>svWon_pct_serve_advantage</td>\n",
       "      <td>0.113677</td>\n",
       "    </tr>\n",
       "    <tr>\n",
       "      <th>14</th>\n",
       "      <td>1stWon_pct_serve_advantage</td>\n",
       "      <td>0.058148</td>\n",
       "    </tr>\n",
       "    <tr>\n",
       "      <th>8</th>\n",
       "      <td>2ndWon_pct_serve_diff</td>\n",
       "      <td>0.042756</td>\n",
       "    </tr>\n",
       "    <tr>\n",
       "      <th>7</th>\n",
       "      <td>2ndIn_pct_return_diff</td>\n",
       "      <td>0.042740</td>\n",
       "    </tr>\n",
       "    <tr>\n",
       "      <th>3</th>\n",
       "      <td>1stIn_pct_return_diff</td>\n",
       "      <td>0.041112</td>\n",
       "    </tr>\n",
       "    <tr>\n",
       "      <th>0</th>\n",
       "      <td>svWon_pct_serve_diff</td>\n",
       "      <td>0.041015</td>\n",
       "    </tr>\n",
       "    <tr>\n",
       "      <th>16</th>\n",
       "      <td>2ndWon_pct_serve_advantage</td>\n",
       "      <td>0.038954</td>\n",
       "    </tr>\n",
       "    <tr>\n",
       "      <th>11</th>\n",
       "      <td>ace_pct_return_diff</td>\n",
       "      <td>0.037271</td>\n",
       "    </tr>\n",
       "    <tr>\n",
       "      <th>6</th>\n",
       "      <td>2ndIn_pct_serve_diff</td>\n",
       "      <td>0.035397</td>\n",
       "    </tr>\n",
       "    <tr>\n",
       "      <th>13</th>\n",
       "      <td>1stIn_pct_serve_advantage</td>\n",
       "      <td>0.035397</td>\n",
       "    </tr>\n",
       "    <tr>\n",
       "      <th>15</th>\n",
       "      <td>2ndIn_pct_serve_advantage</td>\n",
       "      <td>0.035047</td>\n",
       "    </tr>\n",
       "    <tr>\n",
       "      <th>17</th>\n",
       "      <td>ace_pct_serve_advantage</td>\n",
       "      <td>0.034184</td>\n",
       "    </tr>\n",
       "    <tr>\n",
       "      <th>2</th>\n",
       "      <td>1stIn_pct_serve_diff</td>\n",
       "      <td>0.034003</td>\n",
       "    </tr>\n",
       "    <tr>\n",
       "      <th>9</th>\n",
       "      <td>2ndWon_pct_return_diff</td>\n",
       "      <td>0.033831</td>\n",
       "    </tr>\n",
       "    <tr>\n",
       "      <th>10</th>\n",
       "      <td>ace_pct_serve_diff</td>\n",
       "      <td>0.032939</td>\n",
       "    </tr>\n",
       "    <tr>\n",
       "      <th>5</th>\n",
       "      <td>1stWon_pct_return_diff</td>\n",
       "      <td>0.032191</td>\n",
       "    </tr>\n",
       "    <tr>\n",
       "      <th>4</th>\n",
       "      <td>1stWon_pct_serve_diff</td>\n",
       "      <td>0.031080</td>\n",
       "    </tr>\n",
       "    <tr>\n",
       "      <th>1</th>\n",
       "      <td>svWon_pct_return_diff</td>\n",
       "      <td>0.029072</td>\n",
       "    </tr>\n",
       "  </tbody>\n",
       "</table>\n",
       "</div>"
      ],
      "text/plain": [
       "                       feature       imp\n",
       "18                    elo_pred  0.251185\n",
       "12   svWon_pct_serve_advantage  0.113677\n",
       "14  1stWon_pct_serve_advantage  0.058148\n",
       "8        2ndWon_pct_serve_diff  0.042756\n",
       "7        2ndIn_pct_return_diff  0.042740\n",
       "3        1stIn_pct_return_diff  0.041112\n",
       "0         svWon_pct_serve_diff  0.041015\n",
       "16  2ndWon_pct_serve_advantage  0.038954\n",
       "11         ace_pct_return_diff  0.037271\n",
       "6         2ndIn_pct_serve_diff  0.035397\n",
       "13   1stIn_pct_serve_advantage  0.035397\n",
       "15   2ndIn_pct_serve_advantage  0.035047\n",
       "17     ace_pct_serve_advantage  0.034184\n",
       "2         1stIn_pct_serve_diff  0.034003\n",
       "9       2ndWon_pct_return_diff  0.033831\n",
       "10          ace_pct_serve_diff  0.032939\n",
       "5       1stWon_pct_return_diff  0.032191\n",
       "4        1stWon_pct_serve_diff  0.031080\n",
       "1        svWon_pct_return_diff  0.029072"
      ]
     },
     "execution_count": 58,
     "metadata": {},
     "output_type": "execute_result"
    }
   ],
   "source": [
    "imp_df = pd.DataFrame(\n",
    "    zip(new_feats, rf.feature_importances_),\n",
    "    columns=['feature', 'imp']\n",
    ")\n",
    "imp_df.sort('imp', ascending=False)"
   ]
  },
  {
   "cell_type": "markdown",
   "metadata": {},
   "source": [
    "#### Make symmetric by including each data point twice? "
   ]
  },
  {
   "cell_type": "markdown",
   "metadata": {},
   "source": [
    "TODO:\n",
    "    * Add feature for winning the match...likely very important\n",
    "    * Backfill more frequently (requires sorting by tourney date and round / match_num)\n",
    "    * Make features subtractions of each other\n",
    "        * Straight differences don't seem to work too well...\n",
    "        * Include each match twice, one each way...this way has to be symmetric\n",
    "        * Include all symmetric differences and regularize model like cray?\n",
    "    * Add features about clutchness / break points?\n",
    "    * Tune RF, recency weights, etc.\n",
    "    * See if same regularization over time makes signals larger over time...\n",
    "    * Include head to head where it exists...\n",
    "    * ANN vs. RF?"
   ]
  }
 ],
 "metadata": {
  "kernelspec": {
   "display_name": "Python 2",
   "language": "python",
   "name": "python2"
  },
  "language_info": {
   "codemirror_mode": {
    "name": "ipython",
    "version": 2
   },
   "file_extension": ".py",
   "mimetype": "text/x-python",
   "name": "python",
   "nbconvert_exporter": "python",
   "pygments_lexer": "ipython2",
   "version": "2.7.10"
  }
 },
 "nbformat": 4,
 "nbformat_minor": 2
}
