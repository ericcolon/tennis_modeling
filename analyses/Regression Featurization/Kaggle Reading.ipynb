{
 "cells": [
  {
   "cell_type": "markdown",
   "metadata": {},
   "source": [
    "In this noteboook, I read in the Kaggle dataset.  Our goal is to have regressions to create scores for our players at each of the following features:\n",
    "\n",
    "* Ace percentage (server and returner)\n",
    "* 1st serve percentage (server and returner(?))\n",
    "    * Not clear that returner's quality affects the pct of 1st serves in\n",
    "* 1st serve point quality (server and returner)\n",
    "* 2nd serve percentage (server and returner(?))\n",
    "    * Not clear that returner's quality affects pct of 1st serves in\n",
    "* 2nd serve point quality (server and returner)\n",
    "\n",
    "\n",
    "#### TODO:\n",
    "* Make this logistic regression instead of linear regression\n",
    "* Tune weight\n",
    "* Tune surface weights"
   ]
  },
  {
   "cell_type": "code",
   "execution_count": 1,
   "metadata": {},
   "outputs": [
    {
     "name": "stderr",
     "output_type": "stream",
     "text": [
      "/Users/siddhantjagadish/Documents/DataProjects/tennis_modeling/tennis_modeling/lib/python2.7/site-packages/IPython/core/interactiveshell.py:2818: DtypeWarning: Columns (9,19) have mixed types. Specify dtype option on import or set low_memory=False.\n",
      "  if self.run_code(code, result):\n"
     ]
    }
   ],
   "source": [
    "from fetch.kaggle import parse_atp_data\n",
    "\n",
    "df = parse_atp_data()"
   ]
  },
  {
   "cell_type": "code",
   "execution_count": 2,
   "metadata": {},
   "outputs": [],
   "source": [
    "MIN_TEST_DATE = '2015-01-01'\n",
    "MAX_TEST_DATE = '2017-01-01'\n",
    "\n",
    "train_df = df[\n",
    "    (df['tourney_date'] < MIN_TEST_DATE) &\n",
    "    (df['surface'] == 'Hard')  # TODO: Surface weights\n",
    "].copy()\n",
    "test_df = df[\n",
    "    (df['tourney_date'] > MIN_TEST_DATE) &\n",
    "    (df['tourney_date'] < MAX_TEST_DATE) &\n",
    "    (df['surface'] == 'Hard')  # TODO: Surface Weights\n",
    "].copy()"
   ]
  },
  {
   "cell_type": "code",
   "execution_count": 3,
   "metadata": {},
   "outputs": [],
   "source": [
    "import pandas as pd\n",
    "\n",
    "# Get player map\n",
    "part1 = df[['winner_id', 'winner_name']].drop_duplicates('winner_id')\n",
    "part2 = df[['loser_id', 'loser_name']].drop_duplicates('loser_id')\n",
    "part1.rename(columns={'winner_id': 'player_id', 'winner_name': 'player_name'}, inplace=True)\n",
    "part2.rename(columns={'loser_id': 'player_id', 'loser_name': 'player_name'}, inplace=True)\n",
    "player_map_df = pd.concat([part1, part2])\n",
    "player_map_df.drop_duplicates('player_id', inplace=True)"
   ]
  },
  {
   "cell_type": "code",
   "execution_count": 19,
   "metadata": {},
   "outputs": [
    {
     "name": "stdout",
     "output_type": "stream",
     "text": [
      "Automatic pdb calling has been turned OFF\n"
     ]
    }
   ],
   "source": [
    "%pdb\n",
    "def sipko_weights(cur_date, train_df, disc, date_col='date', flat_time=1.):\n",
    "    # Needs to be sorted prior to using\n",
    "    # These are the time decay weights used in the paper.\n",
    "    # min(disc ^ (# years elapsed), disc ^ (flat_time))\n",
    "    max_weight = disc ** flat_time\n",
    "    days_ago = train_df[date_col].map(lambda x: (cur_date - x).days)\n",
    "    years_ago = days_ago / 365.\n",
    "    weights = disc ** years_ago\n",
    "    return weights.clip(upper=max_weight)\n",
    "\n",
    "\n",
    "_s_weights = sipko_weights(\n",
    "    train_df['tourney_date'].max(),\n",
    "    train_df,\n",
    "    0.8,\n",
    "    date_col='tourney_date',\n",
    "    flat_time=1.\n",
    ")"
   ]
  },
  {
   "cell_type": "code",
   "execution_count": 20,
   "metadata": {},
   "outputs": [],
   "source": [
    "def characterize_solution(coef, inverse_player_mapping):\n",
    "    coef_df = pd.DataFrame(\n",
    "        list(enumerate(coef)),\n",
    "        columns=['_mapped_id', 'coef']\n",
    "    )\n",
    "    coef_df['player_id'] = coef_df['_mapped_id'].map(lambda x: inverse_player_mapping[x])\n",
    "    coef_df['side'] = coef_df['player_id'].map(lambda x: 'server' if x > 0 else 'returner')\n",
    "    coef_df['player_id'] = coef_df['player_id'].abs()\n",
    "    coef_df = pd.merge(\n",
    "        coef_df,\n",
    "        player_map_df,\n",
    "        on='player_id'\n",
    "    )\n",
    "    return coef_df"
   ]
  },
  {
   "cell_type": "code",
   "execution_count": 21,
   "metadata": {},
   "outputs": [
    {
     "name": "stdout",
     "output_type": "stream",
     "text": [
      "      _mapped_id      coef  player_id    side         player_name\n",
      "483         3794  0.061410     105683  server        Milos Raonic\n",
      "2595        2646  0.057952     103333  server        Ivo Karlovic\n",
      "3962        2975  0.055794     103819  server       Roger Federer\n",
      "1275        3365  0.047243     104607  server       Tomas Berdych\n",
      "1323        3339  0.042999     104542  server  Jo Wilfried Tsonga\n",
      "957         3536  0.042078     105023  server         Sam Querrey\n",
      "4010        3115  0.041828     104053  server        Andy Roddick\n",
      "1321        3340  0.040107     104545  server          John Isner\n",
      "1029        3494  0.029974     104925  server      Novak Djokovic\n",
      "801         3623  0.029739     105227  server         Marin Cilic\n",
      "      _mapped_id      coef  player_id      side         player_name\n",
      "1028         524 -0.054729     104925  returner      Novak Djokovic\n",
      "1032         526 -0.047070     104918  returner         Andy Murray\n",
      "3963        3955 -0.040880     103819  returner       Roger Federer\n",
      "1162         592 -0.034985     104745  returner        Rafael Nadal\n",
      "1814         937 -0.033013     103970  returner        David Ferrer\n",
      "3955        4025 -0.025581     103786  returner   Nikolay Davydenko\n",
      "1128         574 -0.022526     104792  returner        Gael Monfils\n",
      "1328         678 -0.020331     104527  returner  Stanislas Wawrinka\n",
      "1274         648 -0.019745     104607  returner       Tomas Berdych\n",
      "1470         749 -0.018746     104338  returner         Juan Monaco\n"
     ]
    }
   ],
   "source": [
    "from fetch.regression_features import get_X_y\n",
    "from sklearn.linear_model import Ridge \n",
    "from fetch.regression_features import get_player_mapping\n",
    "\n",
    "def do_model_for_feat(feat, train_df, alpha=100., two_sided=True):\n",
    "    if two_sided:\n",
    "        pm_df = df[\n",
    "            df['p1_%s' % feat].notnull() &\n",
    "            df['p2_%s' % feat].notnull()\n",
    "        ]\n",
    "    else:\n",
    "        pm_df = df[\n",
    "            df[feat].notnull()\n",
    "        ]\n",
    "    pm, ipm = get_player_mapping(pm_df, two_sided=two_sided)\n",
    "\n",
    "    train_X, train_y, pm, ipm, weights = get_X_y(\n",
    "        train_df,\n",
    "        feat,\n",
    "        player_mapping=pm,\n",
    "        inv_player_mapping=ipm,\n",
    "        weights=_s_weights,\n",
    "        two_sided=two_sided\n",
    "    )\n",
    "    lin = Ridge(fit_intercept=True, alpha=alpha)\n",
    "    lin.fit(train_X, train_y, sample_weight=weights)\n",
    "    out = characterize_solution(lin.coef_, ipm)\n",
    "    if two_sided:\n",
    "        print out[out['side'] == 'server'].sort_values(by='coef', ascending=False).head(10)\n",
    "        print out[out['side'] == 'returner'].sort_values(by='coef', ascending=True).head(10)\n",
    "    else:\n",
    "        print out.sort_values(by='coef', ascending=False).head(10)\n",
    "    return out\n",
    "\n",
    "first_won = do_model_for_feat('1stWon_pct', train_df)"
   ]
  },
  {
   "cell_type": "code",
   "execution_count": 22,
   "metadata": {},
   "outputs": [
    {
     "name": "stdout",
     "output_type": "stream",
     "text": [
      "      _mapped_id      coef  player_id    side            player_name\n",
      "3962        2975  0.047597     103819  server          Roger Federer\n",
      "1029        3494  0.047450     104925  server         Novak Djokovic\n",
      "1163        3428  0.044133     104745  server           Rafael Nadal\n",
      "1321        3340  0.031452     104545  server             John Isner\n",
      "4010        3115  0.029730     104053  server           Andy Roddick\n",
      "483         3794  0.028678     105683  server           Milos Raonic\n",
      "1521        3231  0.027431     104269  server      Fernando Verdasco\n",
      "1159        3430  0.025465     104755  server        Richard Gasquet\n",
      "805         3621  0.024441     105223  server  Juan Martin Del Potro\n",
      "1815        3065  0.023634     103970  server           David Ferrer\n",
      "      _mapped_id      coef  player_id      side            player_name\n",
      "1028         524 -0.066947     104925  returner         Novak Djokovic\n",
      "1032         526 -0.057036     104918  returner            Andy Murray\n",
      "1814         937 -0.048805     103970  returner           David Ferrer\n",
      "1162         592 -0.047773     104745  returner           Rafael Nadal\n",
      "1274         648 -0.038318     104607  returner          Tomas Berdych\n",
      "3955        4025 -0.036264     103786  returner      Nikolay Davydenko\n",
      "3963        3955 -0.034344     103819  returner          Roger Federer\n",
      "658          333 -0.032586     105453  returner          Kei Nishikori\n",
      "804          408 -0.031839     105223  returner  Juan Martin Del Potro\n",
      "1394         711 -0.026332     104468  returner           Gilles Simon\n"
     ]
    }
   ],
   "source": [
    "second_won = do_model_for_feat('2ndWon_pct', train_df)"
   ]
  },
  {
   "cell_type": "markdown",
   "metadata": {},
   "source": [
    "#### Investigate some of these features... "
   ]
  },
  {
   "cell_type": "code",
   "execution_count": 23,
   "metadata": {},
   "outputs": [],
   "source": [
    "MIN_TEST_DATE = '2015-01-01'\n",
    "MAX_TEST_DATE = '2017-01-01'\n",
    "\n",
    "train_df = df[\n",
    "    (df['tourney_date'] < MIN_TEST_DATE) &\n",
    "    (df['surface'] == 'Hard')  # TODO: Surface weights\n",
    "].copy()\n",
    "test_df = df[\n",
    "    (df['tourney_date'] > MIN_TEST_DATE) &\n",
    "    (df['tourney_date'] < MAX_TEST_DATE) &\n",
    "    (df['surface'] == 'Hard')  # TODO: Surface Weights\n",
    "].copy()"
   ]
  },
  {
   "cell_type": "code",
   "execution_count": 24,
   "metadata": {},
   "outputs": [
    {
     "data": {
      "text/plain": [
       "['Albert Ramos',\n",
       " 'Alexander Zverev',\n",
       " 'Andy Murray',\n",
       " 'Bernard Tomic',\n",
       " 'David Ferrer',\n",
       " 'David Goffin',\n",
       " 'Dominic Thiem',\n",
       " 'Gael Monfils',\n",
       " 'Gilles Simon',\n",
       " 'Grigor Dimitrov',\n",
       " 'Ivo Karlovic',\n",
       " 'Jack Sock',\n",
       " 'Jo Wilfried Tsonga',\n",
       " 'John Isner',\n",
       " 'Kei Nishikori',\n",
       " 'Lucas Pouille',\n",
       " 'Marin Cilic',\n",
       " 'Milos Raonic',\n",
       " 'Nick Kyrgios',\n",
       " 'Novak Djokovic',\n",
       " 'Pablo Cuevas',\n",
       " 'Rafael Nadal',\n",
       " 'Richard Gasquet',\n",
       " 'Roberto Bautista Agut',\n",
       " 'Roger Federer',\n",
       " 'Stanislas Wawrinka',\n",
       " 'Tomas Berdych',\n",
       " 'Viktor Troicki']"
      ]
     },
     "execution_count": 24,
     "metadata": {},
     "output_type": "execute_result"
    }
   ],
   "source": [
    "rel_players = test_df.sort_values(\n",
    "    by='tourney_date', ascending=True\n",
    ").drop_duplicates('winner_id', keep='last')\n",
    "rel_players = rel_players[\n",
    "    (rel_players['winner_rank'] < 30) &\n",
    "    (rel_players['tourney_date'] > '2015-01-01')\n",
    "]\n",
    "rel_players = sorted(rel_players['winner_name'].unique())\n",
    "rel_players"
   ]
  },
  {
   "cell_type": "code",
   "execution_count": 25,
   "metadata": {},
   "outputs": [],
   "source": [
    "%matplotlib inline\n",
    "from matplotlib import pyplot as plt\n",
    "\n",
    "def compare_two(f1, f2, side='server'):\n",
    "    f1_df = do_model_for_feat(f1, train_df)\n",
    "    f2_df = do_model_for_feat(f2, train_df)\n",
    "    f1_df.rename(columns={'coef': '%s_coef' % f1}, inplace=True)\n",
    "    together = pd.merge(\n",
    "        f1_df,\n",
    "        f2_df[['player_id', 'side', 'coef']],\n",
    "        on=['player_id', 'side']\n",
    "    )\n",
    "    together.rename(columns={'coef': '%s_coef' % f2}, inplace=True)\n",
    "\n",
    "    rel = together[together['side'] == side]\n",
    "    plot_rel = rel[rel['player_name'].isin(rel_players)]\n",
    "    fig, ax = plt.subplots()\n",
    "    ax.scatter(plot_rel['%s_coef' % f1], plot_rel['%s_coef' % f2])\n",
    "    for i, txt in enumerate(plot_rel['player_name'].tolist()):\n",
    "        ax.annotate(\n",
    "            txt,\n",
    "            (plot_rel['%s_coef' % f1].iloc[i], plot_rel['%s_coef' % f2].iloc[i])\n",
    "        )\n",
    "    ax.set_xlabel('Normalized %s' % f1)\n",
    "    ax.set_ylabel('Normalized %s' % f2)"
   ]
  },
  {
   "cell_type": "code",
   "execution_count": 26,
   "metadata": {},
   "outputs": [
    {
     "name": "stdout",
     "output_type": "stream",
     "text": [
      "      _mapped_id      coef  player_id    side        player_name\n",
      "1321        3340  0.047985     104545  server         John Isner\n",
      "1163        3428  0.044690     104745  server       Rafael Nadal\n",
      "3954        2956  0.039573     103786  server  Nikolay Davydenko\n",
      "170           85  0.034358     103813  server    Jarkko Nieminen\n",
      "1029        3494  0.034037     104925  server     Novak Djokovic\n",
      "4010        3115  0.033856     104053  server       Andy Roddick\n",
      "1967        2972  0.033238     103812  server     Victor Hanescu\n",
      "1631        3171  0.032807     104166  server  Alex Bogomolov Jr\n",
      "1521        3231  0.032296     104269  server  Fernando Verdasco\n",
      "2595        2646  0.032287     103333  server       Ivo Karlovic\n",
      "      _mapped_id      coef  player_id      side        player_name\n",
      "156           78 -0.012913     103720  returner     Lleyton Hewitt\n",
      "658          333 -0.012377     105453  returner      Kei Nishikori\n",
      "1358         693 -0.009500     104500  returner   Somdev Devvarman\n",
      "1286         654 -0.008629     104594  returner  Marinko Matosevic\n",
      "490          248 -0.007890     105676  returner       David Goffin\n",
      "1872         970 -0.007088     103900  returner   David Nalbandian\n",
      "3963        3955 -0.007046     103819  returner      Roger Federer\n",
      "1814         937 -0.006653     103970  returner       David Ferrer\n",
      "922          470 -0.006597     105053  returner   Santiago Giraldo\n",
      "1220         621 -0.006358     104665  returner      Pablo Andujar\n",
      "      _mapped_id      coef  player_id    side         player_name\n",
      "483         3794  0.061410     105683  server        Milos Raonic\n",
      "2595        2646  0.057951     103333  server        Ivo Karlovic\n",
      "3962        2975  0.055793     103819  server       Roger Federer\n",
      "1275        3365  0.047242     104607  server       Tomas Berdych\n",
      "1323        3339  0.042999     104542  server  Jo Wilfried Tsonga\n",
      "957         3536  0.042077     105023  server         Sam Querrey\n",
      "4010        3115  0.041828     104053  server        Andy Roddick\n",
      "1321        3340  0.040106     104545  server          John Isner\n",
      "1029        3494  0.029973     104925  server      Novak Djokovic\n",
      "801         3623  0.029738     105227  server         Marin Cilic\n",
      "      _mapped_id      coef  player_id      side         player_name\n",
      "1028         524 -0.054729     104925  returner      Novak Djokovic\n",
      "1032         526 -0.047070     104918  returner         Andy Murray\n",
      "3963        3955 -0.040880     103819  returner       Roger Federer\n",
      "1162         592 -0.034986     104745  returner        Rafael Nadal\n",
      "1814         937 -0.033014     103970  returner        David Ferrer\n",
      "3955        4025 -0.025580     103786  returner   Nikolay Davydenko\n",
      "1128         574 -0.022527     104792  returner        Gael Monfils\n",
      "1328         678 -0.020330     104527  returner  Stanislas Wawrinka\n",
      "1274         648 -0.019744     104607  returner       Tomas Berdych\n",
      "1470         749 -0.018747     104338  returner         Juan Monaco\n"
     ]
    },
    {
     "data": {
      "image/png": "[encoded data removed]",
      "text/plain": [
       "<Figure size 432x288 with 1 Axes>"
      ]
     },
     "metadata": {},
     "output_type": "display_data"
    }
   ],
   "source": [
    "compare_two('1stIn_pct', '1stWon_pct')"
   ]
  },
  {
   "cell_type": "code",
   "execution_count": 27,
   "metadata": {},
   "outputs": [
    {
     "name": "stdout",
     "output_type": "stream",
     "text": [
      "      _mapped_id      coef  player_id    side        player_name\n",
      "1321        3340  0.047986     104545  server         John Isner\n",
      "1163        3428  0.044691     104745  server       Rafael Nadal\n",
      "3954        2956  0.039572     103786  server  Nikolay Davydenko\n",
      "170           85  0.034358     103813  server    Jarkko Nieminen\n",
      "1029        3494  0.034038     104925  server     Novak Djokovic\n",
      "4010        3115  0.033855     104053  server       Andy Roddick\n",
      "1967        2972  0.033239     103812  server     Victor Hanescu\n",
      "1631        3171  0.032804     104166  server  Alex Bogomolov Jr\n",
      "1521        3231  0.032298     104269  server  Fernando Verdasco\n",
      "2595        2646  0.032283     103333  server       Ivo Karlovic\n",
      "      _mapped_id      coef  player_id      side        player_name\n",
      "156           78 -0.012913     103720  returner     Lleyton Hewitt\n",
      "658          333 -0.012378     105453  returner      Kei Nishikori\n",
      "1358         693 -0.009500     104500  returner   Somdev Devvarman\n",
      "1286         654 -0.008629     104594  returner  Marinko Matosevic\n",
      "490          248 -0.007890     105676  returner       David Goffin\n",
      "1872         970 -0.007089     103900  returner   David Nalbandian\n",
      "3963        3955 -0.007051     103819  returner      Roger Federer\n",
      "1814         937 -0.006653     103970  returner       David Ferrer\n",
      "922          470 -0.006597     105053  returner   Santiago Giraldo\n",
      "1220         621 -0.006344     104665  returner      Pablo Andujar\n",
      "      _mapped_id      coef  player_id    side            player_name\n",
      "3962        2975  0.026698     103819  server          Roger Federer\n",
      "1395        3304  0.018662     104468  server           Gilles Simon\n",
      "1163        3428  0.017061     104745  server           Rafael Nadal\n",
      "1539        3220  0.016055     104252  server          Florian Mayer\n",
      "4010        3115  0.015423     104053  server           Andy Roddick\n",
      "923         3553  0.015332     105053  server       Santiago Giraldo\n",
      "1533        3224  0.015293     104259  server  Philipp Kohlschreiber\n",
      "265         3921  0.014472     106071  server          Bernard Tomic\n",
      "1127        3446  0.014407     104797  server          Denis Istomin\n",
      "1275        3365  0.014066     104607  server          Tomas Berdych\n",
      "      _mapped_id      coef  player_id      side        player_name\n",
      "1286         654 -0.008729     104594  returner  Marinko Matosevic\n",
      "1126         573 -0.006722     104797  returner      Denis Istomin\n",
      "704          356 -0.006325     105385  returner       Donald Young\n",
      "926          472 -0.005588     105051  returner      Matthew Ebden\n",
      "276          138 -0.005588     106058  returner          Jack Sock\n",
      "442          224 -0.005292     105777  returner    Grigor Dimitrov\n",
      "3950        2909 -0.004772     104229  returner        Yen Hsun Lu\n",
      "516          261 -0.004588     105643  returner  Federico Delbonis\n",
      "1400         714 -0.004370     104460  returner       Dustin Brown\n",
      "984          502 -0.004118     104978  returner      Daniel Brands\n"
     ]
    },
    {
     "data": {
      "image/png": "[encoded data removed]",
      "text/plain": [
       "<Figure size 432x288 with 1 Axes>"
      ]
     },
     "metadata": {},
     "output_type": "display_data"
    }
   ],
   "source": [
    "compare_two('1stIn_pct', '2ndIn_pct')"
   ]
  },
  {
   "cell_type": "code",
   "execution_count": 28,
   "metadata": {},
   "outputs": [
    {
     "name": "stdout",
     "output_type": "stream",
     "text": [
      "      _mapped_id      coef  player_id    side         player_name\n",
      "483         3794  0.061410     105683  server        Milos Raonic\n",
      "2595        2646  0.057953     103333  server        Ivo Karlovic\n",
      "3962        2975  0.055794     103819  server       Roger Federer\n",
      "1275        3365  0.047243     104607  server       Tomas Berdych\n",
      "1323        3339  0.042999     104542  server  Jo Wilfried Tsonga\n",
      "957         3536  0.042081     105023  server         Sam Querrey\n",
      "4010        3115  0.041828     104053  server        Andy Roddick\n",
      "1321        3340  0.040108     104545  server          John Isner\n",
      "1029        3494  0.029974     104925  server      Novak Djokovic\n",
      "801         3623  0.029739     105227  server         Marin Cilic\n",
      "      _mapped_id      coef  player_id      side         player_name\n",
      "1028         524 -0.054729     104925  returner      Novak Djokovic\n",
      "1032         526 -0.047070     104918  returner         Andy Murray\n",
      "3963        3955 -0.040879     103819  returner       Roger Federer\n",
      "1162         592 -0.034986     104745  returner        Rafael Nadal\n",
      "1814         937 -0.033014     103970  returner        David Ferrer\n",
      "3955        4025 -0.025581     103786  returner   Nikolay Davydenko\n",
      "1128         574 -0.022525     104792  returner        Gael Monfils\n",
      "1328         678 -0.020331     104527  returner  Stanislas Wawrinka\n",
      "1274         648 -0.019745     104607  returner       Tomas Berdych\n",
      "1470         749 -0.018747     104338  returner         Juan Monaco\n",
      "      _mapped_id      coef  player_id    side            player_name\n",
      "3962        2975  0.047593     103819  server          Roger Federer\n",
      "1029        3494  0.047447     104925  server         Novak Djokovic\n",
      "1163        3428  0.044110     104745  server           Rafael Nadal\n",
      "1321        3340  0.031478     104545  server             John Isner\n",
      "4010        3115  0.029732     104053  server           Andy Roddick\n",
      "483         3794  0.028677     105683  server           Milos Raonic\n",
      "1521        3231  0.027429     104269  server      Fernando Verdasco\n",
      "1159        3430  0.025459     104755  server        Richard Gasquet\n",
      "805         3621  0.024454     105223  server  Juan Martin Del Potro\n",
      "1815        3065  0.023632     103970  server           David Ferrer\n",
      "      _mapped_id      coef  player_id      side            player_name\n",
      "1028         524 -0.066947     104925  returner         Novak Djokovic\n",
      "1032         526 -0.057036     104918  returner            Andy Murray\n",
      "1814         937 -0.048807     103970  returner           David Ferrer\n",
      "1162         592 -0.047777     104745  returner           Rafael Nadal\n",
      "1274         648 -0.038328     104607  returner          Tomas Berdych\n",
      "3955        4025 -0.036258     103786  returner      Nikolay Davydenko\n",
      "3963        3955 -0.034339     103819  returner          Roger Federer\n",
      "658          333 -0.032584     105453  returner          Kei Nishikori\n",
      "804          408 -0.031836     105223  returner  Juan Martin Del Potro\n",
      "1394         711 -0.026329     104468  returner           Gilles Simon\n"
     ]
    },
    {
     "data": {
      "image/png": "[encoded data removed]",
      "text/plain": [
       "<Figure size 432x288 with 1 Axes>"
      ]
     },
     "metadata": {},
     "output_type": "display_data"
    }
   ],
   "source": [
    "compare_two('1stWon_pct', '2ndWon_pct')"
   ]
  },
  {
   "cell_type": "code",
   "execution_count": 29,
   "metadata": {},
   "outputs": [
    {
     "name": "stdout",
     "output_type": "stream",
     "text": [
      "      _mapped_id      coef  player_id    side         player_name\n",
      "483         3794  0.061411     105683  server        Milos Raonic\n",
      "2595        2646  0.057952     103333  server        Ivo Karlovic\n",
      "3962        2975  0.055793     103819  server       Roger Federer\n",
      "1275        3365  0.047243     104607  server       Tomas Berdych\n",
      "1323        3339  0.042998     104542  server  Jo Wilfried Tsonga\n",
      "957         3536  0.042078     105023  server         Sam Querrey\n",
      "4010        3115  0.041828     104053  server        Andy Roddick\n",
      "1321        3340  0.040107     104545  server          John Isner\n",
      "1029        3494  0.029975     104925  server      Novak Djokovic\n",
      "801         3623  0.029739     105227  server         Marin Cilic\n",
      "      _mapped_id      coef  player_id      side         player_name\n",
      "1028         524 -0.054727     104925  returner      Novak Djokovic\n",
      "1032         526 -0.047069     104918  returner         Andy Murray\n",
      "3963        3955 -0.040881     103819  returner       Roger Federer\n",
      "1162         592 -0.034986     104745  returner        Rafael Nadal\n",
      "1814         937 -0.033015     103970  returner        David Ferrer\n",
      "3955        4025 -0.025580     103786  returner   Nikolay Davydenko\n",
      "1128         574 -0.022525     104792  returner        Gael Monfils\n",
      "1328         678 -0.020330     104527  returner  Stanislas Wawrinka\n",
      "1274         648 -0.019743     104607  returner       Tomas Berdych\n",
      "1470         749 -0.018747     104338  returner         Juan Monaco\n",
      "      _mapped_id      coef  player_id    side            player_name\n",
      "3962        2975  0.047595     103819  server          Roger Federer\n",
      "1029        3494  0.047450     104925  server         Novak Djokovic\n",
      "1163        3428  0.044113     104745  server           Rafael Nadal\n",
      "1321        3340  0.031481     104545  server             John Isner\n",
      "4010        3115  0.029732     104053  server           Andy Roddick\n",
      "483         3794  0.028676     105683  server           Milos Raonic\n",
      "1521        3231  0.027432     104269  server      Fernando Verdasco\n",
      "1159        3430  0.025462     104755  server        Richard Gasquet\n",
      "805         3621  0.024453     105223  server  Juan Martin Del Potro\n",
      "1815        3065  0.023631     103970  server           David Ferrer\n",
      "      _mapped_id      coef  player_id      side            player_name\n",
      "1028         524 -0.066946     104925  returner         Novak Djokovic\n",
      "1032         526 -0.057036     104918  returner            Andy Murray\n",
      "1814         937 -0.048805     103970  returner           David Ferrer\n",
      "1162         592 -0.047775     104745  returner           Rafael Nadal\n",
      "1274         648 -0.038327     104607  returner          Tomas Berdych\n",
      "3955        4025 -0.036258     103786  returner      Nikolay Davydenko\n",
      "3963        3955 -0.034335     103819  returner          Roger Federer\n",
      "658          333 -0.032582     105453  returner          Kei Nishikori\n",
      "804          408 -0.031838     105223  returner  Juan Martin Del Potro\n",
      "1394         711 -0.026326     104468  returner           Gilles Simon\n"
     ]
    },
    {
     "data": {
      "image/png": "[encoded data removed]",
      "text/plain": [
       "<Figure size 432x288 with 1 Axes>"
      ]
     },
     "metadata": {},
     "output_type": "display_data"
    }
   ],
   "source": [
    "# Should expect these to be very highly correlated\n",
    "compare_two('1stWon_pct', '2ndWon_pct', side='returner')"
   ]
  },
  {
   "cell_type": "markdown",
   "metadata": {},
   "source": [
    "Djokovic is an incredibly good returner!"
   ]
  },
  {
   "cell_type": "markdown",
   "metadata": {},
   "source": [
    "#### Try \"One-Sided Feature\" like Winning...\n",
    "\n",
    "Using an \"ELO\" model as a feature here might produce a much better model! "
   ]
  },
  {
   "cell_type": "code",
   "execution_count": 30,
   "metadata": {},
   "outputs": [
    {
     "name": "stdout",
     "output_type": "stream",
     "text": [
      "      _mapped_id      coef  player_id    side            player_name\n",
      "2774        2774  0.307107     104925  server         Novak Djokovic\n",
      "2307        2307  0.287694     103819  server          Roger Federer\n",
      "2770        2770  0.234188     104918  server            Andy Murray\n",
      "2707        2707  0.233107     104745  server           Rafael Nadal\n",
      "2893        2893  0.182443     105223  server  Juan Martin Del Potro\n",
      "2645        2645  0.160985     104607  server          Tomas Berdych\n",
      "2418        2418  0.155776     104053  server           Andy Roddick\n",
      "2616        2616  0.153632     104542  server     Jo Wilfried Tsonga\n",
      "2374        2374  0.151356     103970  server           David Ferrer\n",
      "3039        3039  0.144822     105683  server           Milos Raonic\n"
     ]
    }
   ],
   "source": [
    "elo_rankings = do_model_for_feat(\n",
    "    'y',\n",
    "    train_df,\n",
    "    two_sided=False\n",
    ")"
   ]
  },
  {
   "cell_type": "markdown",
   "metadata": {},
   "source": [
    "Looks reasonable...What if we use a logistic regression?  How good would that model be on its own?"
   ]
  },
  {
   "cell_type": "code",
   "execution_count": null,
   "metadata": {},
   "outputs": [],
   "source": [
    "from sklearn.linear_model import LogisticRegression\n",
    "\n",
    "pm_df = df[\n",
    "    df['y'].notnull()\n",
    "]\n",
    "pm, ipm = get_player_mapping(pm_df, two_sided=False)\n",
    "\n",
    "train_X, train_y, pm, ipm, weights = get_X_y(\n",
    "    train_df,\n",
    "    'y',\n",
    "    player_mapping=pm,\n",
    "    inv_player_mapping=ipm,\n",
    "    weights=_s_weights,\n",
    "    two_sided=False\n",
    ")\n",
    "test_X, test_y, _, _, _ = get_X_y(\n",
    "    test_df,\n",
    "    'y',\n",
    "    player_mapping=pm,\n",
    "    inv_player_mapping = ipm,\n",
    "    weights=None,\n",
    "    two_sided=False\n",
    ")\n",
    "\n",
    "lr = LogisticRegression(C=0.4, fit_intercept=False)\n",
    "lr.fit(train_X, train_y.astype(int), sample_weight=weights)\n",
    "out = characterize_solution(lr.coef_[0], ipm)\n",
    "out.sort_values(by='coef', ascending=False).head(10)"
   ]
  },
  {
   "cell_type": "code",
   "execution_count": null,
   "metadata": {},
   "outputs": [],
   "source": [
    "from sklearn.metrics import roc_auc_score\n",
    "\n",
    "preds = lr.predict_proba(test_X)[:, 1]\n",
    "roc_auc_score(test_y.astype(int), preds)"
   ]
  },
  {
   "cell_type": "markdown",
   "metadata": {},
   "source": [
    "AUC of 0.725 without any updates!"
   ]
  },
  {
   "cell_type": "markdown",
   "metadata": {},
   "source": [
    "#### Tune models / weighting\n",
    "\n",
    "TODO:\n",
    "* Should regularization differ with sample size?\n",
    "* Should we train on all surfaces?\n",
    "* Tune regularization parameter for these models? * Change to binary outcome (weight by # of each outcome)?"
   ]
  },
  {
   "cell_type": "markdown",
   "metadata": {},
   "source": [
    "#### Backfill over time\n",
    "Let's backfill these features over time..."
   ]
  },
  {
   "cell_type": "code",
   "execution_count": null,
   "metadata": {},
   "outputs": [],
   "source": [
    "MIN_TRAIN_DATE = '1990-01-01'\n",
    "MIN_TEST_DATE = '2000-01-01'\n",
    "MAX_TEST_DATE = '2017-01-01'\n",
    "\n",
    "train_df = df[\n",
    "    (df['tourney_date'] < MIN_TEST_DATE) &\n",
    "    (df['surface'] == 'Hard')  # TODO: Surface weights\n",
    "].copy()\n",
    "test_df = df[\n",
    "    (df['tourney_date'] > MIN_TEST_DATE) &\n",
    "    (df['tourney_date'] < MAX_TEST_DATE) &\n",
    "    (df['surface'] == 'Hard')  # TODO: Surface Weights\n",
    "].copy()"
   ]
  },
  {
   "cell_type": "code",
   "execution_count": null,
   "metadata": {},
   "outputs": [],
   "source": [
    "import itertools\n",
    "from fetch.regression_features import get_X_y\n",
    "from sklearn.linear_model import Ridge \n",
    "from fetch.regression_features import get_player_mapping\n",
    "\n",
    "FEATS = [\n",
    "    'svWon_pct',\n",
    "    '1stIn_pct',\n",
    "    '1stWon_pct',\n",
    "    '2ndIn_pct',\n",
    "    '2ndWon_pct',\n",
    "    'ace_pct',\n",
    "    'y'\n",
    "]\n",
    "\n",
    "\n",
    "def update_for_feat(feat, train_df, test_df, two_sided=True):\n",
    "    # TODO: Add test_df here too...\n",
    "    if two_sided:\n",
    "        pm_df = df[\n",
    "            df['p1_%s' % feat].notnull() &\n",
    "            df['p2_%s' % feat].notnull()\n",
    "        ]\n",
    "    else:\n",
    "        pm_df = df[df[feat].notnull()]\n",
    "    pm, ipm = get_player_mapping(pm_df, two_sided=two_sided)\n",
    "\n",
    "    _s_weights = sipko_weights(\n",
    "        train_df['tourney_date'].max(),\n",
    "        train_df,\n",
    "        0.8,\n",
    "        date_col='tourney_date',\n",
    "        flat_time=1.\n",
    "    )\n",
    "\n",
    "    train_X, train_y, pm, ipm, weights = get_X_y(\n",
    "        train_df,\n",
    "        feat,\n",
    "        player_mapping=pm,\n",
    "        inv_player_mapping=ipm,\n",
    "        weights=_s_weights,\n",
    "        two_sided=two_sided\n",
    "    )\n",
    "\n",
    "    if two_sided:\n",
    "        lin = Ridge(fit_intercept=True, alpha=100.)\n",
    "        lin.fit(train_X, train_y, sample_weight=weights)\n",
    "    else:\n",
    "        lin = LogisticRegression(fit_intercept=False, C=0.4)\n",
    "        lin.fit(train_X, train_y, sample_weight=weights)\n",
    "        \n",
    "    coef_df = pd.DataFrame(\n",
    "        [(ipm[k], v) for k, v in list(enumerate(lin.coef_.reshape(-1)))],\n",
    "        columns=['player_id', '%s_coef' % feat]\n",
    "    )    \n",
    "\n",
    "    test_df = pd.merge(\n",
    "        test_df,\n",
    "        coef_df,\n",
    "        left_on='p1_id',\n",
    "        right_on='player_id'\n",
    "    )\n",
    "    test_df.rename(\n",
    "        columns={'%s_coef' % feat: 'p1_%s_server' % feat},\n",
    "        inplace=True\n",
    "    )\n",
    "    test_df.drop('player_id', axis=1, inplace=True)\n",
    "    test_df = pd.merge(\n",
    "        test_df,\n",
    "        coef_df,\n",
    "        left_on='p2_id',\n",
    "        right_on='player_id'\n",
    "    )\n",
    "    test_df.rename(\n",
    "        columns={'%s_coef' % feat: 'p2_%s_server' % feat},\n",
    "        inplace=True\n",
    "    )\n",
    "    test_df.drop('player_id', axis=1, inplace=True)\n",
    "\n",
    "    if two_sided:\n",
    "        coef_df['player_id'] = -coef_df['player_id']\n",
    "        test_df = pd.merge(\n",
    "            test_df,\n",
    "            coef_df,\n",
    "            left_on='p1_id',\n",
    "            right_on='player_id'\n",
    "        )\n",
    "        test_df.rename(\n",
    "            columns={'%s_coef' % feat: 'p1_%s_returner' % feat},\n",
    "            inplace=True\n",
    "        )\n",
    "        test_df.drop('player_id', axis=1, inplace=True)\n",
    "\n",
    "        test_df = pd.merge(\n",
    "            test_df,\n",
    "            coef_df,\n",
    "            left_on='p2_id',\n",
    "            right_on='player_id'\n",
    "        )\n",
    "        test_df.rename(\n",
    "            columns={'%s_coef' % feat: 'p2_%s_returner' % feat},\n",
    "            inplace=True\n",
    "        )\n",
    "        test_df.drop('player_id', axis=1, inplace=True)\n",
    "    return test_df \n",
    "    \n",
    "def backfill(update_period=50):\n",
    "    # Should backfill features\n",
    "    out = []\n",
    "    cur_date = test_df['tourney_date'].min()\n",
    "    while(cur_date < pd.to_datetime(MAX_TEST_DATE)):\n",
    "        print cur_date\n",
    "        cur_train_df = df[\n",
    "            (df['tourney_date'] >= MIN_TRAIN_DATE) &\n",
    "            (df['tourney_date'] < cur_date)\n",
    "        ].copy()\n",
    "        cur_test_df = df[\n",
    "            (df['tourney_date'] >= cur_date) &\n",
    "            (df['tourney_date'] < cur_date + pd.Timedelta(days=update_period)) &\n",
    "            (df['tourney_date'] < MAX_TEST_DATE) &\n",
    "            (df['surface'] == 'Hard')\n",
    "        ].copy()\n",
    "        if cur_test_df.shape[0] > 0:\n",
    "            for feat in FEATS:\n",
    "                cur_test_df = update_for_feat(feat, cur_train_df, cur_test_df, two_sided=(feat!='y'))\n",
    "            out_feats = list(itertools.chain(*[[\n",
    "                'p1_%s_server' % feat,\n",
    "                'p1_%s_returner' % feat,\n",
    "                'p2_%s_server' % feat,\n",
    "                'p2_%s_returner' % feat\n",
    "            ] for feat in FEATS if feat != 'y']))\n",
    "            out_feats.extend([\n",
    "                'p1_y_server',\n",
    "                'p2_y_server'\n",
    "            ])\n",
    "            out.append(cur_test_df[\n",
    "                out_feats + ['tourney_date', 'match_id', 'y', 'surface']\n",
    "            ])\n",
    "        cur_date = cur_date + pd.Timedelta(days=update_period)\n",
    "    return pd.concat(out)"
   ]
  },
  {
   "cell_type": "code",
   "execution_count": null,
   "metadata": {},
   "outputs": [],
   "source": [
    "w = update_for_feat('y', train_df, test_df, two_sided=False)"
   ]
  },
  {
   "cell_type": "code",
   "execution_count": null,
   "metadata": {},
   "outputs": [],
   "source": [
    "backfilled_feats = backfill()"
   ]
  },
  {
   "cell_type": "markdown",
   "metadata": {},
   "source": [
    "##### Train model on backfilled features\n",
    "First, without ELO as a feature"
   ]
  },
  {
   "cell_type": "code",
   "execution_count": null,
   "metadata": {},
   "outputs": [],
   "source": [
    "MIN_TRAIN_DATE = '1990-01-01'\n",
    "MIN_TEST_DATE = '2015-01-01'\n",
    "MAX_TEST_DATE = '2017-01-01'\n",
    "\n",
    "train_df = backfilled_feats[\n",
    "    (backfilled_feats['tourney_date'] < MIN_TEST_DATE) &\n",
    "    (backfilled_feats['surface'] == 'Hard')  # TODO: Surface weights\n",
    "].copy()\n",
    "test_df = backfilled_feats[\n",
    "    (backfilled_feats['tourney_date'] > MIN_TEST_DATE) &\n",
    "    (backfilled_feats['tourney_date'] < MAX_TEST_DATE) &\n",
    "    (backfilled_feats['surface'] == 'Hard')  # TODO: Surface Weights\n",
    "].copy()"
   ]
  },
  {
   "cell_type": "code",
   "execution_count": null,
   "metadata": {},
   "outputs": [],
   "source": [
    "TRAIN_FEATS = list(itertools.chain(*[[\n",
    "    'p1_%s_server' % feat,\n",
    "    'p1_%s_returner' % feat,\n",
    "    'p2_%s_server' % feat,\n",
    "    'p2_%s_returner' % feat\n",
    "] for feat in FEATS if feat != 'y']))"
   ]
  },
  {
   "cell_type": "code",
   "execution_count": null,
   "metadata": {},
   "outputs": [],
   "source": [
    "from sklearn.ensemble import RandomForestClassifier\n",
    "from sklearn.metrics import roc_auc_score\n",
    "\n",
    "rf = RandomForestClassifier(n_estimators=500, min_samples_leaf=10)\n",
    "rf.fit(train_df[TRAIN_FEATS], train_df['y'])\n",
    "preds = rf.predict_proba(test_df[TRAIN_FEATS])[:, 1]\n",
    "roc_auc_score(test_df['y'], preds)"
   ]
  },
  {
   "cell_type": "markdown",
   "metadata": {},
   "source": [
    "Pretty good performance!  Would be even better if we added features for player overall quality and fatigue and such!"
   ]
  },
  {
   "cell_type": "markdown",
   "metadata": {},
   "source": [
    "#### Now with ELO"
   ]
  },
  {
   "cell_type": "code",
   "execution_count": null,
   "metadata": {},
   "outputs": [],
   "source": [
    "# Compare to just ELO\n",
    "import numpy as np\n",
    "\n",
    "def sigmoid(x):\n",
    "    return 1. / (1. + np.exp(-x))\n",
    "\n",
    "elo_preds = sigmoid(test_df['p1_y_server'] - test_df['p2_y_server'])\n",
    "roc_auc_score(test_df['y'], elo_preds)"
   ]
  },
  {
   "cell_type": "markdown",
   "metadata": {},
   "source": [
    "Just ELO preds do almost as well!  Let's see if I can make a better model through the features..."
   ]
  },
  {
   "cell_type": "code",
   "execution_count": null,
   "metadata": {},
   "outputs": [],
   "source": [
    "TWO_WAY_FEATS = list(itertools.chain(*[[\n",
    "    'p1_%s_server' % feat,\n",
    "    'p1_%s_returner' % feat,\n",
    "    'p2_%s_server' % feat,\n",
    "    'p2_%s_returner' % feat\n",
    "] for feat in FEATS if feat != 'y']))\n",
    "\n",
    "train_df['elo_pred'] = sigmoid(train_df['p1_y_server'] - train_df['p2_y_server'])\n",
    "test_df['elo_pred'] = sigmoid(test_df['p1_y_server'] - test_df['p2_y_server'])\n",
    "\n",
    "train_feats = TWO_WAY_FEATS + ['elo_pred']\n",
    "\n",
    "rf = RandomForestClassifier(n_estimators=500, min_samples_leaf=10)\n",
    "rf.fit(train_df[train_feats], train_df['y'])\n",
    "preds = rf.predict_proba(test_df[train_feats])[:, 1]\n",
    "roc_auc_score(test_df['y'], preds)"
   ]
  },
  {
   "cell_type": "markdown",
   "metadata": {},
   "source": [
    "Got half a point from including other features!"
   ]
  },
  {
   "cell_type": "code",
   "execution_count": null,
   "metadata": {},
   "outputs": [],
   "source": [
    "N_ATTEMPTS = 30\n",
    "\n",
    "min_samples_leaf_tune = (10 ** np.random.uniform(low=1, high=3, size=N_ATTEMPTS)).astype(int)\n",
    "max_features_tune = (np.random.uniform(low=1. / len(train_feats), high=1, size=N_ATTEMPTS) * len(train_feats)).astype(int)\n",
    "\n",
    "out = []\n",
    "for msl, mf in zip(min_samples_leaf_tune, max_features_tune):\n",
    "    print msl, mf\n",
    "    rf = RandomForestClassifier(n_estimators=500, min_samples_leaf=msl, max_features=mf)\n",
    "    rf.fit(train_df[train_feats], train_df['y'])\n",
    "    preds = rf.predict_proba(test_df[train_feats])[:, 1]\n",
    "    auc = roc_auc_score(test_df['y'], preds)\n",
    "    print auc\n",
    "    out.append((msl, mf,auc))"
   ]
  },
  {
   "cell_type": "code",
   "execution_count": null,
   "metadata": {},
   "outputs": [],
   "source": [
    "tune_df = pd.DataFrame(\n",
    "    out,\n",
    "    columns=['msl', 'mf', 'auc']\n",
    ")\n",
    "tune_df.sort('auc', ascending=False)"
   ]
  },
  {
   "cell_type": "markdown",
   "metadata": {},
   "source": [
    "##### Stack instead of model jointly?"
   ]
  },
  {
   "cell_type": "code",
   "execution_count": null,
   "metadata": {},
   "outputs": [],
   "source": [
    "# Server / returner feats\n",
    "rf = RandomForestClassifier(n_estimators=500, min_samples_leaf=10)\n",
    "rf.fit(train_df[TWO_WAY_FEATS], train_df['y'])\n",
    "preds = rf.predict_proba(test_df[TWO_WAY_FEATS])[:, 1]\n",
    "roc_auc_score(test_df['y'], preds)"
   ]
  },
  {
   "cell_type": "code",
   "execution_count": null,
   "metadata": {},
   "outputs": [],
   "source": [
    "# Just ELO\n",
    "test_df['elo_pred'] = sigmoid(test_df['p1_y_server'] - test_df['p2_y_server'])\n",
    "roc_auc_score(test_df['y'], test_df['elo_pred'])"
   ]
  },
  {
   "cell_type": "code",
   "execution_count": null,
   "metadata": {},
   "outputs": [],
   "source": [
    "# 50% stack\n",
    "out = []\n",
    "for alpha in np.linspace(0, 1, 101):\n",
    "    new_preds = alpha * preds + (1. - alpha) * test_df['elo_pred']\n",
    "    auc = roc_auc_score(test_df['y'], new_preds)\n",
    "    out.append((alpha, auc))"
   ]
  },
  {
   "cell_type": "code",
   "execution_count": null,
   "metadata": {},
   "outputs": [],
   "source": [
    "plt.plot(zip(*out)[0], zip(*out)[1])"
   ]
  },
  {
   "cell_type": "code",
   "execution_count": null,
   "metadata": {},
   "outputs": [],
   "source": [
    "stack_df = pd.DataFrame(\n",
    "    out,\n",
    "    columns=['alpha', 'auc']\n",
    ")\n",
    "stack_df.sort('auc', ascending=False).head()"
   ]
  },
  {
   "cell_type": "markdown",
   "metadata": {},
   "source": [
    "Still not as good as combined model"
   ]
  },
  {
   "cell_type": "markdown",
   "metadata": {},
   "source": [
    "##### More feature engineering to make symmetric\n",
    "\n",
    "Above, our features are not being used in a symmetric way...in other words, the prediction depends on who is p1 and who is p2!"
   ]
  },
  {
   "cell_type": "code",
   "execution_count": null,
   "metadata": {},
   "outputs": [],
   "source": [
    "engineered_df = backfilled_feats.copy()"
   ]
  },
  {
   "cell_type": "code",
   "execution_count": null,
   "metadata": {},
   "outputs": [],
   "source": [
    "p1_feats = [x for x in TWO_WAY_FEATS if 'p1' in x]\n",
    "new_feats = []\n",
    "# First, straight up advantages\n",
    "for feat in p1_feats:\n",
    "    p2_feat = feat.replace('p1', 'p2')\n",
    "    new_feat_name = feat.replace('_server', '_serve_diff')\n",
    "    new_feat_name = new_feat_name.replace('_returner', '_return_diff')\n",
    "    new_feat_name = new_feat_name.replace('p1_', '')\n",
    "    engineered_df[new_feat_name] = engineered_df[feat] - engineered_df[p2_feat]\n",
    "    new_feats.append(new_feat_name)\n",
    "    \n",
    "p1_serve_feats = [feat for feat in p1_feats if '_server' in feat]\n",
    "for p1_serve in p1_serve_feats:\n",
    "    p1_return = p1_serve.replace('_server', '_returner')\n",
    "    p2_serve = p1_serve.replace('p1', 'p2')\n",
    "    p2_return = p2_serve.replace('_server', '_returner')\n",
    "    \n",
    "    new_feat_name = p1_serve.replace('p1_', '').replace('_server', '_serve_advantage')\n",
    "    engineered_df[new_feat_name] = (\n",
    "        (engineered_df[p1_serve] + engineered_df[p2_return]) -\n",
    "        (engineered_df[p2_serve] + engineered_df[p1_return])\n",
    "    )\n",
    "    new_feats.append(new_feat_name)\n",
    "    \n",
    "engineered_df['elo_pred'] = sigmoid(engineered_df['p1_y_server'] - engineered_df['p2_y_server'])\n",
    "new_feats += ['elo_pred']"
   ]
  },
  {
   "cell_type": "code",
   "execution_count": null,
   "metadata": {},
   "outputs": [],
   "source": [
    "engineered_df[[\n",
    "    '1stIn_pct_serve_diff',\n",
    "    '1stIn_pct_return_diff',\n",
    "    '1stIn_pct_serve_advantage'\n",
    "]].head()"
   ]
  },
  {
   "cell_type": "code",
   "execution_count": null,
   "metadata": {},
   "outputs": [],
   "source": [
    "MIN_TRAIN_DATE = '1990-01-01'\n",
    "MIN_TEST_DATE = '2015-01-01'\n",
    "MAX_TEST_DATE = '2017-01-01'\n",
    "\n",
    "train_df = engineered_df[\n",
    "    (engineered_df['tourney_date'] < MIN_TEST_DATE) &\n",
    "    (engineered_df['surface'] == 'Hard')  # TODO: Surface weights\n",
    "].copy()\n",
    "test_df = engineered_df[\n",
    "    (engineered_df['tourney_date'] > MIN_TEST_DATE) &\n",
    "    (engineered_df['tourney_date'] < MAX_TEST_DATE) &\n",
    "    (engineered_df['surface'] == 'Hard')  # TODO: Surface Weights\n",
    "].copy()"
   ]
  },
  {
   "cell_type": "code",
   "execution_count": null,
   "metadata": {},
   "outputs": [],
   "source": [
    "test_df.shape"
   ]
  },
  {
   "cell_type": "code",
   "execution_count": null,
   "metadata": {},
   "outputs": [],
   "source": [
    "from sklearn.ensemble import RandomForestClassifier\n",
    "from sklearn.metrics import roc_auc_score\n",
    "\n",
    "rf = RandomForestClassifier(n_estimators=500, min_samples_leaf=10, max_features=10)\n",
    "rf.fit(train_df[new_feats], train_df['y'])\n",
    "preds = rf.predict_proba(test_df[new_feats])[:, 1]\n",
    "roc_auc_score(test_df['y'], preds)"
   ]
  },
  {
   "cell_type": "code",
   "execution_count": null,
   "metadata": {},
   "outputs": [],
   "source": [
    "imp_df = pd.DataFrame(\n",
    "    zip(new_feats, rf.feature_importances_),\n",
    "    columns=['feature', 'imp']\n",
    ")\n",
    "imp_df.sort('imp', ascending=False)"
   ]
  },
  {
   "cell_type": "markdown",
   "metadata": {},
   "source": [
    "#### Make symmetric by including each data point twice? "
   ]
  },
  {
   "cell_type": "markdown",
   "metadata": {},
   "source": [
    "TODO:\n",
    "    * Add feature for winning the match...likely very important\n",
    "    * Backfill more frequently (requires sorting by tourney date and round / match_num)\n",
    "    * Make features subtractions of each other\n",
    "        * Straight differences don't seem to work too well...\n",
    "        * Include each match twice, one each way...this way has to be symmetric\n",
    "        * Include all symmetric differences and regularize model like cray?\n",
    "    * Add features about clutchness / break points?\n",
    "    * Tune RF, recency weights, etc.\n",
    "    * See if same regularization over time makes signals larger over time...\n",
    "    * Include head to head where it exists...\n",
    "    * ANN vs. RF?"
   ]
  }
 ],
 "metadata": {
  "kernelspec": {
   "display_name": "Python 2",
   "language": "python",
   "name": "python2"
  },
  "language_info": {
   "codemirror_mode": {
    "name": "ipython",
    "version": 2
   },
   "file_extension": ".py",
   "mimetype": "text/x-python",
   "name": "python",
   "nbconvert_exporter": "python",
   "pygments_lexer": "ipython2",
   "version": "2.7.10"
  }
 },
 "nbformat": 4,
 "nbformat_minor": 2
}
