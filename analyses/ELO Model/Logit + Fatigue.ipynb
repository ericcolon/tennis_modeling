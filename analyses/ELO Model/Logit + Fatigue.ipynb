{
 "cells": [
  {
   "cell_type": "markdown",
   "metadata": {},
   "source": [
    "In this notebook, we'll look at featurizing fatigue to see if we can get lift on our models through this.\n",
    "The Sipko paper indicates that fatigue can be featurized by:\n",
    "\n",
    "* Number of matches played in last 3 days\n",
    "* Indicator for whether this is the first match back after retiring from one "
   ]
  },
  {
   "cell_type": "code",
   "execution_count": 1,
   "metadata": {},
   "outputs": [],
   "source": [
    "SURFACE = 'Clay'"
   ]
  },
  {
   "cell_type": "code",
   "execution_count": 2,
   "metadata": {},
   "outputs": [
    {
     "name": "stderr",
     "output_type": "stream",
     "text": [
      "/Users/siddhantjagadish/Documents/DataProjects/tennis_modeling/tennis_modeling/lib/python2.7/site-packages/IPython/core/interactiveshell.py:2818: DtypeWarning: Columns (14) have mixed types. Specify dtype option on import or set low_memory=False.\n",
      "  if self.run_code(code, result):\n"
     ]
    }
   ],
   "source": [
    "from fetch.match_results import read_joined \n",
    "\n",
    "df, player_mapping, inverse_player_mapping = read_joined()"
   ]
  },
  {
   "cell_type": "code",
   "execution_count": 3,
   "metadata": {},
   "outputs": [],
   "source": [
    "# Before 2003, no distinction in date between matches\n",
    "df = df[df['date'] >= '2003-01-01'].copy()"
   ]
  },
  {
   "cell_type": "code",
   "execution_count": 4,
   "metadata": {},
   "outputs": [
    {
     "name": "stderr",
     "output_type": "stream",
     "text": [
      "/Users/siddhantjagadish/Documents/DataProjects/tennis_modeling/tennis_modeling/lib/python2.7/site-packages/ipykernel_launcher.py:1: FutureWarning: sort(columns=....) is deprecated, use sort_values(by=.....)\n",
      "  \"\"\"Entry point for launching an IPython kernel.\n"
     ]
    }
   ],
   "source": [
    "df.sort(['date', 'round'], inplace=True)"
   ]
  },
  {
   "cell_type": "markdown",
   "metadata": {},
   "source": [
    "#### Retirement\n",
    "Let's look at whether people who retired in their last match actually do worse"
   ]
  },
  {
   "cell_type": "code",
   "execution_count": 5,
   "metadata": {},
   "outputs": [],
   "source": [
    "%matplotlib inline\n",
    "import pandas as pd\n",
    "from matplotlib import pyplot as plt\n",
    "\n",
    "\n",
    "def mvg_average_plot(df, sort_col, outcome_col, window=500, qmin=0.01, qmax=0.99):\n",
    "    sorted_df = df.sort_values(by=sort_col)\n",
    "    out = pd.rolling_mean(sorted_df[outcome_col], window=window)\n",
    "    plt.plot(sorted_df[sort_col], out)\n",
    "    plt.xlabel(sort_col)\n",
    "    plt.xlim((\n",
    "        df[sort_col].quantile(qmin),\n",
    "        df[sort_col].quantile(qmax)\n",
    "    ))"
   ]
  },
  {
   "cell_type": "code",
   "execution_count": 6,
   "metadata": {},
   "outputs": [
    {
     "name": "stderr",
     "output_type": "stream",
     "text": [
      "/Users/siddhantjagadish/Documents/DataProjects/tennis_modeling/tennis_modeling/lib/python2.7/site-packages/ipykernel_launcher.py:8: FutureWarning: pd.rolling_mean is deprecated for Series and will be removed in a future version, replace with \n",
      "\tSeries.rolling(window=500,center=False).mean()\n",
      "  \n"
     ]
    },
    {
     "data": {
      "image/png": "[encoded data removed]",
      "text/plain": [
       "<Figure size 432x288 with 1 Axes>"
      ]
     },
     "metadata": {},
     "output_type": "display_data"
    }
   ],
   "source": [
    "mvg_average_plot(df, 'time_diff', 'y')"
   ]
  },
  {
   "cell_type": "markdown",
   "metadata": {},
   "source": [
    "The greater the time since a player's last match, the worse they perform!  This may be because worse players don't last til the end of a tournament"
   ]
  },
  {
   "cell_type": "code",
   "execution_count": 7,
   "metadata": {},
   "outputs": [
    {
     "data": {
      "text/plain": [
       "count    38421.000000\n",
       "mean         0.420369\n",
       "std        123.411848\n",
       "min      -3641.000000\n",
       "0%       -3641.000000\n",
       "5%         -49.000000\n",
       "10%        -17.000000\n",
       "15.0%       -8.000000\n",
       "20%         -4.000000\n",
       "25%         -2.000000\n",
       "30.0%       -1.000000\n",
       "35%          0.000000\n",
       "40%          0.000000\n",
       "45%          0.000000\n",
       "50%          0.000000\n",
       "55.0%        0.000000\n",
       "60.0%        0.000000\n",
       "65%          0.000000\n",
       "70%          1.000000\n",
       "75%          2.000000\n",
       "80%          4.000000\n",
       "85.0%        8.000000\n",
       "90%         18.000000\n",
       "95%         53.000000\n",
       "100%      5596.000000\n",
       "max       5596.000000\n",
       "Name: time_diff, dtype: float64"
      ]
     },
     "execution_count": 7,
     "metadata": {},
     "output_type": "execute_result"
    }
   ],
   "source": [
    "import numpy as np\n",
    "\n",
    "df['time_diff'].describe(percentiles=np.linspace(0, 1, 21))"
   ]
  },
  {
   "cell_type": "code",
   "execution_count": 8,
   "metadata": {},
   "outputs": [
    {
     "name": "stderr",
     "output_type": "stream",
     "text": [
      "/Users/siddhantjagadish/Documents/DataProjects/tennis_modeling/tennis_modeling/lib/python2.7/site-packages/ipykernel_launcher.py:8: FutureWarning: pd.rolling_mean is deprecated for Series and will be removed in a future version, replace with \n",
      "\tSeries.rolling(window=1000,center=False).mean()\n",
      "  \n"
     ]
    },
    {
     "data": {
      "image/png": "[encoded data removed]",
      "text/plain": [
       "<Figure size 432x288 with 1 Axes>"
      ]
     },
     "metadata": {},
     "output_type": "display_data"
    }
   ],
   "source": [
    "mvg_average_plot(df, 'fatigue_games_diff', 'y', window=1000)"
   ]
  },
  {
   "cell_type": "code",
   "execution_count": 9,
   "metadata": {},
   "outputs": [
    {
     "data": {
      "text/plain": [
       "fatigue_diff\n",
       "-3.0        (3, 0.333333333333)\n",
       "-2.0      (123, 0.471544715447)\n",
       "-1.0     (4166, 0.571531445031)\n",
       " 0.0    (29800, 0.503489932886)\n",
       " 1.0     (4183, 0.459956968683)\n",
       " 2.0      (144, 0.534722222222)\n",
       " 3.0                   (1, 0.0)\n",
       " 4.0                   (1, 1.0)\n",
       "dtype: object"
      ]
     },
     "execution_count": 9,
     "metadata": {},
     "output_type": "execute_result"
    }
   ],
   "source": [
    "df.groupby('fatigue_diff').apply(\n",
    "    lambda x: (x.shape[0], x['y'].mean())\n",
    ")"
   ]
  },
  {
   "cell_type": "markdown",
   "metadata": {},
   "source": [
    "When someone has played an extra match in the past 3 days, they seem to do much worse!  When someone has played more games in the past 3 days they also do worse!"
   ]
  },
  {
   "cell_type": "markdown",
   "metadata": {},
   "source": [
    "It seems like there is something real about these fatigue features...how normal looking are they? "
   ]
  },
  {
   "cell_type": "code",
   "execution_count": 10,
   "metadata": {},
   "outputs": [
    {
     "data": {
      "text/plain": [
       "retire_diff\n",
       "-1.0      (643, 0.514774494557)\n",
       " 0.0    (37192, 0.506211013121)\n",
       " 1.0      (586, 0.491467576792)\n",
       "dtype: object"
      ]
     },
     "execution_count": 10,
     "metadata": {},
     "output_type": "execute_result"
    }
   ],
   "source": [
    "df.groupby('retire_diff').apply(\n",
    "    lambda x: (x.shape[0], x['y'].mean())\n",
    ")"
   ]
  },
  {
   "cell_type": "markdown",
   "metadata": {},
   "source": [
    "Players that retired in their last match do in fact perform worse"
   ]
  },
  {
   "cell_type": "code",
   "execution_count": 11,
   "metadata": {},
   "outputs": [
    {
     "data": {
      "text/plain": [
       "<matplotlib.axes._subplots.AxesSubplot at 0x10850fa50>"
      ]
     },
     "execution_count": 11,
     "metadata": {},
     "output_type": "execute_result"
    },
    {
     "data": {
      "image/png": "[encoded data removed]",
      "text/plain": [
       "<Figure size 432x288 with 1 Axes>"
      ]
     },
     "metadata": {},
     "output_type": "display_data"
    }
   ],
   "source": [
    "df['fatigue_games_diff'].hist(bins=50)"
   ]
  },
  {
   "cell_type": "code",
   "execution_count": 12,
   "metadata": {},
   "outputs": [
    {
     "data": {
      "text/plain": [
       "<matplotlib.axes._subplots.AxesSubplot at 0x1062e3250>"
      ]
     },
     "execution_count": 12,
     "metadata": {},
     "output_type": "execute_result"
    },
    {
     "data": {
      "image/png": "[encoded data removed]",
      "text/plain": [
       "<Figure size 432x288 with 1 Axes>"
      ]
     },
     "metadata": {},
     "output_type": "display_data"
    }
   ],
   "source": [
    "df['time_diff'].hist(bins=50)"
   ]
  },
  {
   "cell_type": "markdown",
   "metadata": {},
   "source": [
    "Might need to split these into 0 and non-0..."
   ]
  },
  {
   "cell_type": "markdown",
   "metadata": {},
   "source": [
    "#### Logit Model "
   ]
  },
  {
   "cell_type": "markdown",
   "metadata": {},
   "source": [
    "##### Add Fatigue Interactions with Length of Match to Dataset"
   ]
  },
  {
   "cell_type": "code",
   "execution_count": 13,
   "metadata": {},
   "outputs": [],
   "source": [
    "# TODO: Add interactions with Age\n",
    "ORIG_NEW_FEATS = [\n",
    "    'fatigue_games_diff',\n",
    "    'retire_diff',\n",
    "    'time_diff',\n",
    "    'comeback_diff'\n",
    "]\n",
    "\n",
    "NEW_FEATS = [x for x in ORIG_NEW_FEATS]\n",
    "for feat in ORIG_NEW_FEATS:\n",
    "    best_of_interaction = '%s*best_of_5' % feat\n",
    "    df[best_of_interaction] = df[feat] * df['best_of_5']\n",
    "NEW_FEATS.extend(['%s*best_of_5' % feat for feat in ORIG_NEW_FEATS])"
   ]
  },
  {
   "cell_type": "markdown",
   "metadata": {},
   "source": [
    "##### Non-Updated Model with No Additional Features"
   ]
  },
  {
   "cell_type": "code",
   "execution_count": 14,
   "metadata": {},
   "outputs": [],
   "source": [
    "MIN_TRAIN_DATE = '2004-01-01'\n",
    "MIN_TEST_DATE = '2015-01-01'\n",
    "MAX_TEST_DATE = '2017-01-01'\n",
    "\n",
    "train_df = df[\n",
    "    (df['date'] >= MIN_TRAIN_DATE) &\n",
    "    (df['date'] < MIN_TEST_DATE)\n",
    "].copy()\n",
    "test_df = df[\n",
    "    (df['date'] >= MIN_TEST_DATE) &\n",
    "    (df['date'] < MAX_TEST_DATE) &\n",
    "    (df['__surface__'] == SURFACE) &\n",
    "    (~df['comment'].isin(['Retired', 'Walkover']))\n",
    "].copy()"
   ]
  },
  {
   "cell_type": "code",
   "execution_count": 15,
   "metadata": {},
   "outputs": [],
   "source": [
    "from models.logit.base import get_X_y\n",
    "\n",
    "orig_train_X, orig_train_y = get_X_y(train_df, player_mapping)\n",
    "orig_test_X, orig_test_y = get_X_y(test_df, player_mapping)"
   ]
  },
  {
   "cell_type": "code",
   "execution_count": 16,
   "metadata": {},
   "outputs": [],
   "source": [
    "from models.logit.base import sipko_weights\n",
    "\n",
    "DISCOUNT = 0.8\n",
    "FLAT_TIME = 1.0\n",
    "PRIOR = 0.\n",
    "LMBDA = 1.\n",
    "\n",
    "time_weights = sipko_weights(\n",
    "    train_df['date'].max(),\n",
    "    train_df,\n",
    "    DISCOUNT,\n",
    "    flat_time=FLAT_TIME\n",
    ")\n",
    "surface_weights = train_df['__surface__'].map(\n",
    "    lambda x: {\n",
    "        'Hard': 0.4,\n",
    "        'Clay': 1.0,\n",
    "        'Grass': 0.0, \n",
    "        'Indoor': 0.6\n",
    "    }[x]\n",
    ")\n",
    "sample_weights = time_weights * surface_weights"
   ]
  },
  {
   "cell_type": "code",
   "execution_count": 17,
   "metadata": {},
   "outputs": [
    {
     "data": {
      "text/plain": [
       "0.73271027094639574"
      ]
     },
     "execution_count": 17,
     "metadata": {},
     "output_type": "execute_result"
    }
   ],
   "source": [
    "from sklearn.linear_model import LogisticRegression\n",
    "from sklearn.metrics import roc_auc_score\n",
    "\n",
    "logit = LogisticRegression(C=10)\n",
    "logit.fit(orig_train_X, orig_train_y, sample_weight=sample_weights)\n",
    "preds = logit.predict_proba(orig_test_X)[:, 1]\n",
    "orig_auc = roc_auc_score(orig_test_y, preds)\n",
    "orig_auc"
   ]
  },
  {
   "cell_type": "markdown",
   "metadata": {},
   "source": [
    "Original AUC of 0.733"
   ]
  },
  {
   "cell_type": "markdown",
   "metadata": {},
   "source": [
    "##### Now let's add some additional features"
   ]
  },
  {
   "cell_type": "code",
   "execution_count": 18,
   "metadata": {
    "scrolled": false
   },
   "outputs": [],
   "source": [
    "from scipy import sparse\n",
    "\n",
    "new_train_X = sparse.hstack([\n",
    "    orig_train_X,\n",
    "    sparse.csc_matrix(train_df[NEW_FEATS].values)\n",
    "])\n",
    "new_test_X = sparse.hstack([\n",
    "    orig_test_X,\n",
    "    sparse.csc_matrix(test_df[NEW_FEATS].values)\n",
    "])"
   ]
  },
  {
   "cell_type": "code",
   "execution_count": 19,
   "metadata": {},
   "outputs": [
    {
     "data": {
      "text/plain": [
       "LogisticRegression(C=20.0, class_weight=None, dual=False, fit_intercept=True,\n",
       "          intercept_scaling=1, max_iter=100, multi_class='ovr', n_jobs=1,\n",
       "          penalty='l2', random_state=None, solver='liblinear', tol=0.0001,\n",
       "          verbose=0, warm_start=False)"
      ]
     },
     "execution_count": 19,
     "metadata": {},
     "output_type": "execute_result"
    }
   ],
   "source": [
    "from sklearn.linear_model import LogisticRegression\n",
    "\n",
    "logit = LogisticRegression(C=20.)\n",
    "logit.fit(new_train_X, orig_train_y, sample_weight=sample_weights)"
   ]
  },
  {
   "cell_type": "code",
   "execution_count": 20,
   "metadata": {},
   "outputs": [
    {
     "data": {
      "text/plain": [
       "[('fatigue_games_diff', -0.0028807797371970438),\n",
       " ('retire_diff', -0.26002749416657872),\n",
       " ('time_diff', 0.00024196368113826394),\n",
       " ('comeback_diff', -0.17251338433327676),\n",
       " ('fatigue_games_diff*best_of_5', -0.0060279630982103607),\n",
       " ('retire_diff*best_of_5', -0.018415053515643681),\n",
       " ('time_diff*best_of_5', -1.4903510253663001e-05),\n",
       " ('comeback_diff*best_of_5', -0.28842842853132011)]"
      ]
     },
     "execution_count": 20,
     "metadata": {},
     "output_type": "execute_result"
    }
   ],
   "source": [
    "zip(NEW_FEATS, logit.coef_[0][-len(NEW_FEATS):])"
   ]
  },
  {
   "cell_type": "code",
   "execution_count": 21,
   "metadata": {},
   "outputs": [
    {
     "data": {
      "text/plain": [
       "0.75379363407775091"
      ]
     },
     "execution_count": 21,
     "metadata": {},
     "output_type": "execute_result"
    }
   ],
   "source": [
    "train_preds = logit.predict_proba(new_train_X)[:, 1]\n",
    "train_auc = roc_auc_score(orig_train_y, train_preds)\n",
    "train_auc"
   ]
  },
  {
   "cell_type": "code",
   "execution_count": 22,
   "metadata": {},
   "outputs": [
    {
     "data": {
      "text/plain": [
       "0.73824217725502861"
      ]
     },
     "execution_count": 22,
     "metadata": {},
     "output_type": "execute_result"
    }
   ],
   "source": [
    "_preds = logit.predict_proba(new_test_X)[:, 1]\n",
    "roc_auc_score(orig_test_y, _preds)"
   ]
  },
  {
   "cell_type": "markdown",
   "metadata": {},
   "source": [
    "Get half a point of AUC from adding these fatigue features...not bad!"
   ]
  },
  {
   "cell_type": "markdown",
   "metadata": {},
   "source": [
    "#### Try updating as we go \n",
    "\n",
    "Now we will try updating this model as we go..."
   ]
  },
  {
   "cell_type": "code",
   "execution_count": 23,
   "metadata": {},
   "outputs": [],
   "source": [
    "MIN_TEST_DATE = '2015-01-01'\n",
    "MAX_TEST_DATE = '2017-01-01'\n",
    "\n",
    "def try_update_period(update_period=10, include_fatigue=False):\n",
    "    preds = []\n",
    "    cur_date = pd.to_datetime(MIN_TEST_DATE)\n",
    "    while(cur_date < pd.to_datetime(MAX_TEST_DATE)):\n",
    "        print cur_date\n",
    "        cur_train_df = df[\n",
    "            (df['date'] >= MIN_TRAIN_DATE) &\n",
    "            (df['date'] < cur_date)\n",
    "        ].copy()\n",
    "        cur_test_df = df[\n",
    "            (df['date'] >= cur_date) &\n",
    "            (df['date'] < cur_date + pd.Timedelta(days=update_period)) &\n",
    "            (df['date'] < MAX_TEST_DATE) &\n",
    "            (df['__surface__'] == SURFACE) &\n",
    "            (~df['comment'].isin(['Retired', 'Walkover']))  # Remove retire from test set\n",
    "        ].copy()\n",
    "        if cur_test_df.shape[0] > 0:\n",
    "            train_X, train_y = get_X_y(cur_train_df, player_mapping)\n",
    "            test_X, test_y = get_X_y(cur_test_df, player_mapping)\n",
    "\n",
    "            if include_fatigue:\n",
    "                train_X = sparse.hstack([\n",
    "                    train_X,\n",
    "                    sparse.csc_matrix(cur_train_df[NEW_FEATS].values)\n",
    "                ])\n",
    "                test_X = sparse.hstack([\n",
    "                    test_X,\n",
    "                    sparse.csc_matrix(cur_test_df[NEW_FEATS].values)\n",
    "                ])\n",
    "\n",
    "            time_weights = sipko_weights(\n",
    "                cur_train_df['date'].max(),\n",
    "                cur_train_df,\n",
    "                DISCOUNT,\n",
    "                flat_time=FLAT_TIME\n",
    "            )\n",
    "            surface_weights = cur_train_df['__surface__'].map(\n",
    "                lambda x: {\n",
    "                    'Hard': 0.4,\n",
    "                    'Clay': 1.0,\n",
    "                    'Grass': 0.0,\n",
    "                    'Indoor': 0.6 \n",
    "                }[x]\n",
    "            )\n",
    "            sample_weights = time_weights * surface_weights\n",
    "\n",
    "            logit = LogisticRegression(C=20.)\n",
    "            logit.fit(train_X, train_y, sample_weight=sample_weights)\n",
    "            preds.extend(logit.predict_proba(test_X)[:, 1].tolist())\n",
    "        cur_date = cur_date + pd.Timedelta(days=update_period)\n",
    "    auc = roc_auc_score(orig_test_y, preds)\n",
    "    return auc, preds"
   ]
  },
  {
   "cell_type": "code",
   "execution_count": 24,
   "metadata": {},
   "outputs": [
    {
     "data": {
      "text/plain": [
       "['fatigue_games_diff',\n",
       " 'retire_diff',\n",
       " 'time_diff',\n",
       " 'comeback_diff',\n",
       " 'fatigue_games_diff*best_of_5',\n",
       " 'retire_diff*best_of_5',\n",
       " 'time_diff*best_of_5',\n",
       " 'comeback_diff*best_of_5']"
      ]
     },
     "execution_count": 24,
     "metadata": {},
     "output_type": "execute_result"
    }
   ],
   "source": [
    "NEW_FEATS"
   ]
  },
  {
   "cell_type": "code",
   "execution_count": null,
   "metadata": {},
   "outputs": [],
   "source": [
    "auc, preds = try_update_period(update_period=1)"
   ]
  },
  {
   "cell_type": "code",
   "execution_count": null,
   "metadata": {},
   "outputs": [],
   "source": [
    "auc"
   ]
  },
  {
   "cell_type": "markdown",
   "metadata": {},
   "source": [
    "Get up to 0.748 AUC by refitting all the time -- this is not as good as true ELO, which gets us to 0.761.  Why not!?  These really should be quite similar...is it the time weighting parametrization?  What happens with fatigue features?"
   ]
  },
  {
   "cell_type": "code",
   "execution_count": 25,
   "metadata": {},
   "outputs": [
    {
     "name": "stdout",
     "output_type": "stream",
     "text": [
      "2015-01-01 00:00:00\n",
      "2015-01-02 00:00:00\n",
      "2015-01-03 00:00:00\n",
      "2015-01-04 00:00:00\n",
      "2015-01-05 00:00:00\n",
      "2015-01-06 00:00:00\n",
      "2015-01-07 00:00:00\n",
      "2015-01-08 00:00:00\n",
      "2015-01-09 00:00:00\n",
      "2015-01-10 00:00:00\n",
      "2015-01-11 00:00:00\n",
      "2015-01-12 00:00:00\n",
      "2015-01-13 00:00:00\n",
      "2015-01-14 00:00:00\n",
      "2015-01-15 00:00:00\n",
      "2015-01-16 00:00:00\n",
      "2015-01-17 00:00:00\n",
      "2015-01-18 00:00:00\n",
      "2015-01-19 00:00:00\n",
      "2015-01-20 00:00:00\n",
      "2015-01-21 00:00:00\n",
      "2015-01-22 00:00:00\n",
      "2015-01-23 00:00:00\n",
      "2015-01-24 00:00:00\n",
      "2015-01-25 00:00:00\n",
      "2015-01-26 00:00:00\n",
      "2015-01-27 00:00:00\n",
      "2015-01-28 00:00:00\n",
      "2015-01-29 00:00:00\n",
      "2015-01-30 00:00:00\n",
      "2015-01-31 00:00:00\n",
      "2015-02-01 00:00:00\n",
      "2015-02-02 00:00:00\n",
      "2015-02-03 00:00:00\n",
      "2015-02-04 00:00:00\n",
      "2015-02-05 00:00:00\n",
      "2015-02-06 00:00:00\n",
      "2015-02-07 00:00:00\n",
      "2015-02-08 00:00:00\n",
      "2015-02-09 00:00:00\n",
      "2015-02-10 00:00:00\n",
      "2015-02-11 00:00:00\n",
      "2015-02-12 00:00:00\n",
      "2015-02-13 00:00:00\n",
      "2015-02-14 00:00:00\n",
      "2015-02-15 00:00:00\n",
      "2015-02-16 00:00:00\n",
      "2015-02-17 00:00:00\n",
      "2015-02-18 00:00:00\n",
      "2015-02-19 00:00:00\n",
      "2015-02-20 00:00:00\n",
      "2015-02-21 00:00:00\n",
      "2015-02-22 00:00:00\n",
      "2015-02-23 00:00:00\n",
      "2015-02-24 00:00:00\n",
      "2015-02-25 00:00:00\n",
      "2015-02-26 00:00:00\n",
      "2015-02-27 00:00:00\n",
      "2015-02-28 00:00:00\n",
      "2015-03-01 00:00:00\n",
      "2015-03-02 00:00:00\n",
      "2015-03-03 00:00:00\n",
      "2015-03-04 00:00:00\n",
      "2015-03-05 00:00:00\n",
      "2015-03-06 00:00:00\n",
      "2015-03-07 00:00:00\n",
      "2015-03-08 00:00:00\n",
      "2015-03-09 00:00:00\n",
      "2015-03-10 00:00:00\n",
      "2015-03-11 00:00:00\n",
      "2015-03-12 00:00:00\n",
      "2015-03-13 00:00:00\n",
      "2015-03-14 00:00:00\n",
      "2015-03-15 00:00:00\n",
      "2015-03-16 00:00:00\n",
      "2015-03-17 00:00:00\n",
      "2015-03-18 00:00:00\n",
      "2015-03-19 00:00:00\n",
      "2015-03-20 00:00:00\n",
      "2015-03-21 00:00:00\n",
      "2015-03-22 00:00:00\n",
      "2015-03-23 00:00:00\n",
      "2015-03-24 00:00:00\n",
      "2015-03-25 00:00:00\n",
      "2015-03-26 00:00:00\n",
      "2015-03-27 00:00:00\n",
      "2015-03-28 00:00:00\n",
      "2015-03-29 00:00:00\n",
      "2015-03-30 00:00:00\n",
      "2015-03-31 00:00:00\n",
      "2015-04-01 00:00:00\n",
      "2015-04-02 00:00:00\n",
      "2015-04-03 00:00:00\n",
      "2015-04-04 00:00:00\n",
      "2015-04-05 00:00:00\n",
      "2015-04-06 00:00:00\n",
      "2015-04-07 00:00:00\n",
      "2015-04-08 00:00:00\n",
      "2015-04-09 00:00:00\n",
      "2015-04-10 00:00:00\n",
      "2015-04-11 00:00:00\n",
      "2015-04-12 00:00:00\n",
      "2015-04-13 00:00:00\n",
      "2015-04-14 00:00:00\n",
      "2015-04-15 00:00:00\n",
      "2015-04-16 00:00:00\n",
      "2015-04-17 00:00:00\n",
      "2015-04-18 00:00:00\n",
      "2015-04-19 00:00:00\n",
      "2015-04-20 00:00:00\n",
      "2015-04-21 00:00:00\n",
      "2015-04-22 00:00:00\n",
      "2015-04-23 00:00:00\n",
      "2015-04-24 00:00:00\n",
      "2015-04-25 00:00:00\n",
      "2015-04-26 00:00:00\n",
      "2015-04-27 00:00:00\n",
      "2015-04-28 00:00:00\n",
      "2015-04-29 00:00:00\n",
      "2015-04-30 00:00:00\n",
      "2015-05-01 00:00:00\n",
      "2015-05-02 00:00:00\n",
      "2015-05-03 00:00:00\n",
      "2015-05-04 00:00:00\n",
      "2015-05-05 00:00:00\n",
      "2015-05-06 00:00:00\n",
      "2015-05-07 00:00:00\n",
      "2015-05-08 00:00:00\n",
      "2015-05-09 00:00:00\n",
      "2015-05-10 00:00:00\n",
      "2015-05-11 00:00:00\n",
      "2015-05-12 00:00:00\n",
      "2015-05-13 00:00:00\n",
      "2015-05-14 00:00:00\n",
      "2015-05-15 00:00:00\n",
      "2015-05-16 00:00:00\n",
      "2015-05-17 00:00:00\n",
      "2015-05-18 00:00:00\n",
      "2015-05-19 00:00:00\n",
      "2015-05-20 00:00:00\n",
      "2015-05-21 00:00:00\n",
      "2015-05-22 00:00:00\n",
      "2015-05-23 00:00:00\n",
      "2015-05-24 00:00:00\n",
      "2015-05-25 00:00:00\n",
      "2015-05-26 00:00:00\n",
      "2015-05-27 00:00:00\n",
      "2015-05-28 00:00:00\n",
      "2015-05-29 00:00:00\n",
      "2015-05-30 00:00:00\n",
      "2015-05-31 00:00:00\n",
      "2015-06-01 00:00:00\n",
      "2015-06-02 00:00:00\n",
      "2015-06-03 00:00:00\n",
      "2015-06-04 00:00:00\n",
      "2015-06-05 00:00:00\n",
      "2015-06-06 00:00:00\n",
      "2015-06-07 00:00:00\n",
      "2015-06-08 00:00:00\n",
      "2015-06-09 00:00:00\n",
      "2015-06-10 00:00:00\n",
      "2015-06-11 00:00:00\n",
      "2015-06-12 00:00:00\n",
      "2015-06-13 00:00:00\n",
      "2015-06-14 00:00:00\n",
      "2015-06-15 00:00:00\n",
      "2015-06-16 00:00:00\n",
      "2015-06-17 00:00:00\n",
      "2015-06-18 00:00:00\n",
      "2015-06-19 00:00:00\n",
      "2015-06-20 00:00:00\n",
      "2015-06-21 00:00:00\n",
      "2015-06-22 00:00:00\n",
      "2015-06-23 00:00:00\n",
      "2015-06-24 00:00:00\n",
      "2015-06-25 00:00:00\n",
      "2015-06-26 00:00:00\n",
      "2015-06-27 00:00:00\n",
      "2015-06-28 00:00:00\n",
      "2015-06-29 00:00:00\n",
      "2015-06-30 00:00:00\n",
      "2015-07-01 00:00:00\n",
      "2015-07-02 00:00:00\n",
      "2015-07-03 00:00:00\n",
      "2015-07-04 00:00:00\n",
      "2015-07-05 00:00:00\n",
      "2015-07-06 00:00:00\n",
      "2015-07-07 00:00:00\n",
      "2015-07-08 00:00:00\n",
      "2015-07-09 00:00:00\n",
      "2015-07-10 00:00:00\n",
      "2015-07-11 00:00:00\n",
      "2015-07-12 00:00:00\n",
      "2015-07-13 00:00:00\n",
      "2015-07-14 00:00:00\n",
      "2015-07-15 00:00:00\n",
      "2015-07-16 00:00:00\n",
      "2015-07-17 00:00:00\n",
      "2015-07-18 00:00:00\n",
      "2015-07-19 00:00:00\n",
      "2015-07-20 00:00:00\n",
      "2015-07-21 00:00:00\n",
      "2015-07-22 00:00:00\n",
      "2015-07-23 00:00:00\n",
      "2015-07-24 00:00:00\n",
      "2015-07-25 00:00:00\n",
      "2015-07-26 00:00:00\n",
      "2015-07-27 00:00:00\n",
      "2015-07-28 00:00:00\n",
      "2015-07-29 00:00:00\n",
      "2015-07-30 00:00:00\n",
      "2015-07-31 00:00:00\n",
      "2015-08-01 00:00:00\n",
      "2015-08-02 00:00:00\n",
      "2015-08-03 00:00:00\n",
      "2015-08-04 00:00:00\n",
      "2015-08-05 00:00:00\n",
      "2015-08-06 00:00:00\n",
      "2015-08-07 00:00:00\n",
      "2015-08-08 00:00:00\n",
      "2015-08-09 00:00:00\n",
      "2015-08-10 00:00:00\n",
      "2015-08-11 00:00:00\n",
      "2015-08-12 00:00:00\n",
      "2015-08-13 00:00:00\n",
      "2015-08-14 00:00:00\n",
      "2015-08-15 00:00:00\n",
      "2015-08-16 00:00:00\n",
      "2015-08-17 00:00:00\n",
      "2015-08-18 00:00:00\n",
      "2015-08-19 00:00:00\n",
      "2015-08-20 00:00:00\n",
      "2015-08-21 00:00:00\n",
      "2015-08-22 00:00:00\n",
      "2015-08-23 00:00:00\n",
      "2015-08-24 00:00:00\n",
      "2015-08-25 00:00:00\n",
      "2015-08-26 00:00:00\n",
      "2015-08-27 00:00:00\n",
      "2015-08-28 00:00:00\n",
      "2015-08-29 00:00:00\n",
      "2015-08-30 00:00:00\n",
      "2015-08-31 00:00:00\n",
      "2015-09-01 00:00:00\n",
      "2015-09-02 00:00:00\n",
      "2015-09-03 00:00:00\n",
      "2015-09-04 00:00:00\n",
      "2015-09-05 00:00:00\n",
      "2015-09-06 00:00:00\n",
      "2015-09-07 00:00:00\n",
      "2015-09-08 00:00:00\n",
      "2015-09-09 00:00:00\n",
      "2015-09-10 00:00:00\n",
      "2015-09-11 00:00:00\n",
      "2015-09-12 00:00:00\n",
      "2015-09-13 00:00:00\n",
      "2015-09-14 00:00:00\n",
      "2015-09-15 00:00:00\n",
      "2015-09-16 00:00:00\n",
      "2015-09-17 00:00:00\n",
      "2015-09-18 00:00:00\n",
      "2015-09-19 00:00:00\n",
      "2015-09-20 00:00:00\n",
      "2015-09-21 00:00:00\n",
      "2015-09-22 00:00:00\n",
      "2015-09-23 00:00:00\n",
      "2015-09-24 00:00:00\n",
      "2015-09-25 00:00:00\n",
      "2015-09-26 00:00:00\n",
      "2015-09-27 00:00:00\n",
      "2015-09-28 00:00:00\n",
      "2015-09-29 00:00:00\n",
      "2015-09-30 00:00:00\n",
      "2015-10-01 00:00:00\n",
      "2015-10-02 00:00:00\n",
      "2015-10-03 00:00:00\n",
      "2015-10-04 00:00:00\n",
      "2015-10-05 00:00:00\n",
      "2015-10-06 00:00:00\n",
      "2015-10-07 00:00:00\n",
      "2015-10-08 00:00:00\n",
      "2015-10-09 00:00:00\n",
      "2015-10-10 00:00:00\n",
      "2015-10-11 00:00:00\n",
      "2015-10-12 00:00:00\n",
      "2015-10-13 00:00:00\n",
      "2015-10-14 00:00:00\n",
      "2015-10-15 00:00:00\n",
      "2015-10-16 00:00:00\n",
      "2015-10-17 00:00:00\n",
      "2015-10-18 00:00:00\n",
      "2015-10-19 00:00:00\n",
      "2015-10-20 00:00:00\n",
      "2015-10-21 00:00:00\n",
      "2015-10-22 00:00:00\n",
      "2015-10-23 00:00:00\n",
      "2015-10-24 00:00:00\n",
      "2015-10-25 00:00:00\n",
      "2015-10-26 00:00:00\n",
      "2015-10-27 00:00:00\n",
      "2015-10-28 00:00:00\n",
      "2015-10-29 00:00:00\n",
      "2015-10-30 00:00:00\n",
      "2015-10-31 00:00:00\n",
      "2015-11-01 00:00:00\n",
      "2015-11-02 00:00:00\n",
      "2015-11-03 00:00:00\n",
      "2015-11-04 00:00:00\n",
      "2015-11-05 00:00:00\n",
      "2015-11-06 00:00:00\n",
      "2015-11-07 00:00:00\n",
      "2015-11-08 00:00:00\n",
      "2015-11-09 00:00:00\n",
      "2015-11-10 00:00:00\n",
      "2015-11-11 00:00:00\n",
      "2015-11-12 00:00:00\n",
      "2015-11-13 00:00:00\n",
      "2015-11-14 00:00:00\n",
      "2015-11-15 00:00:00\n",
      "2015-11-16 00:00:00\n",
      "2015-11-17 00:00:00\n",
      "2015-11-18 00:00:00\n",
      "2015-11-19 00:00:00\n",
      "2015-11-20 00:00:00\n",
      "2015-11-21 00:00:00\n",
      "2015-11-22 00:00:00\n",
      "2015-11-23 00:00:00\n",
      "2015-11-24 00:00:00\n",
      "2015-11-25 00:00:00\n",
      "2015-11-26 00:00:00\n",
      "2015-11-27 00:00:00\n",
      "2015-11-28 00:00:00\n",
      "2015-11-29 00:00:00\n",
      "2015-11-30 00:00:00\n",
      "2015-12-01 00:00:00\n",
      "2015-12-02 00:00:00\n",
      "2015-12-03 00:00:00\n",
      "2015-12-04 00:00:00\n",
      "2015-12-05 00:00:00\n",
      "2015-12-06 00:00:00\n",
      "2015-12-07 00:00:00\n",
      "2015-12-08 00:00:00\n",
      "2015-12-09 00:00:00\n",
      "2015-12-10 00:00:00\n",
      "2015-12-11 00:00:00\n",
      "2015-12-12 00:00:00\n",
      "2015-12-13 00:00:00\n",
      "2015-12-14 00:00:00\n",
      "2015-12-15 00:00:00\n",
      "2015-12-16 00:00:00\n",
      "2015-12-17 00:00:00\n",
      "2015-12-18 00:00:00\n",
      "2015-12-19 00:00:00\n",
      "2015-12-20 00:00:00\n",
      "2015-12-21 00:00:00\n",
      "2015-12-22 00:00:00\n",
      "2015-12-23 00:00:00\n",
      "2015-12-24 00:00:00\n",
      "2015-12-25 00:00:00\n",
      "2015-12-26 00:00:00\n",
      "2015-12-27 00:00:00\n",
      "2015-12-28 00:00:00\n",
      "2015-12-29 00:00:00\n",
      "2015-12-30 00:00:00\n",
      "2015-12-31 00:00:00\n",
      "2016-01-01 00:00:00\n",
      "2016-01-02 00:00:00\n",
      "2016-01-03 00:00:00\n",
      "2016-01-04 00:00:00\n",
      "2016-01-05 00:00:00\n",
      "2016-01-06 00:00:00\n",
      "2016-01-07 00:00:00\n",
      "2016-01-08 00:00:00\n",
      "2016-01-09 00:00:00\n",
      "2016-01-10 00:00:00\n",
      "2016-01-11 00:00:00\n",
      "2016-01-12 00:00:00\n",
      "2016-01-13 00:00:00\n",
      "2016-01-14 00:00:00\n",
      "2016-01-15 00:00:00\n",
      "2016-01-16 00:00:00\n",
      "2016-01-17 00:00:00\n",
      "2016-01-18 00:00:00\n",
      "2016-01-19 00:00:00\n",
      "2016-01-20 00:00:00\n",
      "2016-01-21 00:00:00\n",
      "2016-01-22 00:00:00\n",
      "2016-01-23 00:00:00\n",
      "2016-01-24 00:00:00\n",
      "2016-01-25 00:00:00\n",
      "2016-01-26 00:00:00\n",
      "2016-01-27 00:00:00\n",
      "2016-01-28 00:00:00\n",
      "2016-01-29 00:00:00\n",
      "2016-01-30 00:00:00\n",
      "2016-01-31 00:00:00\n",
      "2016-02-01 00:00:00\n",
      "2016-02-02 00:00:00\n",
      "2016-02-03 00:00:00\n",
      "2016-02-04 00:00:00\n",
      "2016-02-05 00:00:00\n",
      "2016-02-06 00:00:00\n",
      "2016-02-07 00:00:00\n",
      "2016-02-08 00:00:00\n",
      "2016-02-09 00:00:00\n",
      "2016-02-10 00:00:00\n",
      "2016-02-11 00:00:00\n",
      "2016-02-12 00:00:00\n",
      "2016-02-13 00:00:00\n",
      "2016-02-14 00:00:00\n",
      "2016-02-15 00:00:00\n"
     ]
    },
    {
     "name": "stdout",
     "output_type": "stream",
     "text": [
      "2016-02-16 00:00:00\n",
      "2016-02-17 00:00:00\n",
      "2016-02-18 00:00:00\n",
      "2016-02-19 00:00:00\n",
      "2016-02-20 00:00:00\n",
      "2016-02-21 00:00:00\n",
      "2016-02-22 00:00:00\n",
      "2016-02-23 00:00:00\n",
      "2016-02-24 00:00:00\n",
      "2016-02-25 00:00:00\n",
      "2016-02-26 00:00:00\n",
      "2016-02-27 00:00:00\n",
      "2016-02-28 00:00:00\n",
      "2016-02-29 00:00:00\n",
      "2016-03-01 00:00:00\n",
      "2016-03-02 00:00:00\n",
      "2016-03-03 00:00:00\n",
      "2016-03-04 00:00:00\n",
      "2016-03-05 00:00:00\n",
      "2016-03-06 00:00:00\n",
      "2016-03-07 00:00:00\n",
      "2016-03-08 00:00:00\n",
      "2016-03-09 00:00:00\n",
      "2016-03-10 00:00:00\n",
      "2016-03-11 00:00:00\n",
      "2016-03-12 00:00:00\n",
      "2016-03-13 00:00:00\n",
      "2016-03-14 00:00:00\n",
      "2016-03-15 00:00:00\n",
      "2016-03-16 00:00:00\n",
      "2016-03-17 00:00:00\n",
      "2016-03-18 00:00:00\n",
      "2016-03-19 00:00:00\n",
      "2016-03-20 00:00:00\n",
      "2016-03-21 00:00:00\n",
      "2016-03-22 00:00:00\n",
      "2016-03-23 00:00:00\n",
      "2016-03-24 00:00:00\n",
      "2016-03-25 00:00:00\n",
      "2016-03-26 00:00:00\n",
      "2016-03-27 00:00:00\n",
      "2016-03-28 00:00:00\n",
      "2016-03-29 00:00:00\n",
      "2016-03-30 00:00:00\n",
      "2016-03-31 00:00:00\n",
      "2016-04-01 00:00:00\n",
      "2016-04-02 00:00:00\n",
      "2016-04-03 00:00:00\n",
      "2016-04-04 00:00:00\n",
      "2016-04-05 00:00:00\n",
      "2016-04-06 00:00:00\n",
      "2016-04-07 00:00:00\n",
      "2016-04-08 00:00:00\n",
      "2016-04-09 00:00:00\n",
      "2016-04-10 00:00:00\n",
      "2016-04-11 00:00:00\n",
      "2016-04-12 00:00:00\n",
      "2016-04-13 00:00:00\n",
      "2016-04-14 00:00:00\n",
      "2016-04-15 00:00:00\n",
      "2016-04-16 00:00:00\n",
      "2016-04-17 00:00:00\n",
      "2016-04-18 00:00:00\n",
      "2016-04-19 00:00:00\n",
      "2016-04-20 00:00:00\n",
      "2016-04-21 00:00:00\n",
      "2016-04-22 00:00:00\n",
      "2016-04-23 00:00:00\n",
      "2016-04-24 00:00:00\n",
      "2016-04-25 00:00:00\n",
      "2016-04-26 00:00:00\n",
      "2016-04-27 00:00:00\n",
      "2016-04-28 00:00:00\n",
      "2016-04-29 00:00:00\n",
      "2016-04-30 00:00:00\n",
      "2016-05-01 00:00:00\n",
      "2016-05-02 00:00:00\n",
      "2016-05-03 00:00:00\n",
      "2016-05-04 00:00:00\n",
      "2016-05-05 00:00:00\n",
      "2016-05-06 00:00:00\n",
      "2016-05-07 00:00:00\n",
      "2016-05-08 00:00:00\n",
      "2016-05-09 00:00:00\n",
      "2016-05-10 00:00:00\n",
      "2016-05-11 00:00:00\n",
      "2016-05-12 00:00:00\n",
      "2016-05-13 00:00:00\n",
      "2016-05-14 00:00:00\n",
      "2016-05-15 00:00:00\n",
      "2016-05-16 00:00:00\n",
      "2016-05-17 00:00:00\n",
      "2016-05-18 00:00:00\n",
      "2016-05-19 00:00:00\n",
      "2016-05-20 00:00:00\n",
      "2016-05-21 00:00:00\n",
      "2016-05-22 00:00:00\n",
      "2016-05-23 00:00:00\n",
      "2016-05-24 00:00:00\n",
      "2016-05-25 00:00:00\n",
      "2016-05-26 00:00:00\n",
      "2016-05-27 00:00:00\n",
      "2016-05-28 00:00:00\n",
      "2016-05-29 00:00:00\n",
      "2016-05-30 00:00:00\n",
      "2016-05-31 00:00:00\n",
      "2016-06-01 00:00:00\n",
      "2016-06-02 00:00:00\n",
      "2016-06-03 00:00:00\n",
      "2016-06-04 00:00:00\n",
      "2016-06-05 00:00:00\n",
      "2016-06-06 00:00:00\n",
      "2016-06-07 00:00:00\n",
      "2016-06-08 00:00:00\n",
      "2016-06-09 00:00:00\n",
      "2016-06-10 00:00:00\n",
      "2016-06-11 00:00:00\n",
      "2016-06-12 00:00:00\n",
      "2016-06-13 00:00:00\n",
      "2016-06-14 00:00:00\n",
      "2016-06-15 00:00:00\n",
      "2016-06-16 00:00:00\n",
      "2016-06-17 00:00:00\n",
      "2016-06-18 00:00:00\n",
      "2016-06-19 00:00:00\n",
      "2016-06-20 00:00:00\n",
      "2016-06-21 00:00:00\n",
      "2016-06-22 00:00:00\n",
      "2016-06-23 00:00:00\n",
      "2016-06-24 00:00:00\n",
      "2016-06-25 00:00:00\n",
      "2016-06-26 00:00:00\n",
      "2016-06-27 00:00:00\n",
      "2016-06-28 00:00:00\n",
      "2016-06-29 00:00:00\n",
      "2016-06-30 00:00:00\n",
      "2016-07-01 00:00:00\n",
      "2016-07-02 00:00:00\n",
      "2016-07-03 00:00:00\n",
      "2016-07-04 00:00:00\n",
      "2016-07-05 00:00:00\n",
      "2016-07-06 00:00:00\n",
      "2016-07-07 00:00:00\n",
      "2016-07-08 00:00:00\n",
      "2016-07-09 00:00:00\n",
      "2016-07-10 00:00:00\n",
      "2016-07-11 00:00:00\n",
      "2016-07-12 00:00:00\n",
      "2016-07-13 00:00:00\n",
      "2016-07-14 00:00:00\n",
      "2016-07-15 00:00:00\n",
      "2016-07-16 00:00:00\n",
      "2016-07-17 00:00:00\n",
      "2016-07-18 00:00:00\n",
      "2016-07-19 00:00:00\n",
      "2016-07-20 00:00:00\n",
      "2016-07-21 00:00:00\n",
      "2016-07-22 00:00:00\n",
      "2016-07-23 00:00:00\n",
      "2016-07-24 00:00:00\n",
      "2016-07-25 00:00:00\n",
      "2016-07-26 00:00:00\n",
      "2016-07-27 00:00:00\n",
      "2016-07-28 00:00:00\n",
      "2016-07-29 00:00:00\n",
      "2016-07-30 00:00:00\n",
      "2016-07-31 00:00:00\n",
      "2016-08-01 00:00:00\n",
      "2016-08-02 00:00:00\n",
      "2016-08-03 00:00:00\n",
      "2016-08-04 00:00:00\n",
      "2016-08-05 00:00:00\n",
      "2016-08-06 00:00:00\n",
      "2016-08-07 00:00:00\n",
      "2016-08-08 00:00:00\n",
      "2016-08-09 00:00:00\n",
      "2016-08-10 00:00:00\n",
      "2016-08-11 00:00:00\n",
      "2016-08-12 00:00:00\n",
      "2016-08-13 00:00:00\n",
      "2016-08-14 00:00:00\n",
      "2016-08-15 00:00:00\n",
      "2016-08-16 00:00:00\n",
      "2016-08-17 00:00:00\n",
      "2016-08-18 00:00:00\n",
      "2016-08-19 00:00:00\n",
      "2016-08-20 00:00:00\n",
      "2016-08-21 00:00:00\n",
      "2016-08-22 00:00:00\n",
      "2016-08-23 00:00:00\n",
      "2016-08-24 00:00:00\n",
      "2016-08-25 00:00:00\n",
      "2016-08-26 00:00:00\n",
      "2016-08-27 00:00:00\n",
      "2016-08-28 00:00:00\n",
      "2016-08-29 00:00:00\n",
      "2016-08-30 00:00:00\n",
      "2016-08-31 00:00:00\n",
      "2016-09-01 00:00:00\n",
      "2016-09-02 00:00:00\n",
      "2016-09-03 00:00:00\n",
      "2016-09-04 00:00:00\n",
      "2016-09-05 00:00:00\n",
      "2016-09-06 00:00:00\n",
      "2016-09-07 00:00:00\n",
      "2016-09-08 00:00:00\n",
      "2016-09-09 00:00:00\n",
      "2016-09-10 00:00:00\n",
      "2016-09-11 00:00:00\n",
      "2016-09-12 00:00:00\n",
      "2016-09-13 00:00:00\n",
      "2016-09-14 00:00:00\n",
      "2016-09-15 00:00:00\n",
      "2016-09-16 00:00:00\n",
      "2016-09-17 00:00:00\n",
      "2016-09-18 00:00:00\n",
      "2016-09-19 00:00:00\n",
      "2016-09-20 00:00:00\n",
      "2016-09-21 00:00:00\n",
      "2016-09-22 00:00:00\n",
      "2016-09-23 00:00:00\n",
      "2016-09-24 00:00:00\n",
      "2016-09-25 00:00:00\n",
      "2016-09-26 00:00:00\n",
      "2016-09-27 00:00:00\n",
      "2016-09-28 00:00:00\n",
      "2016-09-29 00:00:00\n",
      "2016-09-30 00:00:00\n",
      "2016-10-01 00:00:00\n",
      "2016-10-02 00:00:00\n",
      "2016-10-03 00:00:00\n",
      "2016-10-04 00:00:00\n",
      "2016-10-05 00:00:00\n",
      "2016-10-06 00:00:00\n",
      "2016-10-07 00:00:00\n",
      "2016-10-08 00:00:00\n",
      "2016-10-09 00:00:00\n",
      "2016-10-10 00:00:00\n",
      "2016-10-11 00:00:00\n",
      "2016-10-12 00:00:00\n",
      "2016-10-13 00:00:00\n",
      "2016-10-14 00:00:00\n",
      "2016-10-15 00:00:00\n",
      "2016-10-16 00:00:00\n",
      "2016-10-17 00:00:00\n",
      "2016-10-18 00:00:00\n",
      "2016-10-19 00:00:00\n",
      "2016-10-20 00:00:00\n",
      "2016-10-21 00:00:00\n",
      "2016-10-22 00:00:00\n",
      "2016-10-23 00:00:00\n",
      "2016-10-24 00:00:00\n",
      "2016-10-25 00:00:00\n",
      "2016-10-26 00:00:00\n",
      "2016-10-27 00:00:00\n",
      "2016-10-28 00:00:00\n",
      "2016-10-29 00:00:00\n",
      "2016-10-30 00:00:00\n",
      "2016-10-31 00:00:00\n",
      "2016-11-01 00:00:00\n",
      "2016-11-02 00:00:00\n",
      "2016-11-03 00:00:00\n",
      "2016-11-04 00:00:00\n",
      "2016-11-05 00:00:00\n",
      "2016-11-06 00:00:00\n",
      "2016-11-07 00:00:00\n",
      "2016-11-08 00:00:00\n",
      "2016-11-09 00:00:00\n",
      "2016-11-10 00:00:00\n",
      "2016-11-11 00:00:00\n",
      "2016-11-12 00:00:00\n",
      "2016-11-13 00:00:00\n",
      "2016-11-14 00:00:00\n",
      "2016-11-15 00:00:00\n",
      "2016-11-16 00:00:00\n",
      "2016-11-17 00:00:00\n",
      "2016-11-18 00:00:00\n",
      "2016-11-19 00:00:00\n",
      "2016-11-20 00:00:00\n",
      "2016-11-21 00:00:00\n",
      "2016-11-22 00:00:00\n",
      "2016-11-23 00:00:00\n",
      "2016-11-24 00:00:00\n",
      "2016-11-25 00:00:00\n",
      "2016-11-26 00:00:00\n",
      "2016-11-27 00:00:00\n",
      "2016-11-28 00:00:00\n",
      "2016-11-29 00:00:00\n",
      "2016-11-30 00:00:00\n",
      "2016-12-01 00:00:00\n",
      "2016-12-02 00:00:00\n",
      "2016-12-03 00:00:00\n",
      "2016-12-04 00:00:00\n",
      "2016-12-05 00:00:00\n",
      "2016-12-06 00:00:00\n",
      "2016-12-07 00:00:00\n",
      "2016-12-08 00:00:00\n",
      "2016-12-09 00:00:00\n",
      "2016-12-10 00:00:00\n",
      "2016-12-11 00:00:00\n",
      "2016-12-12 00:00:00\n",
      "2016-12-13 00:00:00\n",
      "2016-12-14 00:00:00\n",
      "2016-12-15 00:00:00\n",
      "2016-12-16 00:00:00\n",
      "2016-12-17 00:00:00\n",
      "2016-12-18 00:00:00\n",
      "2016-12-19 00:00:00\n",
      "2016-12-20 00:00:00\n",
      "2016-12-21 00:00:00\n",
      "2016-12-22 00:00:00\n",
      "2016-12-23 00:00:00\n",
      "2016-12-24 00:00:00\n",
      "2016-12-25 00:00:00\n",
      "2016-12-26 00:00:00\n",
      "2016-12-27 00:00:00\n",
      "2016-12-28 00:00:00\n",
      "2016-12-29 00:00:00\n",
      "2016-12-30 00:00:00\n",
      "2016-12-31 00:00:00\n"
     ]
    }
   ],
   "source": [
    "auc, preds = try_update_period(update_period=1, include_fatigue=True)"
   ]
  },
  {
   "cell_type": "code",
   "execution_count": 26,
   "metadata": {},
   "outputs": [
    {
     "data": {
      "text/plain": [
       "0.75246434119474648"
      ]
     },
     "execution_count": 26,
     "metadata": {},
     "output_type": "execute_result"
    }
   ],
   "source": [
    "auc"
   ]
  },
  {
   "cell_type": "markdown",
   "metadata": {},
   "source": [
    "0.7525 with fatigue and updates, so a quarter of a point over fatigue and no updates..."
   ]
  }
 ],
 "metadata": {
  "kernelspec": {
   "display_name": "Python 2",
   "language": "python",
   "name": "python2"
  },
  "language_info": {
   "codemirror_mode": {
    "name": "ipython",
    "version": 2
   },
   "file_extension": ".py",
   "mimetype": "text/x-python",
   "name": "python",
   "nbconvert_exporter": "python",
   "pygments_lexer": "ipython2",
   "version": "2.7.10"
  }
 },
 "nbformat": 4,
 "nbformat_minor": 2
}
