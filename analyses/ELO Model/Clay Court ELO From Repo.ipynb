{
 "cells": [
  {
   "cell_type": "markdown",
   "metadata": {},
   "source": [
    "In this notebook, we just make sure we can replicate our results using our newly implemented ELO class..."
   ]
  },
  {
   "cell_type": "code",
   "execution_count": 1,
   "metadata": {},
   "outputs": [
    {
     "name": "stderr",
     "output_type": "stream",
     "text": [
      "/Users/siddhantjagadish/Documents/DataProjects/tennis_modeling/tennis_modeling/lib/python2.7/site-packages/IPython/core/interactiveshell.py:2818: DtypeWarning: Columns (14) have mixed types. Specify dtype option on import or set low_memory=False.\n",
      "  if self.run_code(code, result):\n"
     ]
    }
   ],
   "source": [
    "from fetch.match_results import read_joined \n",
    "\n",
    "df, player_mapping, inverse_player_mapping = read_joined()"
   ]
  },
  {
   "cell_type": "code",
   "execution_count": 2,
   "metadata": {},
   "outputs": [],
   "source": [
    "df.sort_values(by=['date', 'round'], inplace=True)"
   ]
  },
  {
   "cell_type": "markdown",
   "metadata": {},
   "source": [
    "#### True ELO Model\n",
    "\n",
    "$\\theta_{j, t + 1} = \\theta_t + \\alpha_{j, t}(y_t - \\hat{y}_t)x_j$\n",
    "\n",
    "From 538, one setting that works well is: \n",
    "\n",
    "$\\alpha_{j, t} = \\frac{250}{[M_{j, t} + 5]^{0.4}}$\n",
    "\n",
    "Where $M_{j, t}$ is the number of matches player $j$ has played up to time $t$.\n",
    "\n",
    "Is this particular to using baseline of $\\theta=1500$?"
   ]
  },
  {
   "cell_type": "code",
   "execution_count": 3,
   "metadata": {},
   "outputs": [
    {
     "data": {
      "text/plain": [
       "Text(0.5,1,'Strength of Update over Time')"
      ]
     },
     "execution_count": 3,
     "metadata": {},
     "output_type": "execute_result"
    },
    {
     "data": {
      "image/png": "[encoded data removed]",
      "text/plain": [
       "<Figure size 432x288 with 1 Axes>"
      ]
     },
     "metadata": {},
     "output_type": "display_data"
    }
   ],
   "source": [
    "%matplotlib inline\n",
    "\n",
    "from matplotlib import pyplot as plt\n",
    "import numpy as np\n",
    "\n",
    "# Plot alpha over time\n",
    "_x = np.arange(1000)\n",
    "_y = 250. / ((_x + 5) ** 0.4)\n",
    "plt.plot(_x, _y)\n",
    "plt.xlabel(\"Number of Matches Played\")\n",
    "plt.ylabel(\"Update Weight\")\n",
    "plt.title(\"Strength of Update over Time\")"
   ]
  },
  {
   "cell_type": "code",
   "execution_count": 4,
   "metadata": {},
   "outputs": [],
   "source": [
    "# For fair comparison to refitting + fatigue, remove dates before fatigue features populated.\n",
    "import pandas as pd\n",
    "\n",
    "df.drop(\n",
    "    df[df['date'] < pd.to_datetime('2000-01-01')].index,\n",
    "    inplace=True\n",
    ")"
   ]
  },
  {
   "cell_type": "code",
   "execution_count": 5,
   "metadata": {},
   "outputs": [],
   "source": [
    "import pandas as pd\n",
    "import numpy as np\n",
    "from collections import defaultdict\n",
    "from models.elo import EloModel\n",
    "\n",
    "# Tuned surface weights from before \n",
    "# TODO: Retune...\n",
    "SURFACE_WEIGHTS = {\n",
    "    'Clay': 1.0,\n",
    "    'Hard': 0.4,\n",
    "    'Grass': 0.0,\n",
    "    'Indoor': 0.6\n",
    "}\n",
    "def process_row(mod, row, beta_history, preds, weight_fn=None):\n",
    "    p1 = row['p1_idx']\n",
    "    p2 = row['p2_idx']\n",
    "\n",
    "    match_id = row['match_id']        \n",
    "    pred = mod.predict(p1, p2) \n",
    "    preds.append((match_id, pred))\n",
    "\n",
    "    if weight_fn is None:\n",
    "        weight = SURFACE_WEIGHTS[row['__surface__']]\n",
    "    else:\n",
    "        weight = weight_fn(row)\n",
    "    mod.update(p1, p2, row['y'], weight, match_id)\n",
    "    beta_history.append((match_id, mod.beta[p1], mod.beta[p2]))\n",
    "    return beta_history, preds \n",
    "    \n",
    "def elo_backfill(df, c=250., o=5., s=0.4, weight_fn=None):\n",
    "    mod = EloModel()\n",
    "    beta_history = []\n",
    "    preds = []\n",
    "    for _, row in df.iterrows():\n",
    "        beta_history, preds = process_row(\n",
    "            mod,\n",
    "            row,\n",
    "            beta_history,\n",
    "            preds,\n",
    "            weight_fn=weight_fn\n",
    "        )\n",
    "    return beta_history, preds"
   ]
  },
  {
   "cell_type": "code",
   "execution_count": 6,
   "metadata": {},
   "outputs": [],
   "source": [
    "beta_history, preds = elo_backfill(df, weight_fn=lambda row: SURFACE_WEIGHTS[row['__surface__']])"
   ]
  },
  {
   "cell_type": "code",
   "execution_count": 7,
   "metadata": {},
   "outputs": [],
   "source": [
    "df['pred'] = zip(*preds)[1]"
   ]
  },
  {
   "cell_type": "code",
   "execution_count": 8,
   "metadata": {},
   "outputs": [],
   "source": [
    "MIN_TEST_DATE = '2015-01-01'\n",
    "MAX_TEST_DATE = '2017-01-01'\n",
    "\n",
    "def _get_test_df(df, min_date, max_date, best_of=None):\n",
    "    _temp = df[\n",
    "        (df['date'] >= min_date) &\n",
    "        (df['date'] < max_date) &\n",
    "        (df['__surface__'] == 'Clay') &\n",
    "        (~df['comment'].isin(['Retired', 'Walkover']))  # Remove retire from test set\n",
    "    ]\n",
    "    if best_of is None:\n",
    "        return _temp\n",
    "    else:\n",
    "        return _temp[_temp['best of'] == best_of]"
   ]
  },
  {
   "cell_type": "code",
   "execution_count": 9,
   "metadata": {},
   "outputs": [],
   "source": [
    "from sklearn.metrics import roc_auc_score\n",
    "\n",
    "def compare_aucs(df):\n",
    "    rel_df = df[df['p1_b365'].notnull()]\n",
    "    return {\n",
    "        \"us\": roc_auc_score(rel_df['y'], rel_df['pred']),\n",
    "        \"B365\": roc_auc_score(rel_df['y'], 1. / rel_df['p1_b365'])\n",
    "    }\n"
   ]
  },
  {
   "cell_type": "code",
   "execution_count": 10,
   "metadata": {},
   "outputs": [
    {
     "data": {
      "text/plain": [
       "{'B365': 0.79100821744627059, 'us': 0.76102547894583294}"
      ]
     },
     "execution_count": 10,
     "metadata": {},
     "output_type": "execute_result"
    }
   ],
   "source": [
    "rec_df = _get_test_df(df, MIN_TEST_DATE, MAX_TEST_DATE)\n",
    "compare_aucs(rec_df)"
   ]
  },
  {
   "cell_type": "code",
   "execution_count": 11,
   "metadata": {},
   "outputs": [
    {
     "data": {
      "text/plain": [
       "0.76146226319930599"
      ]
     },
     "execution_count": 11,
     "metadata": {},
     "output_type": "execute_result"
    }
   ],
   "source": [
    "roc_auc_score(rec_df['y'], rec_df['pred'])"
   ]
  },
  {
   "cell_type": "markdown",
   "metadata": {},
   "source": [
    "#### Look at players over time"
   ]
  },
  {
   "cell_type": "code",
   "execution_count": null,
   "metadata": {},
   "outputs": [],
   "source": [
    "beta_history_df = pd.DataFrame(\n",
    "    beta_history,\n",
    "    columns=[\n",
    "        'match_id',\n",
    "        'p1_elo',\n",
    "        'p2_elo'\n",
    "    ]\n",
    ")\n",
    "history_df = pd.merge(df, beta_history_df, on='match_id', how='left')"
   ]
  },
  {
   "cell_type": "code",
   "execution_count": null,
   "metadata": {},
   "outputs": [],
   "source": [
    "%matplotlib inline\n",
    "from matplotlib import pyplot as plt\n",
    "\n",
    "\n",
    "def plot_player(df, player_name):\n",
    "    rel = df[\n",
    "        (df['p1_name'] == player_name) |\n",
    "        (df['p2_name'] == player_name)\n",
    "    ]\n",
    "    elo = rel['p1_elo'].copy()\n",
    "    elo.loc[\n",
    "        rel['p2_name'] == player_name\n",
    "    ] = rel.loc[\n",
    "        rel['p2_name'] == player_name,\n",
    "        'p2_elo'\n",
    "    ]\n",
    "    plt.plot(rel['date'], elo)"
   ]
  },
  {
   "cell_type": "code",
   "execution_count": null,
   "metadata": {},
   "outputs": [],
   "source": [
    "plot_player(history_df, \"Nadal R.\")\n",
    "plot_player(history_df, \"Federer R.\")\n",
    "plot_player(history_df, \"Murray A.\")\n",
    "plot_player(history_df, \"Djokovic N.\")"
   ]
  },
  {
   "cell_type": "markdown",
   "metadata": {},
   "source": [
    "This weighting works well, but above, it doesn't recognize the clear dominance of Rafa on clay vs. Federer's dominance on all other surfaces... "
   ]
  },
  {
   "cell_type": "markdown",
   "metadata": {},
   "source": [
    "#### Rescale Surface Weights"
   ]
  },
  {
   "cell_type": "markdown",
   "metadata": {},
   "source": [
    "The way that I'm currently using surface weights, they also adjust the step-size -- for example, if the first matches in each year are on hardcourt, immediately followed by clay, then my time weights are also off?  This is weird?  The weighting scheme should govern *relative steps,* not absolute steps.  Here, keeping the same relative step-size, I tune the average weight as a parameter."
   ]
  },
  {
   "cell_type": "code",
   "execution_count": null,
   "metadata": {},
   "outputs": [],
   "source": [
    "surface_weights = df['__surface__'].map(lambda x: SURFACE_WEIGHTS[x]).mean()\n",
    "ORIG_AVG_WEIGHT = surface_weights[surface_weights > 0].mean()  # Don't include 0's -- these aren't steps\n",
    "\n",
    "def surface_weight_row(row, target_avg_weight): \n",
    "    return SURFACE_WEIGHTS[row['__surface__']] * (target_avg_weight / ORIG_AVG_WEIGHT)"
   ]
  },
  {
   "cell_type": "code",
   "execution_count": null,
   "metadata": {},
   "outputs": [],
   "source": [
    "out = []\n",
    "for scaler in np.linspace(0.1, 3.1, 31):\n",
    "    print scaler\n",
    "    target_avg_weight = ORIG_AVG_WEIGHT * scaler\n",
    "    _, new_preds = elo_backfill(df, weight_fn=lambda x: surface_weight_row(x, target_avg_weight))\n",
    "    df['__pred__'] = zip(*new_preds)[1]\n",
    "    rec_df = _get_test_df(df, MIN_TEST_DATE, MAX_TEST_DATE)\n",
    "    auc = roc_auc_score(rec_df['y'], rec_df['__pred__'])\n",
    "    out.append((scaler, auc))"
   ]
  },
  {
   "cell_type": "code",
   "execution_count": null,
   "metadata": {},
   "outputs": [],
   "source": [
    "out"
   ]
  },
  {
   "cell_type": "markdown",
   "metadata": {},
   "source": [
    "#### Retune Relative Surface Weights"
   ]
  },
  {
   "cell_type": "markdown",
   "metadata": {},
   "source": [
    "#### Tune 3-set and 5-Set Weights\n",
    "\n",
    "Should make different predictions for 3-set and 5-set matches...should also be modeling probability of winning a set, rather than directly the probability of winning the match...\n",
    "\n",
    "For now, try just sample weighting..."
   ]
  },
  {
   "cell_type": "code",
   "execution_count": 30,
   "metadata": {},
   "outputs": [
    {
     "name": "stdout",
     "output_type": "stream",
     "text": [
      "0.0\n",
      "0.1\n",
      "0.2\n",
      "0.3\n",
      "0.4\n",
      "0.5\n",
      "0.6\n",
      "0.7\n",
      "0.8\n",
      "0.9\n",
      "1.0\n"
     ]
    }
   ],
   "source": [
    "def set_weight_row(row, set_d):\n",
    "    return set_d[row['best of']] * SURFACE_WEIGHTS[row['__surface__']]\n",
    "\n",
    "rec_df = _get_test_df(df, MIN_TEST_DATE, MAX_TEST_DATE, best_of=3)\n",
    "out = []\n",
    "\n",
    "for sw in np.linspace(0., 1., 11):\n",
    "    print sw\n",
    "    _, new_preds = elo_backfill(df, weight_fn=lambda x: set_weight_row(x, {3: 1., 5: sw}))\n",
    "    df['__pred__'] = zip(*new_preds)[1]\n",
    "    rec_df = _get_test_df(df, MIN_TEST_DATE, MAX_TEST_DATE, best_of=3)\n",
    "    auc = roc_auc_score(rec_df['y'], rec_df['__pred__'])\n",
    "    out.append((sw, auc))"
   ]
  },
  {
   "cell_type": "code",
   "execution_count": 31,
   "metadata": {
    "scrolled": true
   },
   "outputs": [
    {
     "data": {
      "text/plain": [
       "[(0.0, 0.73827227254292282),\n",
       " (0.10000000000000001, 0.73875838105730041),\n",
       " (0.20000000000000001, 0.73919846746380802),\n",
       " (0.30000000000000004, 0.73951486945541456),\n",
       " (0.40000000000000002, 0.73990605737231019),\n",
       " (0.5, 0.73994057395321267),\n",
       " (0.60000000000000009, 0.74025409956307764),\n",
       " (0.70000000000000007, 0.74028861614398012),\n",
       " (0.80000000000000004, 0.74037778397797849),\n",
       " (0.90000000000000002, 0.74041230055888096),\n",
       " (1.0, 0.74027423423527083)]"
      ]
     },
     "execution_count": 31,
     "metadata": {},
     "output_type": "execute_result"
    }
   ],
   "source": [
    "out"
   ]
  },
  {
   "cell_type": "code",
   "execution_count": null,
   "metadata": {},
   "outputs": [],
   "source": []
  }
 ],
 "metadata": {
  "kernelspec": {
   "display_name": "Python 2",
   "language": "python",
   "name": "python2"
  },
  "language_info": {
   "codemirror_mode": {
    "name": "ipython",
    "version": 2
   },
   "file_extension": ".py",
   "mimetype": "text/x-python",
   "name": "python",
   "nbconvert_exporter": "python",
   "pygments_lexer": "ipython2",
   "version": "2.7.10"
  }
 },
 "nbformat": 4,
 "nbformat_minor": 2
}
