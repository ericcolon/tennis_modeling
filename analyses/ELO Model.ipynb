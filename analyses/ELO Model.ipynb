{
 "cells": [
  {
   "cell_type": "markdown",
   "metadata": {},
   "source": [
    "In this notebook, we will try to build a very simple model to predict the outcome of tennis matched.  This is an ELO model.  Specifically, we will model\n",
    "\n",
    "$$p(y_1) = \\sigma(\\beta_1 - \\beta_2)$$, where $$\\beta_1$$ and $$\\beta_2$$ are coefficients for players 1 and 2 respectively"
   ]
  },
  {
   "cell_type": "code",
   "execution_count": 1,
   "metadata": {},
   "outputs": [],
   "source": [
    "from infra.defs import DATA_DIR\n",
    "import pandas as pd\n",
    "import os\n",
    "\n",
    "match_result_dir = os.path.join(DATA_DIR, 'match_results')\n",
    "\n",
    "df = pd.concat([\n",
    "    pd.read_csv(os.path.join(match_result_dir, f)) for f in os.listdir(match_result_dir)\n",
    "])"
   ]
  },
  {
   "cell_type": "code",
   "execution_count": 2,
   "metadata": {},
   "outputs": [],
   "source": [
    "df.rename(columns={x: x.lower() for x in df.columns}, inplace=True)"
   ]
  },
  {
   "cell_type": "code",
   "execution_count": 3,
   "metadata": {},
   "outputs": [],
   "source": [
    "# Drop rows with no result\n",
    "\n",
    "df.dropna(subset=['winner', 'loser'], inplace=True)"
   ]
  },
  {
   "cell_type": "code",
   "execution_count": 4,
   "metadata": {},
   "outputs": [
    {
     "data": {
      "text/plain": [
       "(50784, 59)"
      ]
     },
     "execution_count": 4,
     "metadata": {},
     "output_type": "execute_result"
    }
   ],
   "source": [
    "df.shape"
   ]
  },
  {
   "cell_type": "markdown",
   "metadata": {},
   "source": [
    "50k matches to work with"
   ]
  },
  {
   "cell_type": "markdown",
   "metadata": {},
   "source": [
    "#### Explore Player Frequencies"
   ]
  },
  {
   "cell_type": "code",
   "execution_count": 9,
   "metadata": {},
   "outputs": [],
   "source": [
    "# Convert dates to datetimes\n",
    "df['date'] = pd.to_datetime(df['date'])"
   ]
  },
  {
   "cell_type": "code",
   "execution_count": 11,
   "metadata": {},
   "outputs": [
    {
     "data": {
      "text/plain": [
       "1461"
      ]
     },
     "execution_count": 11,
     "metadata": {},
     "output_type": "execute_result"
    }
   ],
   "source": [
    "player_set = set(df['winner']) | set(df['loser'])\n",
    "n_players = len(player_set)\n",
    "n_players"
   ]
  },
  {
   "cell_type": "markdown",
   "metadata": {},
   "source": [
    "1461 total players.  Let's look at player frequency:"
   ]
  },
  {
   "cell_type": "code",
   "execution_count": 12,
   "metadata": {},
   "outputs": [
    {
     "data": {
      "text/plain": [
       "<matplotlib.axes._subplots.AxesSubplot at 0x111cc05d0>"
      ]
     },
     "execution_count": 12,
     "metadata": {},
     "output_type": "execute_result"
    },
    {
     "data": {
      "image/png": "[encoded data removed]",
      "text/plain": [
       "<Figure size 432x288 with 1 Axes>"
      ]
     },
     "metadata": {},
     "output_type": "display_data"
    }
   ],
   "source": [
    "%matplotlib inline\n",
    "all_players = pd.Series(df['winner'].tolist() + df['loser'].tolist())\n",
    "all_players.value_counts().hist(bins=100)"
   ]
  },
  {
   "cell_type": "markdown",
   "metadata": {},
   "source": [
    "There is clearly a long tail.  There are certain players that have played a lot of matches over this time period, and lots of players with very few"
   ]
  },
  {
   "cell_type": "code",
   "execution_count": 13,
   "metadata": {},
   "outputs": [
    {
     "data": {
      "text/plain": [
       "1    346\n",
       "2    180\n",
       "3     92\n",
       "4     63\n",
       "5     53\n",
       "dtype: int64"
      ]
     },
     "execution_count": 13,
     "metadata": {},
     "output_type": "execute_result"
    }
   ],
   "source": [
    "all_players.value_counts().value_counts().head()"
   ]
  },
  {
   "cell_type": "code",
   "execution_count": 14,
   "metadata": {},
   "outputs": [
    {
     "data": {
      "text/plain": [
       "Federer R.          1313\n",
       "Nadal R.            1051\n",
       "Ferrer D.           1040\n",
       "Djokovic N.          914\n",
       "Berdych T.           886\n",
       "Robredo T.           861\n",
       "Youzhny M.           860\n",
       "Lopez F.             856\n",
       "Verdasco F.          850\n",
       "Murray A.            801\n",
       "Davydenko N.         790\n",
       "Roddick A.           773\n",
       "Gasquet R.           770\n",
       "Kohlschreiber P.     729\n",
       "Hewitt L.            727\n",
       "Simon G.             721\n",
       "Wawrinka S.          698\n",
       "Nieminen J.          695\n",
       "Haas T.              691\n",
       "Ferrero J.C.         682\n",
       "dtype: int64"
      ]
     },
     "execution_count": 14,
     "metadata": {},
     "output_type": "execute_result"
    }
   ],
   "source": [
    "all_players.value_counts().head(20)"
   ]
  },
  {
   "cell_type": "markdown",
   "metadata": {},
   "source": [
    "The players who appear most often are the best players..."
   ]
  },
  {
   "cell_type": "markdown",
   "metadata": {},
   "source": [
    "#### Get player indices"
   ]
  },
  {
   "cell_type": "code",
   "execution_count": 15,
   "metadata": {},
   "outputs": [],
   "source": [
    "player_idx_dict = dict(list(enumerate(player_set)))\n",
    "player_mapping = {v: k for k, v in player_idx_dict.iteritems()}"
   ]
  },
  {
   "cell_type": "code",
   "execution_count": 32,
   "metadata": {},
   "outputs": [
    {
     "data": {
      "text/plain": [
       "1461"
      ]
     },
     "execution_count": 32,
     "metadata": {},
     "output_type": "execute_result"
    }
   ],
   "source": [
    "n_players = len(player_mapping)\n",
    "n_players"
   ]
  },
  {
   "cell_type": "code",
   "execution_count": 19,
   "metadata": {},
   "outputs": [],
   "source": [
    "df['winner_idx'] = df['winner'].map(lambda x: player_mapping[x])\n",
    "df['loser_idx'] = df['loser'].map(lambda x: player_mapping[x])"
   ]
  },
  {
   "cell_type": "markdown",
   "metadata": {},
   "source": [
    "#### Set up training data\n",
    "\n",
    "First, we'll just try training on everything in this time period and see what happens.  Later, we will split into train and test sets and figure out appropriate discounting, etc."
   ]
  },
  {
   "cell_type": "code",
   "execution_count": 53,
   "metadata": {},
   "outputs": [],
   "source": [
    "# Shuffle winners and losers so y can have both 0's and 1's.\n",
    "\n",
    "df['__chooser__'] = np.random.binomial(1, 0.5, size=df.shape[0])\n",
    "df['p1_idx'] = df.apply(\n",
    "    lambda row: row['winner_idx'] if row['__chooser__'] == 1 else row['loser_idx'],\n",
    "    axis=1\n",
    ")\n",
    "df['p2_idx'] = df.apply(\n",
    "    lambda row: row['winner_idx'] if row['__chooser__'] == 0 else row['loser_idx'],\n",
    "    axis=1\n",
    ")\n",
    "df['y'] = df['__chooser__'] "
   ]
  },
  {
   "cell_type": "code",
   "execution_count": 57,
   "metadata": {},
   "outputs": [
    {
     "data": {
      "text/html": [
       "<div>\n",
       "<table border=\"1\" class=\"dataframe\">\n",
       "  <thead>\n",
       "    <tr style=\"text-align: right;\">\n",
       "      <th></th>\n",
       "      <th>winner_idx</th>\n",
       "      <th>loser_idx</th>\n",
       "      <th>__chooser__</th>\n",
       "      <th>p1_idx</th>\n",
       "      <th>p2_idx</th>\n",
       "      <th>y</th>\n",
       "    </tr>\n",
       "  </thead>\n",
       "  <tbody>\n",
       "    <tr>\n",
       "      <th>0</th>\n",
       "      <td>1003</td>\n",
       "      <td>174</td>\n",
       "      <td>1</td>\n",
       "      <td>1003</td>\n",
       "      <td>174</td>\n",
       "      <td>1</td>\n",
       "    </tr>\n",
       "    <tr>\n",
       "      <th>1</th>\n",
       "      <td>112</td>\n",
       "      <td>1398</td>\n",
       "      <td>1</td>\n",
       "      <td>112</td>\n",
       "      <td>1398</td>\n",
       "      <td>1</td>\n",
       "    </tr>\n",
       "    <tr>\n",
       "      <th>2</th>\n",
       "      <td>107</td>\n",
       "      <td>593</td>\n",
       "      <td>0</td>\n",
       "      <td>593</td>\n",
       "      <td>107</td>\n",
       "      <td>0</td>\n",
       "    </tr>\n",
       "    <tr>\n",
       "      <th>3</th>\n",
       "      <td>802</td>\n",
       "      <td>562</td>\n",
       "      <td>0</td>\n",
       "      <td>562</td>\n",
       "      <td>802</td>\n",
       "      <td>0</td>\n",
       "    </tr>\n",
       "    <tr>\n",
       "      <th>4</th>\n",
       "      <td>1066</td>\n",
       "      <td>156</td>\n",
       "      <td>0</td>\n",
       "      <td>156</td>\n",
       "      <td>1066</td>\n",
       "      <td>0</td>\n",
       "    </tr>\n",
       "  </tbody>\n",
       "</table>\n",
       "</div>"
      ],
      "text/plain": [
       "   winner_idx  loser_idx  __chooser__  p1_idx  p2_idx  y\n",
       "0        1003        174            1    1003     174  1\n",
       "1         112       1398            1     112    1398  1\n",
       "2         107        593            0     593     107  0\n",
       "3         802        562            0     562     802  0\n",
       "4        1066        156            0     156    1066  0"
      ]
     },
     "execution_count": 57,
     "metadata": {},
     "output_type": "execute_result"
    }
   ],
   "source": [
    "df[[\n",
    "    'winner_idx',\n",
    "    'loser_idx',\n",
    "    '__chooser__',\n",
    "    'p1_idx',\n",
    "    'p2_idx',\n",
    "    'y'\n",
    "]].head()"
   ]
  },
  {
   "cell_type": "code",
   "execution_count": 58,
   "metadata": {},
   "outputs": [],
   "source": [
    "from scipy.sparse import csc_matrix\n",
    "import numpy as np\n",
    "\n",
    "n = df.shape[0]\n",
    "p1_data = np.ones(n)\n",
    "p1_row = np.arange(n)\n",
    "p1_col = df['p1_idx'].values\n",
    "\n",
    "p2_data = -np.ones(n)\n",
    "p2_row = np.arange(n)\n",
    "p2_col = df['p2_idx'].values\n",
    "all_data = np.concatenate([p1_data, p2_data])\n",
    "all_row = np.concatenate([p1_row, p2_row])\n",
    "all_col = np.concatenate([p1_col, p2_col])\n",
    "\n",
    "X = csc_matrix((all_data, (all_row, all_col)), shape=(n, n_players))"
   ]
  },
  {
   "cell_type": "code",
   "execution_count": 59,
   "metadata": {},
   "outputs": [],
   "source": [
    "assert ((X != 0).sum(axis=1) == 2).all()"
   ]
  },
  {
   "cell_type": "code",
   "execution_count": 61,
   "metadata": {},
   "outputs": [],
   "source": [
    "y = df['y']"
   ]
  },
  {
   "cell_type": "code",
   "execution_count": 62,
   "metadata": {},
   "outputs": [
    {
     "data": {
      "text/plain": [
       "LogisticRegression(C=1.0, class_weight=None, dual=False, fit_intercept=False,\n",
       "          intercept_scaling=1, max_iter=100, multi_class='ovr', n_jobs=1,\n",
       "          penalty='l2', random_state=None, solver='liblinear', tol=0.0001,\n",
       "          verbose=0, warm_start=False)"
      ]
     },
     "execution_count": 62,
     "metadata": {},
     "output_type": "execute_result"
    }
   ],
   "source": [
    "from sklearn.linear_model import LogisticRegression\n",
    "\n",
    "logit = LogisticRegression(fit_intercept=False)\n",
    "logit.fit(X, y)"
   ]
  },
  {
   "cell_type": "code",
   "execution_count": 63,
   "metadata": {},
   "outputs": [
    {
     "data": {
      "text/plain": [
       "array([[ 0.22191496, -0.25626623,  3.19977424, ..., -0.05375489,\n",
       "        -0.4447485 ,  0.18612639]])"
      ]
     },
     "execution_count": 63,
     "metadata": {},
     "output_type": "execute_result"
    }
   ],
   "source": [
    "logit.coef_"
   ]
  },
  {
   "cell_type": "code",
   "execution_count": 74,
   "metadata": {},
   "outputs": [
    {
     "data": {
      "text/html": [
       "<div>\n",
       "<table border=\"1\" class=\"dataframe\">\n",
       "  <thead>\n",
       "    <tr style=\"text-align: right;\">\n",
       "      <th></th>\n",
       "      <th>player_idx</th>\n",
       "      <th>coef</th>\n",
       "      <th>player_name</th>\n",
       "    </tr>\n",
       "  </thead>\n",
       "  <tbody>\n",
       "    <tr>\n",
       "      <th>2</th>\n",
       "      <td>2</td>\n",
       "      <td>3.199774</td>\n",
       "      <td>Djokovic N.</td>\n",
       "    </tr>\n",
       "    <tr>\n",
       "      <th>802</th>\n",
       "      <td>802</td>\n",
       "      <td>3.101990</td>\n",
       "      <td>Federer R.</td>\n",
       "    </tr>\n",
       "    <tr>\n",
       "      <th>55</th>\n",
       "      <td>55</td>\n",
       "      <td>3.067397</td>\n",
       "      <td>Nadal R.</td>\n",
       "    </tr>\n",
       "    <tr>\n",
       "      <th>290</th>\n",
       "      <td>290</td>\n",
       "      <td>2.732722</td>\n",
       "      <td>Murray A.</td>\n",
       "    </tr>\n",
       "    <tr>\n",
       "      <th>1254</th>\n",
       "      <td>1254</td>\n",
       "      <td>2.349848</td>\n",
       "      <td>Roddick A.</td>\n",
       "    </tr>\n",
       "    <tr>\n",
       "      <th>941</th>\n",
       "      <td>941</td>\n",
       "      <td>2.323876</td>\n",
       "      <td>Agassi A.</td>\n",
       "    </tr>\n",
       "    <tr>\n",
       "      <th>749</th>\n",
       "      <td>749</td>\n",
       "      <td>2.295886</td>\n",
       "      <td>Del Potro J.M.</td>\n",
       "    </tr>\n",
       "    <tr>\n",
       "      <th>1226</th>\n",
       "      <td>1226</td>\n",
       "      <td>2.122364</td>\n",
       "      <td>Tsonga J.W.</td>\n",
       "    </tr>\n",
       "    <tr>\n",
       "      <th>1068</th>\n",
       "      <td>1068</td>\n",
       "      <td>2.074555</td>\n",
       "      <td>Hewitt L.</td>\n",
       "    </tr>\n",
       "    <tr>\n",
       "      <th>1223</th>\n",
       "      <td>1223</td>\n",
       "      <td>2.025943</td>\n",
       "      <td>Raonic M.</td>\n",
       "    </tr>\n",
       "    <tr>\n",
       "      <th>84</th>\n",
       "      <td>84</td>\n",
       "      <td>1.954734</td>\n",
       "      <td>Sampras P.</td>\n",
       "    </tr>\n",
       "    <tr>\n",
       "      <th>885</th>\n",
       "      <td>885</td>\n",
       "      <td>1.944370</td>\n",
       "      <td>Berdych T.</td>\n",
       "    </tr>\n",
       "    <tr>\n",
       "      <th>637</th>\n",
       "      <td>637</td>\n",
       "      <td>1.939709</td>\n",
       "      <td>Nishikori K.</td>\n",
       "    </tr>\n",
       "    <tr>\n",
       "      <th>891</th>\n",
       "      <td>891</td>\n",
       "      <td>1.933609</td>\n",
       "      <td>Ferrer D.</td>\n",
       "    </tr>\n",
       "    <tr>\n",
       "      <th>1298</th>\n",
       "      <td>1298</td>\n",
       "      <td>1.901127</td>\n",
       "      <td>Nalbandian D.</td>\n",
       "    </tr>\n",
       "    <tr>\n",
       "      <th>697</th>\n",
       "      <td>697</td>\n",
       "      <td>1.881312</td>\n",
       "      <td>Wawrinka S.</td>\n",
       "    </tr>\n",
       "    <tr>\n",
       "      <th>1264</th>\n",
       "      <td>1264</td>\n",
       "      <td>1.853330</td>\n",
       "      <td>Rafter P.</td>\n",
       "    </tr>\n",
       "    <tr>\n",
       "      <th>306</th>\n",
       "      <td>306</td>\n",
       "      <td>1.826186</td>\n",
       "      <td>Soderling R.</td>\n",
       "    </tr>\n",
       "    <tr>\n",
       "      <th>1455</th>\n",
       "      <td>1455</td>\n",
       "      <td>1.821869</td>\n",
       "      <td>Zverev A.</td>\n",
       "    </tr>\n",
       "    <tr>\n",
       "      <th>507</th>\n",
       "      <td>507</td>\n",
       "      <td>1.804560</td>\n",
       "      <td>Cilic M.</td>\n",
       "    </tr>\n",
       "    <tr>\n",
       "      <th>540</th>\n",
       "      <td>540</td>\n",
       "      <td>1.788835</td>\n",
       "      <td>Kyrgios N.</td>\n",
       "    </tr>\n",
       "    <tr>\n",
       "      <th>242</th>\n",
       "      <td>242</td>\n",
       "      <td>1.765817</td>\n",
       "      <td>Henman T.</td>\n",
       "    </tr>\n",
       "    <tr>\n",
       "      <th>701</th>\n",
       "      <td>701</td>\n",
       "      <td>1.756679</td>\n",
       "      <td>Kuerten G.</td>\n",
       "    </tr>\n",
       "    <tr>\n",
       "      <th>731</th>\n",
       "      <td>731</td>\n",
       "      <td>1.731628</td>\n",
       "      <td>Coria G.</td>\n",
       "    </tr>\n",
       "    <tr>\n",
       "      <th>395</th>\n",
       "      <td>395</td>\n",
       "      <td>1.729081</td>\n",
       "      <td>Gasquet R.</td>\n",
       "    </tr>\n",
       "    <tr>\n",
       "      <th>955</th>\n",
       "      <td>955</td>\n",
       "      <td>1.708911</td>\n",
       "      <td>Gonzalez F.</td>\n",
       "    </tr>\n",
       "    <tr>\n",
       "      <th>1364</th>\n",
       "      <td>1364</td>\n",
       "      <td>1.690913</td>\n",
       "      <td>Monfils G.</td>\n",
       "    </tr>\n",
       "    <tr>\n",
       "      <th>20</th>\n",
       "      <td>20</td>\n",
       "      <td>1.688573</td>\n",
       "      <td>Ferrero J.C.</td>\n",
       "    </tr>\n",
       "    <tr>\n",
       "      <th>957</th>\n",
       "      <td>957</td>\n",
       "      <td>1.687930</td>\n",
       "      <td>Dimitrov G.</td>\n",
       "    </tr>\n",
       "    <tr>\n",
       "      <th>74</th>\n",
       "      <td>74</td>\n",
       "      <td>1.678750</td>\n",
       "      <td>Bautista Agut R.</td>\n",
       "    </tr>\n",
       "    <tr>\n",
       "      <th>...</th>\n",
       "      <td>...</td>\n",
       "      <td>...</td>\n",
       "      <td>...</td>\n",
       "    </tr>\n",
       "    <tr>\n",
       "      <th>161</th>\n",
       "      <td>161</td>\n",
       "      <td>-0.893192</td>\n",
       "      <td>El Aarej M.</td>\n",
       "    </tr>\n",
       "    <tr>\n",
       "      <th>1207</th>\n",
       "      <td>1207</td>\n",
       "      <td>-0.895411</td>\n",
       "      <td>Kindlmann D.</td>\n",
       "    </tr>\n",
       "    <tr>\n",
       "      <th>457</th>\n",
       "      <td>457</td>\n",
       "      <td>-0.897094</td>\n",
       "      <td>Lu Y.</td>\n",
       "    </tr>\n",
       "    <tr>\n",
       "      <th>1434</th>\n",
       "      <td>1434</td>\n",
       "      <td>-0.906394</td>\n",
       "      <td>Ram A.</td>\n",
       "    </tr>\n",
       "    <tr>\n",
       "      <th>644</th>\n",
       "      <td>644</td>\n",
       "      <td>-0.921418</td>\n",
       "      <td>Eriksson M.</td>\n",
       "    </tr>\n",
       "    <tr>\n",
       "      <th>929</th>\n",
       "      <td>929</td>\n",
       "      <td>-0.928807</td>\n",
       "      <td>Mitchell B.</td>\n",
       "    </tr>\n",
       "    <tr>\n",
       "      <th>845</th>\n",
       "      <td>845</td>\n",
       "      <td>-0.933919</td>\n",
       "      <td>Lokoli L.</td>\n",
       "    </tr>\n",
       "    <tr>\n",
       "      <th>1377</th>\n",
       "      <td>1377</td>\n",
       "      <td>-0.959425</td>\n",
       "      <td>Bhupathi M.</td>\n",
       "    </tr>\n",
       "    <tr>\n",
       "      <th>1121</th>\n",
       "      <td>1121</td>\n",
       "      <td>-0.961884</td>\n",
       "      <td>Mcdonald M.</td>\n",
       "    </tr>\n",
       "    <tr>\n",
       "      <th>230</th>\n",
       "      <td>230</td>\n",
       "      <td>-0.966258</td>\n",
       "      <td>Goodall J.</td>\n",
       "    </tr>\n",
       "    <tr>\n",
       "      <th>998</th>\n",
       "      <td>998</td>\n",
       "      <td>-0.966941</td>\n",
       "      <td>Salva B.</td>\n",
       "    </tr>\n",
       "    <tr>\n",
       "      <th>1408</th>\n",
       "      <td>1408</td>\n",
       "      <td>-0.969625</td>\n",
       "      <td>Dustov F.</td>\n",
       "    </tr>\n",
       "    <tr>\n",
       "      <th>1258</th>\n",
       "      <td>1258</td>\n",
       "      <td>-0.971097</td>\n",
       "      <td>Garza D.</td>\n",
       "    </tr>\n",
       "    <tr>\n",
       "      <th>227</th>\n",
       "      <td>227</td>\n",
       "      <td>-0.986855</td>\n",
       "      <td>Cox D.</td>\n",
       "    </tr>\n",
       "    <tr>\n",
       "      <th>236</th>\n",
       "      <td>236</td>\n",
       "      <td>-0.988362</td>\n",
       "      <td>King P.</td>\n",
       "    </tr>\n",
       "    <tr>\n",
       "      <th>708</th>\n",
       "      <td>708</td>\n",
       "      <td>-0.997957</td>\n",
       "      <td>Fukarek O.</td>\n",
       "    </tr>\n",
       "    <tr>\n",
       "      <th>568</th>\n",
       "      <td>568</td>\n",
       "      <td>-1.005869</td>\n",
       "      <td>Luxa P.</td>\n",
       "    </tr>\n",
       "    <tr>\n",
       "      <th>1230</th>\n",
       "      <td>1230</td>\n",
       "      <td>-1.029693</td>\n",
       "      <td>Kulti N.</td>\n",
       "    </tr>\n",
       "    <tr>\n",
       "      <th>322</th>\n",
       "      <td>322</td>\n",
       "      <td>-1.030478</td>\n",
       "      <td>Economidis K.</td>\n",
       "    </tr>\n",
       "    <tr>\n",
       "      <th>577</th>\n",
       "      <td>577</td>\n",
       "      <td>-1.048767</td>\n",
       "      <td>King-Turner D.</td>\n",
       "    </tr>\n",
       "    <tr>\n",
       "      <th>1015</th>\n",
       "      <td>1015</td>\n",
       "      <td>-1.049825</td>\n",
       "      <td>Bahrouzyan O.</td>\n",
       "    </tr>\n",
       "    <tr>\n",
       "      <th>738</th>\n",
       "      <td>738</td>\n",
       "      <td>-1.073014</td>\n",
       "      <td>Clezar G.</td>\n",
       "    </tr>\n",
       "    <tr>\n",
       "      <th>913</th>\n",
       "      <td>913</td>\n",
       "      <td>-1.124082</td>\n",
       "      <td>Onoda M.</td>\n",
       "    </tr>\n",
       "    <tr>\n",
       "      <th>707</th>\n",
       "      <td>707</td>\n",
       "      <td>-1.184767</td>\n",
       "      <td>Mackin A.</td>\n",
       "    </tr>\n",
       "    <tr>\n",
       "      <th>581</th>\n",
       "      <td>581</td>\n",
       "      <td>-1.187901</td>\n",
       "      <td>Lopez-Moron A.</td>\n",
       "    </tr>\n",
       "    <tr>\n",
       "      <th>1358</th>\n",
       "      <td>1358</td>\n",
       "      <td>-1.220204</td>\n",
       "      <td>Arguello F.</td>\n",
       "    </tr>\n",
       "    <tr>\n",
       "      <th>1050</th>\n",
       "      <td>1050</td>\n",
       "      <td>-1.257389</td>\n",
       "      <td>Fischer M.</td>\n",
       "    </tr>\n",
       "    <tr>\n",
       "      <th>748</th>\n",
       "      <td>748</td>\n",
       "      <td>-1.268478</td>\n",
       "      <td>Ilkel C.</td>\n",
       "    </tr>\n",
       "    <tr>\n",
       "      <th>473</th>\n",
       "      <td>473</td>\n",
       "      <td>-1.358123</td>\n",
       "      <td>Prodon E.</td>\n",
       "    </tr>\n",
       "    <tr>\n",
       "      <th>393</th>\n",
       "      <td>393</td>\n",
       "      <td>-1.413354</td>\n",
       "      <td>Nielsen F.</td>\n",
       "    </tr>\n",
       "  </tbody>\n",
       "</table>\n",
       "<p>1461 rows × 3 columns</p>\n",
       "</div>"
      ],
      "text/plain": [
       "      player_idx      coef       player_name\n",
       "2              2  3.199774       Djokovic N.\n",
       "802          802  3.101990        Federer R.\n",
       "55            55  3.067397          Nadal R.\n",
       "290          290  2.732722         Murray A.\n",
       "1254        1254  2.349848        Roddick A.\n",
       "941          941  2.323876         Agassi A.\n",
       "749          749  2.295886    Del Potro J.M.\n",
       "1226        1226  2.122364       Tsonga J.W.\n",
       "1068        1068  2.074555         Hewitt L.\n",
       "1223        1223  2.025943         Raonic M.\n",
       "84            84  1.954734        Sampras P.\n",
       "885          885  1.944370        Berdych T.\n",
       "637          637  1.939709      Nishikori K.\n",
       "891          891  1.933609         Ferrer D.\n",
       "1298        1298  1.901127     Nalbandian D.\n",
       "697          697  1.881312       Wawrinka S.\n",
       "1264        1264  1.853330         Rafter P.\n",
       "306          306  1.826186      Soderling R.\n",
       "1455        1455  1.821869         Zverev A.\n",
       "507          507  1.804560          Cilic M.\n",
       "540          540  1.788835        Kyrgios N.\n",
       "242          242  1.765817         Henman T.\n",
       "701          701  1.756679        Kuerten G.\n",
       "731          731  1.731628          Coria G.\n",
       "395          395  1.729081        Gasquet R.\n",
       "955          955  1.708911       Gonzalez F.\n",
       "1364        1364  1.690913        Monfils G.\n",
       "20            20  1.688573      Ferrero J.C.\n",
       "957          957  1.687930       Dimitrov G.\n",
       "74            74  1.678750  Bautista Agut R.\n",
       "...          ...       ...               ...\n",
       "161          161 -0.893192       El Aarej M.\n",
       "1207        1207 -0.895411      Kindlmann D.\n",
       "457          457 -0.897094             Lu Y.\n",
       "1434        1434 -0.906394            Ram A.\n",
       "644          644 -0.921418       Eriksson M.\n",
       "929          929 -0.928807       Mitchell B.\n",
       "845          845 -0.933919         Lokoli L.\n",
       "1377        1377 -0.959425       Bhupathi M.\n",
       "1121        1121 -0.961884       Mcdonald M.\n",
       "230          230 -0.966258        Goodall J.\n",
       "998          998 -0.966941          Salva B.\n",
       "1408        1408 -0.969625         Dustov F.\n",
       "1258        1258 -0.971097          Garza D.\n",
       "227          227 -0.986855            Cox D.\n",
       "236          236 -0.988362           King P.\n",
       "708          708 -0.997957        Fukarek O.\n",
       "568          568 -1.005869           Luxa P.\n",
       "1230        1230 -1.029693          Kulti N.\n",
       "322          322 -1.030478     Economidis K.\n",
       "577          577 -1.048767    King-Turner D.\n",
       "1015        1015 -1.049825     Bahrouzyan O.\n",
       "738          738 -1.073014         Clezar G.\n",
       "913          913 -1.124082          Onoda M.\n",
       "707          707 -1.184767         Mackin A.\n",
       "581          581 -1.187901    Lopez-Moron A.\n",
       "1358        1358 -1.220204       Arguello F.\n",
       "1050        1050 -1.257389        Fischer M.\n",
       "748          748 -1.268478          Ilkel C.\n",
       "473          473 -1.358123         Prodon E.\n",
       "393          393 -1.413354        Nielsen F.\n",
       "\n",
       "[1461 rows x 3 columns]"
      ]
     },
     "execution_count": 74,
     "metadata": {},
     "output_type": "execute_result"
    }
   ],
   "source": [
    "def describe_result(logit_mod):\n",
    "    coef_df = pd.DataFrame(\n",
    "        list(enumerate(logit_mod.coef_[0])),\n",
    "        columns=['player_idx', 'coef']\n",
    "    )\n",
    "    coef_df['player_name'] = coef_df['player_idx'].map(lambda x: player_idx_dict[x])\n",
    "    return coef_df.sort_values(by='coef', ascending=False)\n",
    "\n",
    "describe_result(logit)"
   ]
  }
 ],
 "metadata": {
  "kernelspec": {
   "display_name": "Python 2",
   "language": "python",
   "name": "python2"
  },
  "language_info": {
   "codemirror_mode": {
    "name": "ipython",
    "version": 2
   },
   "file_extension": ".py",
   "mimetype": "text/x-python",
   "name": "python",
   "nbconvert_exporter": "python",
   "pygments_lexer": "ipython2",
   "version": "2.7.10"
  }
 },
 "nbformat": 4,
 "nbformat_minor": 2
}
